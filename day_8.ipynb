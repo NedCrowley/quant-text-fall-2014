{
 "metadata": {
  "name": "",
  "signature": "sha256:bdba590c366813ed78bc129804eb79afee47c8dafdf2afbbd3928493664261ab"
 },
 "nbformat": 3,
 "nbformat_minor": 0,
 "worksheets": [
  {
   "cells": [
    {
     "cell_type": "markdown",
     "metadata": {},
     "source": [
      "### Political Emails 1\n",
      "\n",
      "A friend of a friend wanted us to make sense of some political emails she received. Our mission for today is clean up the data and get a list of the most frequently used words in the emails. Our second mission to is try and figure out what interesting questions we could answer with this data.  \n",
      "\n",
      "Teams:  \n",
      "Akram & Mary Beth  \n",
      "Taylor & Lena  \n",
      "Ali & Joseph  \n",
      "David & Didem  \n",
      "Gabriele & Karam  \n",
      "\n"
     ]
    },
    {
     "cell_type": "code",
     "collapsed": false,
     "input": [
      "import requests"
     ],
     "language": "python",
     "metadata": {},
     "outputs": [],
     "prompt_number": 1
    },
    {
     "cell_type": "code",
     "collapsed": false,
     "input": [
      "url = 'https://raw.githubusercontent.com/nealcaren/quant-text-fall-2014/master/donor_emails.txt'\n",
      "text = requests.get(url).text\n",
      "emails = text.split('||||||')"
     ],
     "language": "python",
     "metadata": {},
     "outputs": [],
     "prompt_number": 2
    },
    {
     "cell_type": "code",
     "collapsed": false,
     "input": [
      "len(emails)"
     ],
     "language": "python",
     "metadata": {},
     "outputs": [
      {
       "metadata": {},
       "output_type": "pyout",
       "prompt_number": 3,
       "text": [
        "2663"
       ]
      }
     ],
     "prompt_number": 3
    },
    {
     "cell_type": "code",
     "collapsed": false,
     "input": [
      "emails[5]"
     ],
     "language": "python",
     "metadata": {},
     "outputs": [
      {
       "metadata": {},
       "output_type": "pyout",
       "prompt_number": 4,
       "text": [
        "u\"\\nFrom: Michelle Obama <info@barackobama.com>\\n\\nSubject: A little fun\\n\\nDate: April 27, 2012 11:42:39 AM EDT\\n\\nTo: Victoria Bassetti <victoria.bassetti@gmail.com>\\n\\nReply-To: info@barackobama.com\\n\\nVictoria --\\n\\nBarack and I know how hard so many of you are working on this campaign -- and we're grateful for it.\\n\\nBut sometimes you just need to have a little fun, too.\\n\\nThat's why I hope you'll take us up on the chance to join Barack at George Clooney's house on May 10th for what will be a pretty amazing event.\\n\\nChip in with a grassroots donation today, and you'll be automatically entered to join them:\\n\\nhttps://donate.barackobama.com/Barack-and-George\\n\\nThanks for all you do,\\n\\nMichelle\\n\\nNo purchase, payment, or contribution necessary to enter or win. Contributing will not improve chances of winning. Void where prohibited. Entries must be received by April 30, 2012. You may enter by contributing to Sponsor here or click here to enter without contributing. Two winners will each receive the following prize package: round-trip tickets for winner and a guest from within the fifty U.S. States, DC, or Puerto Rico to a destination to be determined by the Sponsor; hotel accommodations; and dinner with President Obama and George Clooney on a date to be determined by the Sponsor (approximate retail value of all prizes $3,200). Odds of winning depend on number of entries received. Promotion open only to U.S. citizens, or lawful permanent U.S. residents who are legal residents of 50 United States, District of Columbia and Puerto Rico and 18 or older (or of majority under applicable law). Promotion subject to Official Rules and additional restrictions on eligibility. Sponsor: Obama for America, 130 E. Randolph St., Chicago, IL 60601.\\n\\nContributions or gifts to Obama for America are not tax deductible\\nThis email was sent to: victoria.bassetti@gmail.com\\n\\nUpdate address | Unsubscribe\\n\\n\""
       ]
      }
     ],
     "prompt_number": 4
    },
    {
     "cell_type": "code",
     "collapsed": false,
     "input": [
      "from collections import Counter\n",
      "Counter(emails[5].split())"
     ],
     "language": "python",
     "metadata": {},
     "outputs": [
      {
       "metadata": {},
       "output_type": "pyout",
       "prompt_number": 8,
       "text": [
        "Counter({u'to': 12, u'and': 9, u'of': 8, u'or': 7, u'for': 6, u'on': 6, u'a': 6, u'be': 5, u'the': 5, u'by': 4, u'Obama': 4, u'are': 3, u'U.S.': 3, u'will': 3, u'you': 3, u'enter': 3, u'all': 2, u'residents': 2, u'Victoria': 2, u'Michelle': 2, u'not': 2, u'--': 2, u'George': 2, u'Barack': 2, u'Rico': 2, u'here': 2, u'Promotion': 2, u'little': 2, u'States,': 2, u'with': 2, u'join': 2, u'determined': 2, u'Sponsor': 2, u'Puerto': 2, u'I': 2, u'April': 2, u\"you'll\": 2, u'United': 1, u'just': 1, u'grassroots': 1, u'chances': 1, u'sent': 1, u'fifty': 1, u'130': 1, u'grateful': 1, u'2012.': 1, u'restrictions': 1, u'depend': 1, u'majority': 1, u'Rules': 1, u'payment,': 1, u'winner': 1, u'Update': 1, u'$3,200).': 1, u'(approximate': 1, u'winners': 1, u'pretty': 1, u'Entries': 1, u'must': 1, u'hope': 1, u'2012': 1, u'it.': 1, u'DC,': 1, u'Odds': 1, u'number': 1, u'know': 1, u'entries': 1, u'today,': 1, u'winning.': 1, u'tickets': 1, u'America,': 1, u'necessary': 1, u'prize': 1, u'them:': 1, u'(or': 1, u'Thanks': 1, u'each': 1, u'where': 1, u'District': 1, u'house': 1, u'Date:': 1, u'27,': 1, u'50': 1, u'package:': 1, u'click': 1, u'subject': 1, u'what': 1, u'E.': 1, u'Chicago,': 1, u\"Clooney's\": 1, u'legal': 1, u'contributing': 1, u'may': 1, u'St.,': 1, u'America': 1, u'email': 1, u'EDT': 1, u'This': 1, u'Official': 1, u'following': 1, u'30,': 1, u'address': 1, u'Columbia': 1, u'round-trip': 1, u'received.': 1, u'improve': 1, u'deductible': 1, u'Sponsor:': 1, u'Sponsor;': 1, u'<info@barackobama.com>': 1, u'receive': 1, u'many': 1, u'Chip': 1, u'chance': 1, u'|': 1, u'dinner': 1, u'contribution': 1, u'retail': 1, u'automatically': 1, u'IL': 1, u'eligibility.': 1, u'victoria.bassetti@gmail.com': 1, u'campaign': 1, u'No': 1, u'too.': 1, u'within': 1, u'Two': 1, u'Contributing': 1, u'<victoria.bassetti@gmail.com>': 1, u'contributing.': 1, u'fun,': 1, u'winning': 1, u'open': 1, u'from': 1, u'guest': 1, u'working': 1, u'destination': 1, u'only': 1, u'But': 1, u'permanent': 1, u'11:42:39': 1, u\"we're\": 1, u'Unsubscribe': 1, u'entered': 1, u'was': 1, u'To:': 1, u'event.': 1, u'hard': 1, u'Reply-To:': 1, u'received': 1, u'hotel': 1, u'citizens,': 1, u'applicable': 1, u'prizes': 1, u'60601.': 1, u'Subject:': 1, u'law).': 1, u\"That's\": 1, u'to:': 1, u'this': 1, u'18': 1, u'up': 1, u'us': 1, u'https://donate.barackobama.com/Barack-and-George': 1, u'fun': 1, u'under': 1, u'10th': 1, u'tax': 1, u'additional': 1, u'lawful': 1, u'at': 1, u'have': 1, u'in': 1, u'need': 1, u'prohibited.': 1, u'You': 1, u'do,': 1, u'May': 1, u'Void': 1, u'info@barackobama.com': 1, u'how': 1, u'amazing': 1, u'without': 1, u'win.': 1, u'take': 1, u'President': 1, u'From:': 1, u'A': 1, u'who': 1, u'AM': 1, u'gifts': 1, u'donation': 1, u'value': 1, u'date': 1, u'Clooney': 1, u'why': 1, u'purchase,': 1, u'older': 1, u'Contributions': 1, u'sometimes': 1, u'accommodations;': 1, u'Bassetti': 1, u'so': 1, u'Randolph': 1})"
       ]
      }
     ],
     "prompt_number": 8
    },
    {
     "cell_type": "code",
     "collapsed": false,
     "input": [
      "from nltk.corpus import stopwords\n",
      "stopword_list = stopwords.words('english')"
     ],
     "language": "python",
     "metadata": {},
     "outputs": [],
     "prompt_number": 10
    },
    {
     "cell_type": "code",
     "collapsed": false,
     "input": [
      "words = []\n",
      "for word in emails[5].split():\n",
      "    lower = word.lower()\n",
      "    if lower not in stopword_list:\n",
      "        words.append(lower)"
     ],
     "language": "python",
     "metadata": {},
     "outputs": [],
     "prompt_number": 16
    },
    {
     "cell_type": "code",
     "collapsed": false,
     "input": [
      "Counter(words)"
     ],
     "language": "python",
     "metadata": {},
     "outputs": [
      {
       "metadata": {},
       "output_type": "pyout",
       "prompt_number": 18,
       "text": [
        "Counter({u'obama': 4, u'u.s.': 3, u'enter': 3, u'residents': 2, u'barack': 2, u'rico': 2, u'puerto': 2, u'entries': 2, u'--': 2, u'states,': 2, u'sponsor': 2, u'promotion': 2, u'contributing': 2, u'april': 2, u'george': 2, u'little': 2, u'to:': 2, u'join': 2, u'determined': 2, u'may': 2, u'victoria': 2, u'michelle': 2, u\"you'll\": 2, u'sponsor:': 1, u'sponsor;': 1, u'grassroots': 1, u'chances': 1, u'fifty': 1, u'130': 1, u'thanks': 1, u'grateful': 1, u'contributions': 1, u'america,': 1, u'depend': 1, u'payment,': 1, u'winner': 1, u'winning': 1, u'must': 1, u'permanent': 1, u'pretty': 1, u'from:': 1, u'hope': 1, u'prohibited.': 1, u'it.': 1, u'rules': 1, u'void': 1, u'know': 1, u'today,': 1, u'winning.': 1, u'tickets': 1, u'necessary': 1, u'prize': 1, u'them:': 1, u'(or': 1, u'|': 1, u'dc,': 1, u'edt': 1, u'house': 1, u'hard': 1, u'27,': 1, u'50': 1, u'package:': 1, u'chicago,': 1, u'randolph': 1, u'click': 1, u'subject': 1, u'date:': 1, u'legal': 1, u'email': 1, u'e.': 1, u'fun': 1, u'30,': 1, u'address': 1, u'round-trip': 1, u'received.': 1, u'improve': 1, u'received': 1, u'10th': 1, u'district': 1, u'<info@barackobama.com>': 1, u'receive': 1, u'many': 1, u'st.,': 1, u'donation': 1, u'dinner': 1, u'contribution': 1, u'retail': 1, u'accommodations;': 1, u'automatically': 1, u'eligibility.': 1, u'victoria.bassetti@gmail.com': 1, u'campaign': 1, u'too.': 1, u'within': 1, u'number': 1, u'<victoria.bassetti@gmail.com>': 1, u'contributing.': 1, u'fun,': 1, u'open': 1, u'$3,200).': 1, u'guest': 1, u'working': 1, u'destination': 1, u'two': 1, u'11:42:39': 1, u\"we're\": 1, u'entered': 1, u'60601.': 1, u'https://donate.barackobama.com/barack-and-george': 1, u'restrictions': 1, u'hotel': 1, u'citizens,': 1, u'applicable': 1, u'unsubscribe': 1, u'prizes': 1, u'2012.': 1, u'deductible': 1, u'law).': 1, u'18': 1, u'official': 1, u'us': 1, u'sent': 1, u'following': 1, u'2012': 1, u'chip': 1, u'tax': 1, u'lawful': 1, u'bassetti': 1, u'il': 1, u'need': 1, u'united': 1, u'do,': 1, u'info@barackobama.com': 1, u'majority': 1, u'amazing': 1, u'winners': 1, u'win.': 1, u'take': 1, u'additional': 1, u\"clooney's\": 1, u'(approximate': 1, u'columbia': 1, u'reply-to:': 1, u'update': 1, u'gifts': 1, u'chance': 1, u'value': 1, u'date': 1, u'president': 1, u'america': 1, u'clooney': 1, u'purchase,': 1, u'event.': 1, u'older': 1, u'odds': 1, u'sometimes': 1, u'without': 1, u'subject:': 1, u\"that's\": 1})"
       ]
      }
     ],
     "prompt_number": 18
    },
    {
     "cell_type": "code",
     "collapsed": false,
     "input": [],
     "language": "python",
     "metadata": {},
     "outputs": []
    }
   ],
   "metadata": {}
  }
 ]
}