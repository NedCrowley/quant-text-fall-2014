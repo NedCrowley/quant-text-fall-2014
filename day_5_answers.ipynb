{
 "metadata": {
  "name": "",
  "signature": "sha256:df39734b776e0cea7751bc2c08010d2e1ce2e47e264d457ae807eb3570fdcf85"
 },
 "nbformat": 3,
 "nbformat_minor": 0,
 "worksheets": [
  {
   "cells": [
    {
     "cell_type": "markdown",
     "metadata": {},
     "source": [
      "### Partisan Rhetoric\n",
      "\n",
      "One measure of how paritsan a given text is to look at how frequently it uses words assocaited with Republicans compared to words associated with Democrats. For example, does someone say \"death taxes\" or \"estate taxes\", or  is someone talking about \"terrorism\" or the \"minimum wage\".  Your mission for today is figure out contemporary partisan rhetoric based on the Congressional Record.\n",
      "\n",
      "1. Sign up to be a developer with the [Sunlight Foundation](http://sunlightfoundation.com/api/accounts/register/).\n",
      "2. Take a look at the [Capitol Words](http://sunlightlabs.github.io/Capitol-Words/) API documentation. \n",
      "3. Play around with [Capitol Words tool](http://tryit.sunlightfoundation.com/capitolwords) in order to figure out what the most useful endpoints and parameters would be. I'm fond of the Top Phrases by Entity and the Phrase Time Series.\n",
      "4. Get a list of the 100 most frequently used words in Congress during August of 2014.\n",
      "4. Using a different API, get the frequency of how often Democrats and Republicans used each of those words.\n",
      "5. Print a list that shows the 100 most frequently used words and what % of those mentions were by Republicans.\n",
      "6. Bonus: Now do it for the top 1000 words and phrases, and list only the most partisan wors."
     ]
    },
    {
     "cell_type": "code",
     "collapsed": false,
     "input": [
      "import requests\n",
      "from time import sleep"
     ],
     "language": "python",
     "metadata": {},
     "outputs": [],
     "prompt_number": 30
    },
    {
     "cell_type": "code",
     "collapsed": false,
     "input": [
      "base_url = 'http://capitolwords.org/api/1/phrases.json?'\n",
      "\n",
      "payload = {'entity_type' : 'month', \n",
      "           'entity_value': 201408,\n",
      "           'page' : 0,\n",
      "           'n'    : 1,\n",
      "           'sort' : 'count desc',\n",
      "           'apikey' : 'c9ce48f3f24b4b32ace43d829df81fd7'}"
     ],
     "language": "python",
     "metadata": {},
     "outputs": [],
     "prompt_number": 31
    },
    {
     "cell_type": "code",
     "collapsed": false,
     "input": [
      "#somewhere to store the returned results\n",
      "word_freq = []\n",
      "\n",
      "# Get 1-4 for word phrases\n",
      "for n in range(1,2) :\n",
      "    # Get the 10 pages of results for each\n",
      "    for page in range(0,10):\n",
      "        #Update the payload\n",
      "        payload['page'] = page\n",
      "        payload['n'] = n\n",
      "        # Go get the data\n",
      "        r = requests.get(base_url,params = payload)\n",
      "        # Since the returned results are a list, add them to the existing list.\n",
      "        word_freq = word_freq + r.json()"
     ],
     "language": "python",
     "metadata": {},
     "outputs": [],
     "prompt_number": 32
    },
    {
     "cell_type": "code",
     "collapsed": false,
     "input": [
      "word_freq_dict = {}\n",
      "\n",
      "for word in word_freq:\n",
      "    word_freq_dict[word['ngram']] = word['count']"
     ],
     "language": "python",
     "metadata": {},
     "outputs": [],
     "prompt_number": 33
    },
    {
     "cell_type": "code",
     "collapsed": false,
     "input": [
      "for word in sorted(word_freq_dict, key=word_freq_dict.get, reverse=True)[:10]:\n",
      "    print word, word_freq_dict[word]"
     ],
     "language": "python",
     "metadata": {},
     "outputs": [
      {
       "output_type": "stream",
       "stream": "stdout",
       "text": [
        "that 1250\n",
        "for 1179\n",
        "is 1061\n",
        "this 746\n",
        "we 666\n",
        "it 647\n",
        "are 563\n",
        "with 561\n",
        "have 537\n",
        "speaker 484\n"
       ]
      }
     ],
     "prompt_number": 78
    },
    {
     "cell_type": "code",
     "collapsed": false,
     "input": [
      "base_url = 'http://capitolwords.org/api/1/dates.json?'\n",
      "\n",
      "payload = {'percentages' : 'false', \n",
      "           'granularity' : 'month',\n",
      "           'start_date'  : '2014-08-01',\n",
      "           'end_date'    : '2014-08-31',\n",
      "           'apikey'      : 'c9ce48f3f24b4b32ace43d829df81fd7'}\n",
      "\n",
      "def get_word(word, party):\n",
      "    payload['phrase'] = word\n",
      "    payload['party'] = party\n",
      "    r = requests.get(base_url,params = payload)\n",
      "    try:\n",
      "        r_json = r.json()\n",
      "        count = r_json['results'][0]['count']\n",
      "        return int(count)\n",
      "    except Exception, e:\n",
      "        return 0\n",
      "\n",
      "    \n"
     ],
     "language": "python",
     "metadata": {},
     "outputs": [],
     "prompt_number": 79
    },
    {
     "cell_type": "code",
     "collapsed": false,
     "input": [
      "partisan_words = {}\n",
      "\n",
      "for word in word_freq_dict:\n",
      "    partisan_words[word] = {}\n",
      "    for party in ['D','R']:\n",
      "        partisan_words[word][party] = get_word(word, party)\n",
      "        \n",
      "        "
     ],
     "language": "python",
     "metadata": {},
     "outputs": [],
     "prompt_number": 47
    },
    {
     "cell_type": "code",
     "collapsed": false,
     "input": [
      "partisan_words['all']"
     ],
     "language": "python",
     "metadata": {},
     "outputs": [
      {
       "metadata": {},
       "output_type": "pyout",
       "prompt_number": 48,
       "text": [
        "{'D': 82, 'R': 77}"
       ]
      }
     ],
     "prompt_number": 48
    },
    {
     "cell_type": "code",
     "collapsed": false,
     "input": [
      "from collections import defaultdict"
     ],
     "language": "python",
     "metadata": {},
     "outputs": [],
     "prompt_number": 49
    },
    {
     "cell_type": "code",
     "collapsed": false,
     "input": [
      "words_spoken = defaultdict(int)"
     ],
     "language": "python",
     "metadata": {},
     "outputs": [],
     "prompt_number": 50
    },
    {
     "cell_type": "code",
     "collapsed": false,
     "input": [
      "for word in partisan_words:\n",
      "    words_spoken['D'] = words_spoken['D'] + partisan_words[word]['D']\n",
      "    words_spoken['R'] = words_spoken['R'] + partisan_words[word]['R']\n",
      "\n",
      "print words_spoken\n",
      "print words_spoken['D'] / float(words_spoken['R'])"
     ],
     "language": "python",
     "metadata": {},
     "outputs": [
      {
       "output_type": "stream",
       "stream": "stdout",
       "text": [
        "defaultdict(<type 'int'>, {'R': 49050, 'D': 54765})\n",
        "1.11651376147\n"
       ]
      }
     ],
     "prompt_number": 53
    },
    {
     "cell_type": "code",
     "collapsed": false,
     "input": [
      "from __future__ import division\n",
      "\n",
      "dem_percent = {}\n",
      "\n",
      "for word in partisan_words:\n",
      "    try:\n",
      "        word_ratio = partisan_words[word]['D'] /  (partisan_words[word]['R'] + partisan_words[word]['D'])\n",
      "        dem_percent[word] = word_ratio\n",
      "    except ZeroDivisionError, e:\n",
      "        print word\n"
     ],
     "language": "python",
     "metadata": {},
     "outputs": [
      {
       "output_type": "stream",
       "stream": "stdout",
       "text": [
        "ga\n",
        "tx\n",
        "ovarian\n",
        "zone\n",
        "marauders\n",
        "1625\n",
        "rhode\n",
        "fl\n",
        "rogers\n",
        "transmitting\n",
        "scott\n",
        "relative\n",
        "wa\n",
        "kelly\n",
        "801\n",
        "docket\n",
        "smith\n",
        "designate\n",
        "rin\n",
        "peters\n",
        "merrill's\n",
        "vacancies\n",
        "bishop\n",
        "ny\n"
       ]
      }
     ],
     "prompt_number": 67
    },
    {
     "cell_type": "code",
     "collapsed": false,
     "input": [
      "for word in sorted(dem_percent, key=dem_percent.get)[:20]:\n",
      "    print word, partisan_words[word]['D'], partisan_words[word]['R']"
     ],
     "language": "python",
     "metadata": {},
     "outputs": [
      {
       "output_type": "stream",
       "stream": "stdout",
       "text": [
        "mosul 0 9\n",
        "oversight 0 1\n",
        "brown 0 14\n",
        "ryan 0 1\n",
        "specialist 0 1\n",
        "illegal 0 13\n",
        "1998 0 1\n",
        "purposes 0 4\n",
        "designee 0 1\n",
        "sc 0 1\n",
        "aliens 0 4\n",
        "u.s.c. 0 1\n",
        "clause 0 3\n",
        "adjourned 0 1\n",
        "wilson 0 8\n",
        "understands 0 1\n",
        "ending 0 1\n",
        "thompson 0 2\n",
        "reid 0 4\n",
        "rodney 0 2\n"
       ]
      }
     ],
     "prompt_number": 75
    },
    {
     "cell_type": "code",
     "collapsed": false,
     "input": [
      "for word in sorted(dem_percent, key=dem_percent.get, reverse=True)[:20]:\n",
      "    print word, partisan_words[word]['D'], partisan_words[word]['R']"
     ],
     "language": "python",
     "metadata": {},
     "outputs": [
      {
       "output_type": "stream",
       "stream": "stdout",
       "text": [
        "turkish 4 0\n",
        "passage 13 0\n",
        "highway 9 0\n",
        "pledge 3 0\n",
        "lee 8 0\n",
        "protection 13 0\n",
        "lujan 2 0\n",
        "bob 13 0\n",
        "dreamers 22 0\n",
        "supplemental 9 0\n",
        "mi 1 0\n",
        "species 15 0\n",
        "parliamentary 7 0\n",
        "waters 9 0\n",
        "martial 11 0\n",
        "cosponsor 1 0\n",
        "betty 13 0\n",
        "ed 13 0\n",
        "burnham 12 0\n",
        "laid 9 0\n"
       ]
      }
     ],
     "prompt_number": 76
    },
    {
     "cell_type": "code",
     "collapsed": false,
     "input": [
      "#Get rid of random low words\n",
      "dem_percent2 = {}\n",
      "\n",
      "for word in dem_percent:\n",
      "    if partisan_words[word]['D'] + partisan_words[word]['R'] > 20:\n",
      "        dem_percent2[word] = dem_percent[word]\n",
      "        \n",
      "        \n",
      "for word in sorted(dem_percent2, key=dem_percent2.get, reverse=True)[:20]:\n",
      "    print word, partisan_words[word]['D'], partisan_words[word]['R']"
     ],
     "language": "python",
     "metadata": {},
     "outputs": [
      {
       "output_type": "stream",
       "stream": "stdout",
       "text": [
        "dreamers 22 0\n",
        "arizona 21 0\n",
        "4923 31 0\n",
        "intention 49 1\n",
        "comprehensive 36 1\n",
        "john 32 1\n",
        "rollcall 59 2\n",
        "properly 23 1\n",
        "h.r. 100 5\n",
        "ms. 42 3\n",
        "vote 176 14\n",
        "purpose 33 3\n",
        "reform 41 4\n",
        "consent 91 9\n",
        "unanimous 90 10\n",
        "republicans 26 3\n",
        "california 39 5\n",
        "water 22 3\n",
        "bipartisan 42 6\n",
        "offered 40 6\n"
       ]
      }
     ],
     "prompt_number": 80
    },
    {
     "cell_type": "code",
     "collapsed": false,
     "input": [
      "for word in sorted(dem_percent2, key=dem_percent2.get, reverse=False)[:20]:\n",
      "    print word, partisan_words[word]['D'], partisan_words[word]['R']"
     ],
     "language": "python",
     "metadata": {},
     "outputs": [
      {
       "output_type": "stream",
       "stream": "stdout",
       "text": [
        "tony 0 26\n",
        "reserve 2 33\n",
        "balance 2 33\n",
        "actually 2 23\n",
        "terrorist 3 21\n",
        "company 5 23\n",
        "actions 4 17\n",
        "your 13 46\n",
        "obama 8 27\n",
        "laws 8 27\n",
        "cannot 6 20\n",
        "executive 10 33\n",
        "hamas 8 26\n",
        "leave 5 16\n",
        "team 6 19\n",
        "court 6 18\n",
        "issue 9 27\n",
        "think 15 44\n",
        "believe 12 34\n",
        "additional 6 17\n"
       ]
      }
     ],
     "prompt_number": 81
    },
    {
     "cell_type": "code",
     "collapsed": false,
     "input": [],
     "language": "python",
     "metadata": {},
     "outputs": []
    }
   ],
   "metadata": {}
  }
 ]
}