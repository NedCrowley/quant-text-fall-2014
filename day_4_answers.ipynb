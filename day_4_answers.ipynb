{
 "metadata": {
  "name": "",
  "signature": "sha256:a420ce660e4f581a34c0ac00f568a6d658f088f1b1efbd1b1fa0ad6709844e19"
 },
 "nbformat": 3,
 "nbformat_minor": 0,
 "worksheets": [
  {
   "cells": [
    {
     "cell_type": "markdown",
     "metadata": {},
     "source": [
      "## In Class Assignment for September 8\n",
      "### APIs\n",
      "\n",
      "What was the annual count of articles published in the New York Times that mentioned the work \"abortion\" between 1950 and 2000?\n",
      "\n",
      "1. [Sign Up](http://developer.nytimes.com) to be a New York Times developer. Create a string `my_times_api_key` that stores your key. \n",
      "2. Read the [Article Search API](http://developer.nytimes.com/docs/read/article_search_api_v2). Be sure to find out how many calls you can make in a minute. \n",
      "3. Practice using the [API Console](http://developer.nytimes.com/io-docs). Use this to develop your request URI. \n",
      "4. Using `requests` test out your code.\n",
      "1. Get the annual count of abortion articles. Hint: It may be easier to make multiple calls to the API, one per year."
     ]
    },
    {
     "cell_type": "code",
     "collapsed": false,
     "input": [
      "import requests\n",
      "import json \n",
      "from time import sleep"
     ],
     "language": "python",
     "metadata": {},
     "outputs": [],
     "prompt_number": 7
    },
    {
     "cell_type": "code",
     "collapsed": false,
     "input": [
      "my_times_api_key = 'd20bc9ac37156ecc4cb3d78eb956201d:0:54059647'"
     ],
     "language": "python",
     "metadata": {},
     "outputs": [],
     "prompt_number": 8
    },
    {
     "cell_type": "code",
     "collapsed": false,
     "input": [
      "payload = {'q'         : 'abortion', \n",
      "           'api-key'   :  my_times_api_key, \n",
      "           }\n",
      "\n",
      "base_url = 'http://api.nytimes.com/svc/search/v2/articlesearch.json?'"
     ],
     "language": "python",
     "metadata": {},
     "outputs": [],
     "prompt_number": 9
    },
    {
     "cell_type": "code",
     "collapsed": false,
     "input": [
      "sleep(.5)\n",
      "\n",
      "r = requests.get(base_url, params = payload)\n",
      "\n",
      "#You don't need to print this\n",
      "print r.url"
     ],
     "language": "python",
     "metadata": {},
     "outputs": [
      {
       "output_type": "stream",
       "stream": "stdout",
       "text": [
        "http://api.nytimes.com/svc/search/v2/articlesearch.json?q=abortion&api-key=d20bc9ac37156ecc4cb3d78eb956201d%3A0%3A54059647\n"
       ]
      }
     ],
     "prompt_number": 10
    },
    {
     "cell_type": "code",
     "collapsed": false,
     "input": [
      "#When the response has a JSON, requests puts it here:\n",
      "\n",
      "results_json = r.json()"
     ],
     "language": "python",
     "metadata": {},
     "outputs": [],
     "prompt_number": 11
    },
    {
     "cell_type": "code",
     "collapsed": false,
     "input": [
      "#Let's look at the keys in the dictionary\n",
      "\n",
      "print results_json.keys()"
     ],
     "language": "python",
     "metadata": {},
     "outputs": [
      {
       "output_type": "stream",
       "stream": "stdout",
       "text": [
        "[u'status', u'response', u'copyright']\n"
       ]
      }
     ],
     "prompt_number": 12
    },
    {
     "cell_type": "code",
     "collapsed": false,
     "input": [
      "print results_json['status']"
     ],
     "language": "python",
     "metadata": {},
     "outputs": [
      {
       "output_type": "stream",
       "stream": "stdout",
       "text": [
        "OK\n"
       ]
      }
     ],
     "prompt_number": 13
    },
    {
     "cell_type": "code",
     "collapsed": false,
     "input": [
      "results_json['response'].keys()"
     ],
     "language": "python",
     "metadata": {},
     "outputs": [
      {
       "metadata": {},
       "output_type": "pyout",
       "prompt_number": 14,
       "text": [
        "[u'docs', u'meta']"
       ]
      }
     ],
     "prompt_number": 14
    },
    {
     "cell_type": "code",
     "collapsed": false,
     "input": [
      "#let's see if the results is a list or a dictionary:\n",
      "\n",
      "type(results_json['response'])"
     ],
     "language": "python",
     "metadata": {},
     "outputs": [
      {
       "metadata": {},
       "output_type": "pyout",
       "prompt_number": 15,
       "text": [
        "dict"
       ]
      }
     ],
     "prompt_number": 15
    },
    {
     "cell_type": "code",
     "collapsed": false,
     "input": [
      "results_json['response'].keys()"
     ],
     "language": "python",
     "metadata": {},
     "outputs": [
      {
       "metadata": {},
       "output_type": "pyout",
       "prompt_number": 16,
       "text": [
        "[u'docs', u'meta']"
       ]
      }
     ],
     "prompt_number": 16
    },
    {
     "cell_type": "code",
     "collapsed": false,
     "input": [
      "results_json['response']['meta']"
     ],
     "language": "python",
     "metadata": {},
     "outputs": [
      {
       "metadata": {},
       "output_type": "pyout",
       "prompt_number": 17,
       "text": [
        "{u'hits': 40987, u'offset': 0, u'time': 79}"
       ]
      }
     ],
     "prompt_number": 17
    },
    {
     "cell_type": "code",
     "collapsed": false,
     "input": [
      "type(results_json['response']['docs'])"
     ],
     "language": "python",
     "metadata": {},
     "outputs": [
      {
       "metadata": {},
       "output_type": "pyout",
       "prompt_number": 18,
       "text": [
        "list"
       ]
      }
     ],
     "prompt_number": 18
    },
    {
     "cell_type": "code",
     "collapsed": false,
     "input": [
      "articles = results_json['response']['docs']"
     ],
     "language": "python",
     "metadata": {},
     "outputs": [],
     "prompt_number": 19
    },
    {
     "cell_type": "code",
     "collapsed": false,
     "input": [
      "#print a random article\n",
      "\n",
      "articles[5]"
     ],
     "language": "python",
     "metadata": {},
     "outputs": [
      {
       "metadata": {},
       "output_type": "pyout",
       "prompt_number": 20,
       "text": [
        "{u'_id': u'5089dbf795e998af71189622',\n",
        " u'abstract': None,\n",
        " u'blog': [],\n",
        " u'byline': [],\n",
        " u'document_type': u'article',\n",
        " u'headline': {u'content_kicker': u'Letter',\n",
        "  u'kicker': u'Letter',\n",
        "  u'main': u'Abortion and Rape',\n",
        "  u'print_headline': u'Abortion and Rape'},\n",
        " u'keywords': [{u'is_major': u'N',\n",
        "   u'name': u'subject',\n",
        "   u'rank': u'1',\n",
        "   u'value': u'Sex Crimes'},\n",
        "  {u'is_major': u'N',\n",
        "   u'name': u'subject',\n",
        "   u'rank': u'2',\n",
        "   u'value': u'Abortion'},\n",
        "  {u'is_major': u'N',\n",
        "   u'name': u'subject',\n",
        "   u'rank': u'3',\n",
        "   u'value': u'Women and Girls'},\n",
        "  {u'is_major': u'N',\n",
        "   u'name': u'persons',\n",
        "   u'rank': u'4',\n",
        "   u'value': u'Mourdock, Richard E'}],\n",
        " u'lead_paragraph': u'A reader decries two candidates&#8217; statements opposing abortions even for rape victims.',\n",
        " u'multimedia': [],\n",
        " u'news_desk': u'Letters',\n",
        " u'print_page': u'32',\n",
        " u'pub_date': u'2012-10-26T00:00:00Z',\n",
        " u'section_name': u'Opinion',\n",
        " u'snippet': u'A reader decries two candidates&#8217; statements opposing abortions even for rape victims.',\n",
        " u'source': u'The New York Times',\n",
        " u'subsection_name': None,\n",
        " u'type_of_material': u'Letter',\n",
        " u'web_url': u'http://www.nytimes.com/2012/10/26/opinion/abortion-and-rape.html',\n",
        " u'word_count': u'139'}"
       ]
      }
     ],
     "prompt_number": 20
    },
    {
     "cell_type": "code",
     "collapsed": false,
     "input": [
      "#My solution\n",
      "\n",
      "\n",
      "payload = {'q'         : 'abortion', \n",
      "           'api-key'   :  my_times_api_key, \n",
      "           }\n",
      "\n",
      "base_url = 'http://api.nytimes.com/svc/search/v2/articlesearch.json?'\n",
      "\n",
      "for year in range(1970,2000):\n",
      "    payload['begin_date'] = str(year) + '0101' \n",
      "    payload['end_date'] = str(year) + '1231' \n",
      "    r = requests.get(base_url, params = payload)\n",
      "    results_json = r.json()\n",
      "    hits = results_json['response']['meta']['hits']\n",
      "    print '%s,%s' % (year,hits)\n",
      "    \n",
      "    # Other possible print\n",
      "    # print str(year) + ',' + str(hits)\n",
      "    "
     ],
     "language": "python",
     "metadata": {},
     "outputs": [
      {
       "output_type": "stream",
       "stream": "stdout",
       "text": [
        "1970,504\n",
        "1971,371"
       ]
      },
      {
       "output_type": "stream",
       "stream": "stdout",
       "text": [
        "\n",
        "1972,633"
       ]
      },
      {
       "output_type": "stream",
       "stream": "stdout",
       "text": [
        "\n",
        "1973,464"
       ]
      },
      {
       "output_type": "stream",
       "stream": "stdout",
       "text": [
        "\n",
        "1974,499"
       ]
      },
      {
       "output_type": "stream",
       "stream": "stdout",
       "text": [
        "\n",
        "1975,458"
       ]
      },
      {
       "output_type": "stream",
       "stream": "stdout",
       "text": [
        "\n",
        "1976,858"
       ]
      },
      {
       "output_type": "stream",
       "stream": "stdout",
       "text": [
        "\n",
        "1977,571"
       ]
      },
      {
       "output_type": "stream",
       "stream": "stdout",
       "text": [
        "\n",
        "1978,492"
       ]
      },
      {
       "output_type": "stream",
       "stream": "stdout",
       "text": [
        "\n",
        "1979,516"
       ]
      },
      {
       "output_type": "stream",
       "stream": "stdout",
       "text": [
        "\n",
        "1980,719"
       ]
      },
      {
       "output_type": "stream",
       "stream": "stdout",
       "text": [
        "\n",
        "1981,675"
       ]
      },
      {
       "output_type": "stream",
       "stream": "stdout",
       "text": [
        "\n",
        "1982,588"
       ]
      },
      {
       "output_type": "stream",
       "stream": "stdout",
       "text": [
        "\n",
        "1983,383"
       ]
      },
      {
       "output_type": "stream",
       "stream": "stdout",
       "text": [
        "\n",
        "1984,826"
       ]
      },
      {
       "output_type": "stream",
       "stream": "stdout",
       "text": [
        "\n",
        "1985,588"
       ]
      },
      {
       "output_type": "stream",
       "stream": "stdout",
       "text": [
        "\n",
        "1986,602"
       ]
      },
      {
       "output_type": "stream",
       "stream": "stdout",
       "text": [
        "\n",
        "1987,597"
       ]
      },
      {
       "output_type": "stream",
       "stream": "stdout",
       "text": [
        "\n",
        "1988,656"
       ]
      },
      {
       "output_type": "stream",
       "stream": "stdout",
       "text": [
        "\n",
        "1989,1104"
       ]
      },
      {
       "output_type": "stream",
       "stream": "stdout",
       "text": [
        "\n",
        "1990,1113"
       ]
      },
      {
       "output_type": "stream",
       "stream": "stdout",
       "text": [
        "\n",
        "1991,865"
       ]
      },
      {
       "output_type": "stream",
       "stream": "stdout",
       "text": [
        "\n",
        "1992,1430"
       ]
      },
      {
       "output_type": "stream",
       "stream": "stdout",
       "text": [
        "\n",
        "1993,938"
       ]
      },
      {
       "output_type": "stream",
       "stream": "stdout",
       "text": [
        "\n",
        "1994,981"
       ]
      },
      {
       "output_type": "stream",
       "stream": "stdout",
       "text": [
        "\n",
        "1995,941"
       ]
      },
      {
       "output_type": "stream",
       "stream": "stdout",
       "text": [
        "\n",
        "1996,1273"
       ]
      },
      {
       "output_type": "stream",
       "stream": "stdout",
       "text": [
        "\n",
        "1997,755"
       ]
      },
      {
       "output_type": "stream",
       "stream": "stdout",
       "text": [
        "\n",
        "1998,1051"
       ]
      },
      {
       "output_type": "stream",
       "stream": "stdout",
       "text": [
        "\n",
        "1999,757"
       ]
      },
      {
       "output_type": "stream",
       "stream": "stdout",
       "text": [
        "\n"
       ]
      }
     ],
     "prompt_number": 31
    }
   ],
   "metadata": {}
  }
 ]
}