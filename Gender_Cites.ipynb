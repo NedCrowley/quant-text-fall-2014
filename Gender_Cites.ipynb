{
 "metadata": {
  "name": "",
  "signature": "sha256:fc52318dc828fc89168230c83158ca82461295fdbf31b3f2bcdb1ae38e2aca71"
 },
 "nbformat": 3,
 "nbformat_minor": 0,
 "worksheets": [
  {
   "cells": [
    {
     "cell_type": "markdown",
     "metadata": {},
     "source": [
      "### Author Gender and Citation Patterns \n",
      "Neal Caren\n",
      "\n",
      "\n",
      "Over the summer, [x] released a study that showed that, controlling for other factors, articles in International Relations journals published by men were cited [x%] more often than articles written by women, controlling for other factors. Prominent political science The Monkey Cage, now hosted by the Washington Post, recently ran a forum on this topic and a number of prominent scholars weighed in.\n",
      "\n",
      "To test whether or not this gendered practice in citing work exists, I examined [n] articles published in [x] Sociology journals in 2009 and 2010. Article information, including citation count information is from Web of Science. For each paper, I estimated the author\u2019s (or first author\u2019s in the case of multi author works) sex based on whether their first name is commonly male or female, based on Social Security birth records. To control for method and subfield, I used a topic (LDA) model to estimate 50 latent topics basic on the abstract words. For each article, I estimated the proportion of the abstract that was related to each topic. \n",
      "\n",
      "## Note:\n",
      "So far, I only have a basic model up an running. I still need to include additional controls variables, including article journal and topic. \n",
      "\n"
     ]
    },
    {
     "cell_type": "code",
     "collapsed": false,
     "input": [
      "import csv\n",
      "from collections import Counter\n",
      "\n",
      "import numpy as np\n",
      "\n",
      "import sexmachine.detector as gender_detective"
     ],
     "language": "python",
     "metadata": {},
     "outputs": [],
     "prompt_number": 1
    },
    {
     "cell_type": "code",
     "collapsed": false,
     "input": [
      "# Read in the data and print a sample article\n",
      "\n",
      "articles = list(csv.reader(open('soc_articles_details.tsv','r'), delimiter='\\t'))\n",
      "\n",
      "for item in enumerate(articles[35]):\n",
      "    print item"
     ],
     "language": "python",
     "metadata": {},
     "outputs": [
      {
       "output_type": "stream",
       "stream": "stdout",
       "text": [
        "(0, \"Woolfson, Charles. 2010. '`hard Times' in Lithuania: Crisis and `discourses of Discontent' in Post-communist Society.' Ethnography. 11:4 487-514.\")\n",
        "(1, 'Ethnography')\n",
        "(2, '2010')\n",
        "(3, '6')\n",
        "(4, \"This article analyses the intersection of global recession with the underlying crisis of neo-liberalism in Baltic Lithuania, and the disappointment of expectations regarding the promised benefits of free market capitalism for the citizens of post-communist society. Drawing on an empirical analysis of Lithuania, a new European Union member state and former Soviet republic, the post-communist trajectory of neo-liberal economic and social development is critiqued. Global economic and financial crisis has resulted in a social and economic `shock'. It occurred in an environment already marked by disappointment, alienation and high outward migration. Through an analysis of `voice' expressed in `discourses of discontent', the article attempts to chart the impact of `hard times'. It predicts a new `exit' in the form of a surge of outward migration resulting from the failures of `voice', and the concerning possibility of `internal exit'.\")\n",
        "(5, '1')\n",
        "(6, 'Charles Woolfson')\n"
       ]
      }
     ],
     "prompt_number": 2
    },
    {
     "cell_type": "code",
     "collapsed": false,
     "input": [
      "# I've built my own tool to estimate author gender from first names based on social security birth records,\n",
      "# but when with `sexmachine` library this time.\n",
      "\n",
      "# This function is written specifically for the abstracts name format.\n",
      "\n",
      "dector = gender_detective.Detector()\n",
      "\n",
      "def get_1st_author_gender(authors): \n",
      "    # Just look at the first author'\n",
      "    for author in authors.split(';')[:1]:\n",
      "        first_name = author.split(' ')[0]\n",
      "        return dector.get_gender(first_name)  "
     ],
     "language": "python",
     "metadata": {},
     "outputs": [],
     "prompt_number": 3
    },
    {
     "cell_type": "code",
     "collapsed": false,
     "input": [
      "# loop through the dataset and gather some stats\n",
      "\n",
      "cites = []\n",
      "genders = []\n",
      "female = []\n",
      "\n",
      "for article in articles[1:]:\n",
      "    cite = int(article[3])\n",
      "    cites.append(cite)\n",
      "    \n",
      "    gender =  get_1st_author_gender(article[6])\n",
      "    genders.append(gender)\n",
      "    \n",
      "    if gender == 'female':\n",
      "        female.append(1)\n",
      "    else:\n",
      "        female.append(0)"
     ],
     "language": "python",
     "metadata": {},
     "outputs": [],
     "prompt_number": 4
    },
    {
     "cell_type": "code",
     "collapsed": false,
     "input": [
      "Counter(genders)"
     ],
     "language": "python",
     "metadata": {},
     "outputs": [
      {
       "metadata": {},
       "output_type": "pyout",
       "prompt_number": 5,
       "text": [
        "Counter({u'male': 1250, u'female': 946, u'andy': 279, u'mostly_female': 86, u'mostly_male': 46})"
       ]
      }
     ],
     "prompt_number": 5
    },
    {
     "cell_type": "code",
     "collapsed": false,
     "input": [
      "print 'Mean', np.mean(cites)\n",
      "print 'Median', np.median(cites)\n",
      "print 'Female', np.mean(female)"
     ],
     "language": "python",
     "metadata": {},
     "outputs": [
      {
       "output_type": "stream",
       "stream": "stdout",
       "text": [
        "Mean 6.22516302263\n",
        "Median 3.0\n",
        "Female 0.362869198312\n"
       ]
      }
     ],
     "prompt_number": 6
    },
    {
     "cell_type": "code",
     "collapsed": false,
     "input": [
      "# Import regression models\n",
      "from statsmodels.discrete.discrete_model import NegativeBinomial\n",
      "import statsmodels.api as sm"
     ],
     "language": "python",
     "metadata": {},
     "outputs": [],
     "prompt_number": 7
    },
    {
     "cell_type": "code",
     "collapsed": false,
     "input": [
      "# get the data in the correct format. Specifically, we need a constant.\n",
      "\n",
      "constant = [1]*len(female)\n",
      "X = zip(constant,female)\n",
      "print X[:5]"
     ],
     "language": "python",
     "metadata": {},
     "outputs": [
      {
       "output_type": "stream",
       "stream": "stdout",
       "text": [
        "[(1, 0), (1, 0), (1, 1), (1, 0), (1, 1)]\n"
       ]
      }
     ],
     "prompt_number": 8
    },
    {
     "cell_type": "code",
     "collapsed": false,
     "input": [
      "model = NegativeBinomial(cites, X)\n",
      "results = model.fit()\n",
      "print(results.summary())"
     ],
     "language": "python",
     "metadata": {},
     "outputs": [
      {
       "output_type": "stream",
       "stream": "stdout",
       "text": [
        "Optimization terminated successfully.\n",
        "         Current function value: 2.896065\n",
        "         Iterations: 4\n",
        "         Function evaluations: 5\n",
        "         Gradient evaluations: 5\n",
        "                     NegativeBinomial Regression Results                      \n",
        "==============================================================================\n",
        "Dep. Variable:                      y   No. Observations:                 2607\n",
        "Model:               NegativeBinomial   Df Residuals:                     2605\n",
        "Method:                           MLE   Df Model:                            1\n",
        "Date:                Wed, 29 Oct 2014   Pseudo R-squ.:               0.0001279\n",
        "Time:                        11:27:53   Log-Likelihood:                -7550.0\n",
        "converged:                       True   LL-Null:                       -7551.0\n",
        "                                        LLR p-value:                    0.1646\n",
        "==============================================================================\n",
        "                 coef    std err          z      P>|z|      [95.0% Conf. Int.]\n",
        "------------------------------------------------------------------------------\n",
        "const          1.8039      0.029     62.227      0.000         1.747     1.861\n",
        "x1             0.0666      0.048      1.387      0.166        -0.028     0.161\n",
        "alpha          1.2312      0.039     31.667      0.000         1.155     1.307\n",
        "==============================================================================\n"
       ]
      }
     ],
     "prompt_number": 9
    },
    {
     "cell_type": "markdown",
     "metadata": {},
     "source": [
      "x1 is a dichtomous measure for female name of first author, so there's no statsitically significant penalty associated with having a female name, although we are missing a lot of relevant control variables."
     ]
    },
    {
     "cell_type": "code",
     "collapsed": false,
     "input": [
      "year_2009 = []\n",
      "for article in articles[1:]:\n",
      "    if article[2] == '2009':\n",
      "        year_2009.append(1)\n",
      "    else:\n",
      "        year_2009.append(0)\n",
      "\n",
      "Counter(year_2009)"
     ],
     "language": "python",
     "metadata": {},
     "outputs": [
      {
       "metadata": {},
       "output_type": "pyout",
       "prompt_number": 10,
       "text": [
        "Counter({0: 1362, 1: 1245})"
       ]
      }
     ],
     "prompt_number": 10
    },
    {
     "cell_type": "code",
     "collapsed": false,
     "input": [
      "X = zip(constant, female, year_2009)"
     ],
     "language": "python",
     "metadata": {},
     "outputs": [],
     "prompt_number": 11
    },
    {
     "cell_type": "code",
     "collapsed": false,
     "input": [
      "model = NegativeBinomial(cites, X)\n",
      "results = model.fit()\n",
      "print(results.summary())"
     ],
     "language": "python",
     "metadata": {},
     "outputs": [
      {
       "output_type": "stream",
       "stream": "stdout",
       "text": [
        "Optimization terminated successfully.\n",
        "         Current function value: 2.883764\n",
        "         Iterations: 10\n",
        "         Function evaluations: 11\n",
        "         Gradient evaluations: 11\n",
        "                     NegativeBinomial Regression Results                      \n",
        "==============================================================================\n",
        "Dep. Variable:                      y   No. Observations:                 2607\n",
        "Model:               NegativeBinomial   Df Residuals:                     2604\n",
        "Method:                           MLE   Df Model:                            2\n",
        "Date:                Wed, 29 Oct 2014   Pseudo R-squ.:                0.004375\n",
        "Time:                        11:27:53   Log-Likelihood:                -7518.0\n",
        "converged:                       True   LL-Null:                       -7551.0\n",
        "                                        LLR p-value:                 4.503e-15\n",
        "==============================================================================\n",
        "                 coef    std err          z      P>|z|      [95.0% Conf. Int.]\n",
        "------------------------------------------------------------------------------\n",
        "const          1.6102      0.036     44.198      0.000         1.539     1.682\n",
        "x1             0.0690      0.047      1.453      0.146        -0.024     0.162\n",
        "x2             0.3684      0.046      8.056      0.000         0.279     0.458\n",
        "alpha          1.1967      0.038     31.408      0.000         1.122     1.271\n",
        "==============================================================================\n"
       ]
      }
     ],
     "prompt_number": 12
    },
    {
     "cell_type": "markdown",
     "metadata": {},
     "source": [
      "x2 is being published in 2009 (as opposed to 2009) and is positively associated with cite count. This make sense, since older articles have more opportunites to be cited. This is also a basic check on whether the model is making any sense."
     ]
    },
    {
     "cell_type": "markdown",
     "metadata": {},
     "source": [
      "### Left to do:\n",
      "Topic models!    \n",
      "Journal controls!    \n",
      "Control for number of authors!    \n"
     ]
    },
    {
     "cell_type": "code",
     "collapsed": false,
     "input": [],
     "language": "python",
     "metadata": {},
     "outputs": [],
     "prompt_number": 12
    }
   ],
   "metadata": {}
  }
 ]
}