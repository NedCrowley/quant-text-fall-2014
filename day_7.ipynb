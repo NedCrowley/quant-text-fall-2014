{
 "metadata": {
  "name": "",
  "signature": "sha256:4c2f62a2e783658118480826afc69e9e285db39b413155d6f83556bdde18324c"
 },
 "nbformat": 3,
 "nbformat_minor": 0,
 "worksheets": [
  {
   "cells": [
    {
     "cell_type": "markdown",
     "metadata": {},
     "source": [
      "### Scraping\n",
      "\n",
      "Your mission today is to create a JSON with the current record of each NCAA Field Hockey team. It should look something like:\n",
      "\n",
      "`[{'School' : 'North Carolina', 'Wins' : 6, 'Loses' : 1}, {'School' : 'Virginia', 'Wins' : 7 , 'Loses' : 1 }]`\n",
      "\n",
      "or \n",
      "\n",
      "`{'North Carolina' : {'Wins' : 6, 'Loses' : 1}, 'Virginia' : {'Wins' : 7 , 'Loses' : 1 }}`\n",
      "\n",
      "You can find all the data you need at [Field Hockey Corner](http://fieldhockeycorner.com/ratings.php?div=1&col=cr).\n",
      "\n",
      "Steps:\n",
      "1. Use `requests` to get the text of the page.\n",
      "2. Look at the source code of the page to figure out what HTML uniquely identifies school names.\n",
      "3. Using `re.findall()` construct a regular expression that returns all the team names. Remember that `.*?` is your superpowered friend.\n",
      "    * `.` matches any character\n",
      "    * `*` keeps going until it spots  \n",
      "    * the first character after the `?`\n",
      "4. Store the names as a list called `schools`.\n",
      "5. Go back to the source code and take a look at how you can modify your source code to also get team record. There's a couple of ways to do this. Remember that `/` is one of the [special characters](http://www.regular-expressions.info/characters.html) so you need to escape it with backslash if you want to use it as part of your regular expression.\n",
      "6. Test out your new regular expression. Remember, that you may need to parse your string with things like `replace()` or `split()`. Also note that this is frustrating and often leads to repeated failures before you are successful.\n",
      "7. Loop your list into a JSON-type object.\n",
      "8. Tidy up your code (including putting in comments) and put it in a function called `scrape_results()` that returns the JSON object."
     ]
    },
    {
     "cell_type": "code",
     "collapsed": false,
     "input": [
      "import requests"
     ],
     "language": "python",
     "metadata": {},
     "outputs": [],
     "prompt_number": 31
    },
    {
     "cell_type": "code",
     "collapsed": false,
     "input": [
      "url = 'http://fieldhockeycorner.com/scores.php?div=1'"
     ],
     "language": "python",
     "metadata": {},
     "outputs": [],
     "prompt_number": 40
    },
    {
     "cell_type": "code",
     "collapsed": false,
     "input": [
      "r = requests.get(url)"
     ],
     "language": "python",
     "metadata": {},
     "outputs": [],
     "prompt_number": 41
    },
    {
     "cell_type": "code",
     "collapsed": false,
     "input": [
      "r.text"
     ],
     "language": "python",
     "metadata": {},
     "outputs": [
      {
       "metadata": {},
       "output_type": "pyout",
       "prompt_number": 42,
       "text": [
        "u'<html>\\r\\n<head>\\r\\n    <title>Field Hockey Schedules & Scores</title>\\r\\n    <meta http-equiv=\"Content-Type\" content=\"text/html; charset=iso-8859-1\" />\\r\\n    <style type=\"text/css\">\\r\\n    <!--\\r\\n        BODY {font-family: Verdana, Arial, sans-serif; color: #000000; font-size: 12px}\\r\\n        TD   {font-family: Verdana, Arial, sans-serif; color: #000000; font-size: 10px}\\r\\n        .MASTER   {font-family: Verdana, Arial, sans-serif; color: #000000; font-size: 11px}\\r\\n        TH   {font-family: Verdana, Arial, sans-serif; color: #000000; font-size: 12px; font-weight: bold}\\r\\n        A    {font-family: Verdana, Arial, sans-serif; font-size: 10px}\\r\\n        A:VISITED  {font-family: Verdana, Arial, sans-serif; color: #000099; font-size: 10px}\\r\\n        P    { margin-top: 3px; margin-bottom: 3px }\\r\\n        H1   {font-size: 32px; margin-bottom: 4px}\\r\\n        H2   {font-size: 24px; margin-bottom: 4px}\\r\\n        BLOCKQUOTE { margin: -3px 0 0 12px }\\r\\n    -->\\r\\n    </style>\\r\\n</head>\\r\\n<body>\\r\\n<center><h1><font color=\\'#00af00\\'>FieldHockeyCorner.com</font></h1><h2>2014 Schedules &amp; Results</h2><b><font color=\\'#00af00\\' size=\\'+2\\'>Division 1</font></b><br><br><table style=\\'border: 1px solid black\\' cellspacing=0 cellpadding=4 bgcolor=\\'EEFFEE\\'><tr valign=top><td>\\n<p><a href=\\'/scores.php?action=weekly&d1=2014-08-19&d2=2014-08-25&div=1\\'>Aug 19-Aug 25</a></p><p><a href=\\'/scores.php?action=weekly&d1=2014-08-26&d2=2014-09-01&div=1\\'>Aug 26-Sep 1</a></p><p><a href=\\'/scores.php?action=weekly&d1=2014-09-02&d2=2014-09-08&div=1\\'>Sep 2-Sep 8</a></p><p><a href=\\'/scores.php?action=weekly&d1=2014-09-09&d2=2014-09-15&div=1\\'>Sep 9-Sep 15</a></p></td><td>&nbsp;</td><td>\\n<td><p><a href=\\'/scores.php?action=weekly&d1=2014-09-16&d2=2014-09-22&div=1\\'>Sep 16-Sep 22</a></p><p><a href=\\'/scores.php?action=weekly&d1=2014-09-23&d2=2014-09-29&div=1\\'>Sep 23-Sep 29</a></p><p><a href=\\'/scores.php?action=weekly&d1=2014-09-30&d2=2014-10-06&div=1\\'>Sep 30-Oct 6</a></p><p><a href=\\'/scores.php?action=weekly&d1=2014-10-07&d2=2014-10-13&div=1\\'>Oct 7-Oct 13</a></p></td><td>&nbsp;</td><td>\\n<td><p><a href=\\'/scores.php?action=weekly&d1=2014-10-14&d2=2014-10-20&div=1\\'>Oct 14-Oct 20</a></p><p><a href=\\'/scores.php?action=weekly&d1=2014-10-21&d2=2014-10-27&div=1\\'>Oct 21-Oct 27</a></p><p><a href=\\'/scores.php?action=weekly&d1=2014-10-28&d2=2014-11-03&div=1\\'>Oct 28-Nov 3</a></p><p><a href=\\'/scores.php?action=weekly&d1=2014-11-04&d2=2014-11-10&div=1\\'>Nov 4-Nov 10</a></p></td><td>&nbsp;</td><td>\\n<td><p><a href=\\'/scores.php?action=weekly&d1=2014-11-11&d2=2014-11-17&div=1\\'>Nov 11-Nov 17</a></p><p><a href=\\'/scores.php?action=weekly&d1=2014-11-18&d2=2014-11-24&div=1\\'>Nov 18-Nov 24</a></p></tr></table><br>\\n<table style=\\'border: 1px solid black\\' cellspacing=0 cellpadding=2 bgcolor=\\'EEFFEE\\'><tr valign=top><td>\\n<p><a href=\\'/scores.php?action=conf&conf=America East&div=1\\'>America East</a></p><p><a href=\\'/scores.php?action=conf&conf=Atlantic 10&div=1\\'>Atlantic 10</a></p><p><a href=\\'/scores.php?action=conf&conf=Atlantic Coast&div=1\\'>Atlantic Coast</a></p><p><a href=\\'/scores.php?action=conf&conf=Big East&div=1\\'>Big East</a></p></td><td>&nbsp;</td><td>\\n<td><p><a href=\\'/scores.php?action=conf&conf=Big Ten&div=1\\'>Big Ten</a></p><p><a href=\\'/scores.php?action=conf&conf=Colonial&div=1\\'>Colonial</a></p><p><a href=\\'/scores.php?action=conf&conf=Ivy Group&div=1\\'>Ivy Group</a></p><p><a href=\\'/scores.php?action=conf&conf=MAAC&div=1\\'>MAAC</a></p></td><td>&nbsp;</td><td>\\n<td><p><a href=\\'/scores.php?action=conf&conf=Mid-American&div=1\\'>Mid-American</a></p><p><a href=\\'/scores.php?action=conf&conf=NorPac-East&div=1\\'>NorPac-East</a></p><p><a href=\\'/scores.php?action=conf&conf=NorPac-West&div=1\\'>NorPac-West</a></p><p><a href=\\'/scores.php?action=conf&conf=Patriot League&div=1\\'>Patriot League</a></p></tr></table><br>\\n<table style=\\'border: 1px solid black\\' cellspacing=0 cellpadding=4 bgcolor=\\'EEFFEE\\'>\\n<tr><td><a href=\\'/scores.php?action=schedule&tcode=ALB&div=1\\'>Albany</a></td><td><a href=\\'/scores.php?action=schedule&tcode=DAV&div=1\\'>Davidson</a></td><td><a href=\\'/scores.php?action=schedule&tcode=LIB&div=1\\'>Liberty</a></td><td><a href=\\'/scores.php?action=schedule&tcode=OHU&div=1\\'>Ohio</a></td><td><a href=\\'/scores.php?action=schedule&tcode=SIE&div=1\\'>Siena</a></td></tr>\\n<tr><td><a href=\\'/scores.php?action=schedule&tcode=AMU&div=1\\'>American</a></td><td><a href=\\'/scores.php?action=schedule&tcode=DEL&div=1\\'>Delaware</a></td><td><a href=\\'/scores.php?action=schedule&tcode=LOC&div=1\\'>Lock Haven</a></td><td><a href=\\'/scores.php?action=schedule&tcode=OHS&div=1\\'>Ohio State</a></td><td><a href=\\'/scores.php?action=schedule&tcode=STF&div=1\\'>Stanford</a></td></tr>\\n<tr><td><a href=\\'/scores.php?action=schedule&tcode=ASU&div=1\\'>Appalachian St.</a></td><td><a href=\\'/scores.php?action=schedule&tcode=DRX&div=1\\'>Drexel</a></td><td><a href=\\'/scores.php?action=schedule&tcode=LON&div=1\\'>Longwood</a></td><td><a href=\\'/scores.php?action=schedule&tcode=ODU&div=1\\'>Old Dominion</a></td><td><a href=\\'/scores.php?action=schedule&tcode=SYR&div=1\\'>Syracuse</a></td></tr>\\n<tr><td><a href=\\'/scores.php?action=schedule&tcode=BAL&div=1\\'>Ball State</a></td><td><a href=\\'/scores.php?action=schedule&tcode=DUK&div=1\\'>Duke</a></td><td><a href=\\'/scores.php?action=schedule&tcode=LOU&div=1\\'>Louisville</a></td><td><a href=\\'/scores.php?action=schedule&tcode=PAC&div=1\\'>Pacific</a></td><td><a href=\\'/scores.php?action=schedule&tcode=TMP&div=1\\'>Temple</a></td></tr>\\n<tr><td><a href=\\'/scores.php?action=schedule&tcode=BOC&div=1\\'>Boston C.</a></td><td><a href=\\'/scores.php?action=schedule&tcode=FRF&div=1\\'>Fairfield</a></td><td><a href=\\'/scores.php?action=schedule&tcode=MAI&div=1\\'>Maine</a></td><td><a href=\\'/scores.php?action=schedule&tcode=PEN&div=1\\'>Penn</a></td><td><a href=\\'/scores.php?action=schedule&tcode=TOW&div=1\\'>Towson</a></td></tr>\\n<tr><td><a href=\\'/scores.php?action=schedule&tcode=BOU&div=1\\'>Boston U.</a></td><td><a href=\\'/scores.php?action=schedule&tcode=GEO&div=1\\'>Georgetown</a></td><td><a href=\\'/scores.php?action=schedule&tcode=MAR&div=1\\'>Maryland</a></td><td><a href=\\'/scores.php?action=schedule&tcode=PSU&div=1\\'>Penn State</a></td><td><a href=\\'/scores.php?action=schedule&tcode=UCD&div=1\\'>UC Davis</a></td></tr>\\n<tr><td><a href=\\'/scores.php?action=schedule&tcode=BWN&div=1\\'>Brown</a></td><td><a href=\\'/scores.php?action=schedule&tcode=HVD&div=1\\'>Harvard</a></td><td><a href=\\'/scores.php?action=schedule&tcode=MAS&div=1\\'>Massachusetts</a></td><td><a href=\\'/scores.php?action=schedule&tcode=PRI&div=1\\'>Princeton</a></td><td><a href=\\'/scores.php?action=schedule&tcode=UML&div=1\\'>UMass-Lowell</a></td></tr>\\n<tr><td><a href=\\'/scores.php?action=schedule&tcode=BNT&div=1\\'>Bryant</a></td><td><a href=\\'/scores.php?action=schedule&tcode=HOF&div=1\\'>Hofstra</a></td><td><a href=\\'/scores.php?action=schedule&tcode=MIA&div=1\\'>Miami</a></td><td><a href=\\'/scores.php?action=schedule&tcode=PRO&div=1\\'>Providence</a></td><td><a href=\\'/scores.php?action=schedule&tcode=VER&div=1\\'>Vermont</a></td></tr>\\n<tr><td><a href=\\'/scores.php?action=schedule&tcode=BUC&div=1\\'>Bucknell</a></td><td><a href=\\'/scores.php?action=schedule&tcode=HOL&div=1\\'>Holy Cross</a></td><td><a href=\\'/scores.php?action=schedule&tcode=MIC&div=1\\'>Michigan</a></td><td><a href=\\'/scores.php?action=schedule&tcode=QUI&div=1\\'>Quinnipiac</a></td><td><a href=\\'/scores.php?action=schedule&tcode=VIL&div=1\\'>Villanova</a></td></tr>\\n<tr><td><a href=\\'/scores.php?action=schedule&tcode=CAL&div=1\\'>California</a></td><td><a href=\\'/scores.php?action=schedule&tcode=IND&div=1\\'>Indiana</a></td><td><a href=\\'/scores.php?action=schedule&tcode=MSU&div=1\\'>Michigan State</a></td><td><a href=\\'/scores.php?action=schedule&tcode=RIC&div=1\\'>Richmond</a></td><td><a href=\\'/scores.php?action=schedule&tcode=UVA&div=1\\'>Virginia</a></td></tr>\\n<tr><td><a href=\\'/scores.php?action=schedule&tcode=CMU&div=1\\'>Central Michigan</a></td><td><a href=\\'/scores.php?action=schedule&tcode=IOW&div=1\\'>Iowa</a></td><td><a href=\\'/scores.php?action=schedule&tcode=MOS&div=1\\'>Missouri State</a></td><td><a href=\\'/scores.php?action=schedule&tcode=RID&div=1\\'>Rider</a></td><td><a href=\\'/scores.php?action=schedule&tcode=VCU&div=1\\'>VCU</a></td></tr>\\n<tr><td><a href=\\'/scores.php?action=schedule&tcode=CLG&div=1\\'>Colgate</a></td><td><a href=\\'/scores.php?action=schedule&tcode=JMU&div=1\\'>James Madison</a></td><td><a href=\\'/scores.php?action=schedule&tcode=MNM&div=1\\'>Monmouth</a></td><td><a href=\\'/scores.php?action=schedule&tcode=RUT&div=1\\'>Rutgers</a></td><td><a href=\\'/scores.php?action=schedule&tcode=WFU&div=1\\'>Wake Forest</a></td></tr>\\n<tr><td><a href=\\'/scores.php?action=schedule&tcode=CMB&div=1\\'>Columbia</a></td><td><a href=\\'/scores.php?action=schedule&tcode=KST&div=1\\'>Kent State</a></td><td><a href=\\'/scores.php?action=schedule&tcode=NEH&div=1\\'>New Hampshire</a></td><td><a href=\\'/scores.php?action=schedule&tcode=SHU&div=1\\'>Sacred Heart</a></td><td><a href=\\'/scores.php?action=schedule&tcode=CWM&div=1\\'>William & Mary</a></td></tr>\\n<tr><td><a href=\\'/scores.php?action=schedule&tcode=CON&div=1\\'>Connecticut</a></td><td><a href=\\'/scores.php?action=schedule&tcode=LSL&div=1\\'>La Salle</a></td><td><a href=\\'/scores.php?action=schedule&tcode=UNC&div=1\\'>North Carolina</a></td><td><a href=\\'/scores.php?action=schedule&tcode=SFU&div=1\\'>Saint Francis</a></td><td><a href=\\'/scores.php?action=schedule&tcode=YAL&div=1\\'>Yale</a></td></tr>\\n<tr><td><a href=\\'/scores.php?action=schedule&tcode=COR&div=1\\'>Cornell</a></td><td><a href=\\'/scores.php?action=schedule&tcode=LAF&div=1\\'>Lafayette</a></td><td><a href=\\'/scores.php?action=schedule&tcode=NEA&div=1\\'>Northeastern</a></td><td><a href=\\'/scores.php?action=schedule&tcode=SJU&div=1\\'>Saint Joseph\\'s</a></td><td>&nbsp;</td></tr>\\n<tr><td><a href=\\'/scores.php?action=schedule&tcode=DRT&div=1\\'>Dartmouth</a></td><td><a href=\\'/scores.php?action=schedule&tcode=LEH&div=1\\'>Lehigh</a></td><td><a href=\\'/scores.php?action=schedule&tcode=NWU&div=1\\'>Northwestern</a></td><td><a href=\\'/scores.php?action=schedule&tcode=SLS&div=1\\'>Saint Louis</a></td><td>&nbsp;</td></tr>\\n</table><br><br>\\n<a href=\\'/\\'><b>Home</b></a>\\n</body>\\r\\n</html>'"
       ]
      }
     ],
     "prompt_number": 42
    },
    {
     "cell_type": "code",
     "collapsed": false,
     "input": [
      "HTML(r.text)"
     ],
     "language": "python",
     "metadata": {},
     "outputs": [
      {
       "html": [
        "<html>\r\n",
        "<head>\r\n",
        "    <title>Field Hockey Schedules & Scores</title>\r\n",
        "    <meta http-equiv=\"Content-Type\" content=\"text/html; charset=iso-8859-1\" />\r\n",
        "    <style type=\"text/css\">\r\n",
        "    <!--\r\n",
        "        BODY {font-family: Verdana, Arial, sans-serif; color: #000000; font-size: 12px}\r\n",
        "        TD   {font-family: Verdana, Arial, sans-serif; color: #000000; font-size: 10px}\r\n",
        "        .MASTER   {font-family: Verdana, Arial, sans-serif; color: #000000; font-size: 11px}\r\n",
        "        TH   {font-family: Verdana, Arial, sans-serif; color: #000000; font-size: 12px; font-weight: bold}\r\n",
        "        A    {font-family: Verdana, Arial, sans-serif; font-size: 10px}\r\n",
        "        A:VISITED  {font-family: Verdana, Arial, sans-serif; color: #000099; font-size: 10px}\r\n",
        "        P    { margin-top: 3px; margin-bottom: 3px }\r\n",
        "        H1   {font-size: 32px; margin-bottom: 4px}\r\n",
        "        H2   {font-size: 24px; margin-bottom: 4px}\r\n",
        "        BLOCKQUOTE { margin: -3px 0 0 12px }\r\n",
        "    -->\r\n",
        "    </style>\r\n",
        "</head>\r\n",
        "<body>\r\n",
        "<center><h1><font color='#00af00'>FieldHockeyCorner.com</font></h1><h2>2014 Schedules &amp; Results</h2><b><font color='#00af00' size='+2'>Division 1</font></b><br><br><table style='border: 1px solid black' cellspacing=0 cellpadding=4 bgcolor='EEFFEE'><tr valign=top><td>\n",
        "<p><a href='/scores.php?action=weekly&d1=2014-08-19&d2=2014-08-25&div=1'>Aug 19-Aug 25</a></p><p><a href='/scores.php?action=weekly&d1=2014-08-26&d2=2014-09-01&div=1'>Aug 26-Sep 1</a></p><p><a href='/scores.php?action=weekly&d1=2014-09-02&d2=2014-09-08&div=1'>Sep 2-Sep 8</a></p><p><a href='/scores.php?action=weekly&d1=2014-09-09&d2=2014-09-15&div=1'>Sep 9-Sep 15</a></p></td><td>&nbsp;</td><td>\n",
        "<td><p><a href='/scores.php?action=weekly&d1=2014-09-16&d2=2014-09-22&div=1'>Sep 16-Sep 22</a></p><p><a href='/scores.php?action=weekly&d1=2014-09-23&d2=2014-09-29&div=1'>Sep 23-Sep 29</a></p><p><a href='/scores.php?action=weekly&d1=2014-09-30&d2=2014-10-06&div=1'>Sep 30-Oct 6</a></p><p><a href='/scores.php?action=weekly&d1=2014-10-07&d2=2014-10-13&div=1'>Oct 7-Oct 13</a></p></td><td>&nbsp;</td><td>\n",
        "<td><p><a href='/scores.php?action=weekly&d1=2014-10-14&d2=2014-10-20&div=1'>Oct 14-Oct 20</a></p><p><a href='/scores.php?action=weekly&d1=2014-10-21&d2=2014-10-27&div=1'>Oct 21-Oct 27</a></p><p><a href='/scores.php?action=weekly&d1=2014-10-28&d2=2014-11-03&div=1'>Oct 28-Nov 3</a></p><p><a href='/scores.php?action=weekly&d1=2014-11-04&d2=2014-11-10&div=1'>Nov 4-Nov 10</a></p></td><td>&nbsp;</td><td>\n",
        "<td><p><a href='/scores.php?action=weekly&d1=2014-11-11&d2=2014-11-17&div=1'>Nov 11-Nov 17</a></p><p><a href='/scores.php?action=weekly&d1=2014-11-18&d2=2014-11-24&div=1'>Nov 18-Nov 24</a></p></tr></table><br>\n",
        "<table style='border: 1px solid black' cellspacing=0 cellpadding=2 bgcolor='EEFFEE'><tr valign=top><td>\n",
        "<p><a href='/scores.php?action=conf&conf=America East&div=1'>America East</a></p><p><a href='/scores.php?action=conf&conf=Atlantic 10&div=1'>Atlantic 10</a></p><p><a href='/scores.php?action=conf&conf=Atlantic Coast&div=1'>Atlantic Coast</a></p><p><a href='/scores.php?action=conf&conf=Big East&div=1'>Big East</a></p></td><td>&nbsp;</td><td>\n",
        "<td><p><a href='/scores.php?action=conf&conf=Big Ten&div=1'>Big Ten</a></p><p><a href='/scores.php?action=conf&conf=Colonial&div=1'>Colonial</a></p><p><a href='/scores.php?action=conf&conf=Ivy Group&div=1'>Ivy Group</a></p><p><a href='/scores.php?action=conf&conf=MAAC&div=1'>MAAC</a></p></td><td>&nbsp;</td><td>\n",
        "<td><p><a href='/scores.php?action=conf&conf=Mid-American&div=1'>Mid-American</a></p><p><a href='/scores.php?action=conf&conf=NorPac-East&div=1'>NorPac-East</a></p><p><a href='/scores.php?action=conf&conf=NorPac-West&div=1'>NorPac-West</a></p><p><a href='/scores.php?action=conf&conf=Patriot League&div=1'>Patriot League</a></p></tr></table><br>\n",
        "<table style='border: 1px solid black' cellspacing=0 cellpadding=4 bgcolor='EEFFEE'>\n",
        "<tr><td><a href='/scores.php?action=schedule&tcode=ALB&div=1'>Albany</a></td><td><a href='/scores.php?action=schedule&tcode=DAV&div=1'>Davidson</a></td><td><a href='/scores.php?action=schedule&tcode=LIB&div=1'>Liberty</a></td><td><a href='/scores.php?action=schedule&tcode=OHU&div=1'>Ohio</a></td><td><a href='/scores.php?action=schedule&tcode=SIE&div=1'>Siena</a></td></tr>\n",
        "<tr><td><a href='/scores.php?action=schedule&tcode=AMU&div=1'>American</a></td><td><a href='/scores.php?action=schedule&tcode=DEL&div=1'>Delaware</a></td><td><a href='/scores.php?action=schedule&tcode=LOC&div=1'>Lock Haven</a></td><td><a href='/scores.php?action=schedule&tcode=OHS&div=1'>Ohio State</a></td><td><a href='/scores.php?action=schedule&tcode=STF&div=1'>Stanford</a></td></tr>\n",
        "<tr><td><a href='/scores.php?action=schedule&tcode=ASU&div=1'>Appalachian St.</a></td><td><a href='/scores.php?action=schedule&tcode=DRX&div=1'>Drexel</a></td><td><a href='/scores.php?action=schedule&tcode=LON&div=1'>Longwood</a></td><td><a href='/scores.php?action=schedule&tcode=ODU&div=1'>Old Dominion</a></td><td><a href='/scores.php?action=schedule&tcode=SYR&div=1'>Syracuse</a></td></tr>\n",
        "<tr><td><a href='/scores.php?action=schedule&tcode=BAL&div=1'>Ball State</a></td><td><a href='/scores.php?action=schedule&tcode=DUK&div=1'>Duke</a></td><td><a href='/scores.php?action=schedule&tcode=LOU&div=1'>Louisville</a></td><td><a href='/scores.php?action=schedule&tcode=PAC&div=1'>Pacific</a></td><td><a href='/scores.php?action=schedule&tcode=TMP&div=1'>Temple</a></td></tr>\n",
        "<tr><td><a href='/scores.php?action=schedule&tcode=BOC&div=1'>Boston C.</a></td><td><a href='/scores.php?action=schedule&tcode=FRF&div=1'>Fairfield</a></td><td><a href='/scores.php?action=schedule&tcode=MAI&div=1'>Maine</a></td><td><a href='/scores.php?action=schedule&tcode=PEN&div=1'>Penn</a></td><td><a href='/scores.php?action=schedule&tcode=TOW&div=1'>Towson</a></td></tr>\n",
        "<tr><td><a href='/scores.php?action=schedule&tcode=BOU&div=1'>Boston U.</a></td><td><a href='/scores.php?action=schedule&tcode=GEO&div=1'>Georgetown</a></td><td><a href='/scores.php?action=schedule&tcode=MAR&div=1'>Maryland</a></td><td><a href='/scores.php?action=schedule&tcode=PSU&div=1'>Penn State</a></td><td><a href='/scores.php?action=schedule&tcode=UCD&div=1'>UC Davis</a></td></tr>\n",
        "<tr><td><a href='/scores.php?action=schedule&tcode=BWN&div=1'>Brown</a></td><td><a href='/scores.php?action=schedule&tcode=HVD&div=1'>Harvard</a></td><td><a href='/scores.php?action=schedule&tcode=MAS&div=1'>Massachusetts</a></td><td><a href='/scores.php?action=schedule&tcode=PRI&div=1'>Princeton</a></td><td><a href='/scores.php?action=schedule&tcode=UML&div=1'>UMass-Lowell</a></td></tr>\n",
        "<tr><td><a href='/scores.php?action=schedule&tcode=BNT&div=1'>Bryant</a></td><td><a href='/scores.php?action=schedule&tcode=HOF&div=1'>Hofstra</a></td><td><a href='/scores.php?action=schedule&tcode=MIA&div=1'>Miami</a></td><td><a href='/scores.php?action=schedule&tcode=PRO&div=1'>Providence</a></td><td><a href='/scores.php?action=schedule&tcode=VER&div=1'>Vermont</a></td></tr>\n",
        "<tr><td><a href='/scores.php?action=schedule&tcode=BUC&div=1'>Bucknell</a></td><td><a href='/scores.php?action=schedule&tcode=HOL&div=1'>Holy Cross</a></td><td><a href='/scores.php?action=schedule&tcode=MIC&div=1'>Michigan</a></td><td><a href='/scores.php?action=schedule&tcode=QUI&div=1'>Quinnipiac</a></td><td><a href='/scores.php?action=schedule&tcode=VIL&div=1'>Villanova</a></td></tr>\n",
        "<tr><td><a href='/scores.php?action=schedule&tcode=CAL&div=1'>California</a></td><td><a href='/scores.php?action=schedule&tcode=IND&div=1'>Indiana</a></td><td><a href='/scores.php?action=schedule&tcode=MSU&div=1'>Michigan State</a></td><td><a href='/scores.php?action=schedule&tcode=RIC&div=1'>Richmond</a></td><td><a href='/scores.php?action=schedule&tcode=UVA&div=1'>Virginia</a></td></tr>\n",
        "<tr><td><a href='/scores.php?action=schedule&tcode=CMU&div=1'>Central Michigan</a></td><td><a href='/scores.php?action=schedule&tcode=IOW&div=1'>Iowa</a></td><td><a href='/scores.php?action=schedule&tcode=MOS&div=1'>Missouri State</a></td><td><a href='/scores.php?action=schedule&tcode=RID&div=1'>Rider</a></td><td><a href='/scores.php?action=schedule&tcode=VCU&div=1'>VCU</a></td></tr>\n",
        "<tr><td><a href='/scores.php?action=schedule&tcode=CLG&div=1'>Colgate</a></td><td><a href='/scores.php?action=schedule&tcode=JMU&div=1'>James Madison</a></td><td><a href='/scores.php?action=schedule&tcode=MNM&div=1'>Monmouth</a></td><td><a href='/scores.php?action=schedule&tcode=RUT&div=1'>Rutgers</a></td><td><a href='/scores.php?action=schedule&tcode=WFU&div=1'>Wake Forest</a></td></tr>\n",
        "<tr><td><a href='/scores.php?action=schedule&tcode=CMB&div=1'>Columbia</a></td><td><a href='/scores.php?action=schedule&tcode=KST&div=1'>Kent State</a></td><td><a href='/scores.php?action=schedule&tcode=NEH&div=1'>New Hampshire</a></td><td><a href='/scores.php?action=schedule&tcode=SHU&div=1'>Sacred Heart</a></td><td><a href='/scores.php?action=schedule&tcode=CWM&div=1'>William & Mary</a></td></tr>\n",
        "<tr><td><a href='/scores.php?action=schedule&tcode=CON&div=1'>Connecticut</a></td><td><a href='/scores.php?action=schedule&tcode=LSL&div=1'>La Salle</a></td><td><a href='/scores.php?action=schedule&tcode=UNC&div=1'>North Carolina</a></td><td><a href='/scores.php?action=schedule&tcode=SFU&div=1'>Saint Francis</a></td><td><a href='/scores.php?action=schedule&tcode=YAL&div=1'>Yale</a></td></tr>\n",
        "<tr><td><a href='/scores.php?action=schedule&tcode=COR&div=1'>Cornell</a></td><td><a href='/scores.php?action=schedule&tcode=LAF&div=1'>Lafayette</a></td><td><a href='/scores.php?action=schedule&tcode=NEA&div=1'>Northeastern</a></td><td><a href='/scores.php?action=schedule&tcode=SJU&div=1'>Saint Joseph's</a></td><td>&nbsp;</td></tr>\n",
        "<tr><td><a href='/scores.php?action=schedule&tcode=DRT&div=1'>Dartmouth</a></td><td><a href='/scores.php?action=schedule&tcode=LEH&div=1'>Lehigh</a></td><td><a href='/scores.php?action=schedule&tcode=NWU&div=1'>Northwestern</a></td><td><a href='/scores.php?action=schedule&tcode=SLS&div=1'>Saint Louis</a></td><td>&nbsp;</td></tr>\n",
        "</table><br><br>\n",
        "<a href='/'><b>Home</b></a>\n",
        "</body>\r\n",
        "</html>"
       ],
       "metadata": {},
       "output_type": "pyout",
       "prompt_number": 43,
       "text": [
        "<IPython.core.display.HTML at 0x105a35490>"
       ]
      }
     ],
     "prompt_number": 43
    },
    {
     "cell_type": "code",
     "collapsed": false,
     "input": [
      "# I could even save this to a file if I wanted.\n",
      "\n",
      "outfile = open('front_page.html', 'w')\n",
      "outfile.write(r.text)\n",
      "outfile.close()"
     ],
     "language": "python",
     "metadata": {},
     "outputs": [],
     "prompt_number": 44
    },
    {
     "cell_type": "code",
     "collapsed": false,
     "input": [
      "import re"
     ],
     "language": "python",
     "metadata": {},
     "outputs": [],
     "prompt_number": 46
    },
    {
     "cell_type": "code",
     "collapsed": false,
     "input": [
      "re.findall(\"div=1'>Albany<\", r.text)"
     ],
     "language": "python",
     "metadata": {},
     "outputs": [
      {
       "metadata": {},
       "output_type": "pyout",
       "prompt_number": 51,
       "text": [
        "[u\"div=1'>Albany<\"]"
       ]
      }
     ],
     "prompt_number": 51
    },
    {
     "cell_type": "code",
     "collapsed": false,
     "input": [
      "re.findall(\"div=1'>(Albany)<\", r.text)"
     ],
     "language": "python",
     "metadata": {},
     "outputs": [
      {
       "metadata": {},
       "output_type": "pyout",
       "prompt_number": 52,
       "text": [
        "[u'Albany']"
       ]
      }
     ],
     "prompt_number": 52
    },
    {
     "cell_type": "code",
     "collapsed": false,
     "input": [
      "re.findall(\"div=1'>(.*?)<\", r.text)"
     ],
     "language": "python",
     "metadata": {},
     "outputs": [
      {
       "metadata": {},
       "output_type": "pyout",
       "prompt_number": 53,
       "text": [
        "[u'Aug 19-Aug 25',\n",
        " u'Aug 26-Sep 1',\n",
        " u'Sep 2-Sep 8',\n",
        " u'Sep 9-Sep 15',\n",
        " u'Sep 16-Sep 22',\n",
        " u'Sep 23-Sep 29',\n",
        " u'Sep 30-Oct 6',\n",
        " u'Oct 7-Oct 13',\n",
        " u'Oct 14-Oct 20',\n",
        " u'Oct 21-Oct 27',\n",
        " u'Oct 28-Nov 3',\n",
        " u'Nov 4-Nov 10',\n",
        " u'Nov 11-Nov 17',\n",
        " u'Nov 18-Nov 24',\n",
        " u'America East',\n",
        " u'Atlantic 10',\n",
        " u'Atlantic Coast',\n",
        " u'Big East',\n",
        " u'Big Ten',\n",
        " u'Colonial',\n",
        " u'Ivy Group',\n",
        " u'MAAC',\n",
        " u'Mid-American',\n",
        " u'NorPac-East',\n",
        " u'NorPac-West',\n",
        " u'Patriot League',\n",
        " u'Albany',\n",
        " u'Davidson',\n",
        " u'Liberty',\n",
        " u'Ohio',\n",
        " u'Siena',\n",
        " u'American',\n",
        " u'Delaware',\n",
        " u'Lock Haven',\n",
        " u'Ohio State',\n",
        " u'Stanford',\n",
        " u'Appalachian St.',\n",
        " u'Drexel',\n",
        " u'Longwood',\n",
        " u'Old Dominion',\n",
        " u'Syracuse',\n",
        " u'Ball State',\n",
        " u'Duke',\n",
        " u'Louisville',\n",
        " u'Pacific',\n",
        " u'Temple',\n",
        " u'Boston C.',\n",
        " u'Fairfield',\n",
        " u'Maine',\n",
        " u'Penn',\n",
        " u'Towson',\n",
        " u'Boston U.',\n",
        " u'Georgetown',\n",
        " u'Maryland',\n",
        " u'Penn State',\n",
        " u'UC Davis',\n",
        " u'Brown',\n",
        " u'Harvard',\n",
        " u'Massachusetts',\n",
        " u'Princeton',\n",
        " u'UMass-Lowell',\n",
        " u'Bryant',\n",
        " u'Hofstra',\n",
        " u'Miami',\n",
        " u'Providence',\n",
        " u'Vermont',\n",
        " u'Bucknell',\n",
        " u'Holy Cross',\n",
        " u'Michigan',\n",
        " u'Quinnipiac',\n",
        " u'Villanova',\n",
        " u'California',\n",
        " u'Indiana',\n",
        " u'Michigan State',\n",
        " u'Richmond',\n",
        " u'Virginia',\n",
        " u'Central Michigan',\n",
        " u'Iowa',\n",
        " u'Missouri State',\n",
        " u'Rider',\n",
        " u'VCU',\n",
        " u'Colgate',\n",
        " u'James Madison',\n",
        " u'Monmouth',\n",
        " u'Rutgers',\n",
        " u'Wake Forest',\n",
        " u'Columbia',\n",
        " u'Kent State',\n",
        " u'New Hampshire',\n",
        " u'Sacred Heart',\n",
        " u'William & Mary',\n",
        " u'Connecticut',\n",
        " u'La Salle',\n",
        " u'North Carolina',\n",
        " u'Saint Francis',\n",
        " u'Yale',\n",
        " u'Cornell',\n",
        " u'Lafayette',\n",
        " u'Northeastern',\n",
        " u\"Saint Joseph's\",\n",
        " u'Dartmouth',\n",
        " u'Lehigh',\n",
        " u'Northwestern',\n",
        " u'Saint Louis']"
       ]
      }
     ],
     "prompt_number": 53
    },
    {
     "cell_type": "code",
     "collapsed": false,
     "input": [
      "re.findall(\"tcode=ALB&div=1'>(.*?)<\", r.text)"
     ],
     "language": "python",
     "metadata": {},
     "outputs": [
      {
       "metadata": {},
       "output_type": "pyout",
       "prompt_number": 55,
       "text": [
        "[u'Albany']"
       ]
      }
     ],
     "prompt_number": 55
    },
    {
     "cell_type": "code",
     "collapsed": false,
     "input": [
      "re.findall(\"tcode=.*?&div=1'>.*?<\", r.text)"
     ],
     "language": "python",
     "metadata": {},
     "outputs": [
      {
       "metadata": {},
       "output_type": "pyout",
       "prompt_number": 49,
       "text": [
        "[u\"tcode=ALB&div=1'>Albany<\",\n",
        " u\"tcode=DAV&div=1'>Davidson<\",\n",
        " u\"tcode=LIB&div=1'>Liberty<\",\n",
        " u\"tcode=OHU&div=1'>Ohio<\",\n",
        " u\"tcode=SIE&div=1'>Siena<\",\n",
        " u\"tcode=AMU&div=1'>American<\",\n",
        " u\"tcode=DEL&div=1'>Delaware<\",\n",
        " u\"tcode=LOC&div=1'>Lock Haven<\",\n",
        " u\"tcode=OHS&div=1'>Ohio State<\",\n",
        " u\"tcode=STF&div=1'>Stanford<\",\n",
        " u\"tcode=ASU&div=1'>Appalachian St.<\",\n",
        " u\"tcode=DRX&div=1'>Drexel<\",\n",
        " u\"tcode=LON&div=1'>Longwood<\",\n",
        " u\"tcode=ODU&div=1'>Old Dominion<\",\n",
        " u\"tcode=SYR&div=1'>Syracuse<\",\n",
        " u\"tcode=BAL&div=1'>Ball State<\",\n",
        " u\"tcode=DUK&div=1'>Duke<\",\n",
        " u\"tcode=LOU&div=1'>Louisville<\",\n",
        " u\"tcode=PAC&div=1'>Pacific<\",\n",
        " u\"tcode=TMP&div=1'>Temple<\",\n",
        " u\"tcode=BOC&div=1'>Boston C.<\",\n",
        " u\"tcode=FRF&div=1'>Fairfield<\",\n",
        " u\"tcode=MAI&div=1'>Maine<\",\n",
        " u\"tcode=PEN&div=1'>Penn<\",\n",
        " u\"tcode=TOW&div=1'>Towson<\",\n",
        " u\"tcode=BOU&div=1'>Boston U.<\",\n",
        " u\"tcode=GEO&div=1'>Georgetown<\",\n",
        " u\"tcode=MAR&div=1'>Maryland<\",\n",
        " u\"tcode=PSU&div=1'>Penn State<\",\n",
        " u\"tcode=UCD&div=1'>UC Davis<\",\n",
        " u\"tcode=BWN&div=1'>Brown<\",\n",
        " u\"tcode=HVD&div=1'>Harvard<\",\n",
        " u\"tcode=MAS&div=1'>Massachusetts<\",\n",
        " u\"tcode=PRI&div=1'>Princeton<\",\n",
        " u\"tcode=UML&div=1'>UMass-Lowell<\",\n",
        " u\"tcode=BNT&div=1'>Bryant<\",\n",
        " u\"tcode=HOF&div=1'>Hofstra<\",\n",
        " u\"tcode=MIA&div=1'>Miami<\",\n",
        " u\"tcode=PRO&div=1'>Providence<\",\n",
        " u\"tcode=VER&div=1'>Vermont<\",\n",
        " u\"tcode=BUC&div=1'>Bucknell<\",\n",
        " u\"tcode=HOL&div=1'>Holy Cross<\",\n",
        " u\"tcode=MIC&div=1'>Michigan<\",\n",
        " u\"tcode=QUI&div=1'>Quinnipiac<\",\n",
        " u\"tcode=VIL&div=1'>Villanova<\",\n",
        " u\"tcode=CAL&div=1'>California<\",\n",
        " u\"tcode=IND&div=1'>Indiana<\",\n",
        " u\"tcode=MSU&div=1'>Michigan State<\",\n",
        " u\"tcode=RIC&div=1'>Richmond<\",\n",
        " u\"tcode=UVA&div=1'>Virginia<\",\n",
        " u\"tcode=CMU&div=1'>Central Michigan<\",\n",
        " u\"tcode=IOW&div=1'>Iowa<\",\n",
        " u\"tcode=MOS&div=1'>Missouri State<\",\n",
        " u\"tcode=RID&div=1'>Rider<\",\n",
        " u\"tcode=VCU&div=1'>VCU<\",\n",
        " u\"tcode=CLG&div=1'>Colgate<\",\n",
        " u\"tcode=JMU&div=1'>James Madison<\",\n",
        " u\"tcode=MNM&div=1'>Monmouth<\",\n",
        " u\"tcode=RUT&div=1'>Rutgers<\",\n",
        " u\"tcode=WFU&div=1'>Wake Forest<\",\n",
        " u\"tcode=CMB&div=1'>Columbia<\",\n",
        " u\"tcode=KST&div=1'>Kent State<\",\n",
        " u\"tcode=NEH&div=1'>New Hampshire<\",\n",
        " u\"tcode=SHU&div=1'>Sacred Heart<\",\n",
        " u\"tcode=CWM&div=1'>William & Mary<\",\n",
        " u\"tcode=CON&div=1'>Connecticut<\",\n",
        " u\"tcode=LSL&div=1'>La Salle<\",\n",
        " u\"tcode=UNC&div=1'>North Carolina<\",\n",
        " u\"tcode=SFU&div=1'>Saint Francis<\",\n",
        " u\"tcode=YAL&div=1'>Yale<\",\n",
        " u\"tcode=COR&div=1'>Cornell<\",\n",
        " u\"tcode=LAF&div=1'>Lafayette<\",\n",
        " u\"tcode=NEA&div=1'>Northeastern<\",\n",
        " u\"tcode=SJU&div=1'>Saint Joseph's<\",\n",
        " u\"tcode=DRT&div=1'>Dartmouth<\",\n",
        " u\"tcode=LEH&div=1'>Lehigh<\",\n",
        " u\"tcode=NWU&div=1'>Northwestern<\",\n",
        " u\"tcode=SLS&div=1'>Saint Louis<\"]"
       ]
      }
     ],
     "prompt_number": 49
    },
    {
     "cell_type": "code",
     "collapsed": false,
     "input": [
      "re.findall(\"tcode=.*?&div=1'>(.*?)<\", r.text)"
     ],
     "language": "python",
     "metadata": {},
     "outputs": [
      {
       "metadata": {},
       "output_type": "pyout",
       "prompt_number": 50,
       "text": [
        "[u'Albany',\n",
        " u'Davidson',\n",
        " u'Liberty',\n",
        " u'Ohio',\n",
        " u'Siena',\n",
        " u'American',\n",
        " u'Delaware',\n",
        " u'Lock Haven',\n",
        " u'Ohio State',\n",
        " u'Stanford',\n",
        " u'Appalachian St.',\n",
        " u'Drexel',\n",
        " u'Longwood',\n",
        " u'Old Dominion',\n",
        " u'Syracuse',\n",
        " u'Ball State',\n",
        " u'Duke',\n",
        " u'Louisville',\n",
        " u'Pacific',\n",
        " u'Temple',\n",
        " u'Boston C.',\n",
        " u'Fairfield',\n",
        " u'Maine',\n",
        " u'Penn',\n",
        " u'Towson',\n",
        " u'Boston U.',\n",
        " u'Georgetown',\n",
        " u'Maryland',\n",
        " u'Penn State',\n",
        " u'UC Davis',\n",
        " u'Brown',\n",
        " u'Harvard',\n",
        " u'Massachusetts',\n",
        " u'Princeton',\n",
        " u'UMass-Lowell',\n",
        " u'Bryant',\n",
        " u'Hofstra',\n",
        " u'Miami',\n",
        " u'Providence',\n",
        " u'Vermont',\n",
        " u'Bucknell',\n",
        " u'Holy Cross',\n",
        " u'Michigan',\n",
        " u'Quinnipiac',\n",
        " u'Villanova',\n",
        " u'California',\n",
        " u'Indiana',\n",
        " u'Michigan State',\n",
        " u'Richmond',\n",
        " u'Virginia',\n",
        " u'Central Michigan',\n",
        " u'Iowa',\n",
        " u'Missouri State',\n",
        " u'Rider',\n",
        " u'VCU',\n",
        " u'Colgate',\n",
        " u'James Madison',\n",
        " u'Monmouth',\n",
        " u'Rutgers',\n",
        " u'Wake Forest',\n",
        " u'Columbia',\n",
        " u'Kent State',\n",
        " u'New Hampshire',\n",
        " u'Sacred Heart',\n",
        " u'William & Mary',\n",
        " u'Connecticut',\n",
        " u'La Salle',\n",
        " u'North Carolina',\n",
        " u'Saint Francis',\n",
        " u'Yale',\n",
        " u'Cornell',\n",
        " u'Lafayette',\n",
        " u'Northeastern',\n",
        " u\"Saint Joseph's\",\n",
        " u'Dartmouth',\n",
        " u'Lehigh',\n",
        " u'Northwestern',\n",
        " u'Saint Louis']"
       ]
      }
     ],
     "prompt_number": 50
    },
    {
     "cell_type": "code",
     "collapsed": false,
     "input": [],
     "language": "python",
     "metadata": {},
     "outputs": []
    }
   ],
   "metadata": {}
  }
 ]
}