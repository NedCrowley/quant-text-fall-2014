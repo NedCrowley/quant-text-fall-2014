{
 "metadata": {
  "name": "",
  "signature": "sha256:b434f67cf03ef837c349039e822d5baa9bc9e80e680ab3075d72cb4c5b0c2c68"
 },
 "nbformat": 3,
 "nbformat_minor": 0,
 "worksheets": [
  {
   "cells": [
    {
     "cell_type": "code",
     "collapsed": false,
     "input": [
      "# Stopwords 1\n",
      "\n",
      "import nltk\n",
      "nltk.download('stopwords')\n",
      "\n",
      "stop_words = stopword_list = nltk.corpus.stopwords.words('english')"
     ],
     "language": "python",
     "metadata": {},
     "outputs": [
      {
       "output_type": "stream",
       "stream": "stdout",
       "text": [
        "[nltk_data] Downloading package 'stopwords' to\n",
        "[nltk_data]     /Users/nealcaren/nltk_data...\n",
        "[nltk_data]   Package stopwords is already up-to-date!\n"
       ]
      }
     ],
     "prompt_number": 4
    },
    {
     "cell_type": "code",
     "collapsed": false,
     "input": [
      "#stopwords 2\n",
      "\n",
      "import pickle\n",
      "import requests\n",
      "\n",
      "url = requests.get('https://raw.githubusercontent.com/nealcaren/quant-text-fall-2014/master/stopwords.pickle')\n",
      "\n",
      "stop_words = pickle.loads(url.text)"
     ],
     "language": "python",
     "metadata": {},
     "outputs": [],
     "prompt_number": 7
    }
   ],
   "metadata": {}
  }
 ]
}