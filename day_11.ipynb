{
 "metadata": {
  "celltoolbar": "Slideshow",
  "name": "",
  "signature": "sha256:dce144d5cbd2809c9d402dd368e8cc153d0137f1848a5d6264ac526cc5ad1c9e"
 },
 "nbformat": 3,
 "nbformat_minor": 0,
 "worksheets": [
  {
   "cells": [
    {
     "cell_type": "markdown",
     "metadata": {
      "slideshow": {
       "slide_type": "slide"
      }
     },
     "source": [
      "#### Faking it as a Data Scientist\n",
      "\n",
      "1. Don't say logistic regression.\n",
      "    1. It's a classification problem.\n",
      "    2. Naive Bayes\n",
      "    3. SVM\n",
      "    4. Ensemble/Random Forest\n",
      "2. Don't say factor analysis.\n",
      "    1. It's a data reduction method.\n",
      "    1. PCA\n",
      "    2. Topic Modeling\n",
      "3. Don't say variables\n",
      "    1. Say features\n",
      "4. Don't talk about your r2\n",
      "    1. Talk about fit on your test data set or out-of-sample prediction accuracy."
     ]
    },
    {
     "cell_type": "markdown",
     "metadata": {
      "slideshow": {
       "slide_type": "slide"
      }
     },
     "source": [
      "1. Load the data\n",
      "2. Tranform variables\n",
      "3. Select model and parameters\n",
      "3. Train the model\n",
      "4. Test the model\n",
      "5. GOTO 2"
     ]
    },
    {
     "cell_type": "code",
     "collapsed": false,
     "input": [
      "import urllib2\n",
      "import csv"
     ],
     "language": "python",
     "metadata": {
      "slideshow": {
       "slide_type": "slide"
      }
     },
     "outputs": [],
     "prompt_number": 26
    },
    {
     "cell_type": "code",
     "collapsed": false,
     "input": [
      "url = 'https://gist.githubusercontent.com/nealcaren/886c85645695d04887d0/raw/fec90e5cc1257f277f97a904a4f1cb77f60b2012/asa_2014_prelim.csv'"
     ],
     "language": "python",
     "metadata": {},
     "outputs": [],
     "prompt_number": 49
    },
    {
     "cell_type": "code",
     "collapsed": false,
     "input": [
      "response = urllib2.urlopen(url)"
     ],
     "language": "python",
     "metadata": {},
     "outputs": [],
     "prompt_number": 64
    },
    {
     "cell_type": "code",
     "collapsed": false,
     "input": [
      "reader = csv.reader(response)"
     ],
     "language": "python",
     "metadata": {},
     "outputs": [],
     "prompt_number": 65
    },
    {
     "cell_type": "code",
     "collapsed": false,
     "input": [
      "presentations = list(reader)\n",
      "print len(presentations)"
     ],
     "language": "python",
     "metadata": {},
     "outputs": [
      {
       "output_type": "stream",
       "stream": "stdout",
       "text": [
        "3953\n"
       ]
      }
     ],
     "prompt_number": 66
    },
    {
     "cell_type": "code",
     "collapsed": false,
     "input": [
      "presentations[:4]"
     ],
     "language": "python",
     "metadata": {
      "slideshow": {
       "slide_type": "slide"
      }
     },
     "outputs": [
      {
       "metadata": {},
       "output_type": "pyout",
       "prompt_number": 94,
       "text": [
        "[['id', 'authors', 'date', 'event', 'title', 'type', 'abstract'],\n",
        " ['709815',\n",
        "  'Emmanuel Saez, University of California-Berkeley',\n",
        "  'Fri, August 15, 7:00 to 9:00pm, TBA',\n",
        "  'Opening Plenary Session. Hard Times: The Concentrations of Income and Wealth',\n",
        "  'Inequality and Opportunity in the United States',\n",
        "  'Plenary',\n",
        "  ''],\n",
        " ['709816',\n",
        "  'Thomas M. Shapiro, Brandeis University; Melvin L. Oliver, University of California-Santa Barbara',\n",
        "  'Fri, August 15, 7:00 to 9:00pm, TBA',\n",
        "  'Opening Plenary Session. Hard Times: The Concentrations of Income and Wealth',\n",
        "  'Black Wealth/White Wealth Revisited',\n",
        "  'Plenary',\n",
        "  ''],\n",
        " ['709817',\n",
        "  'Leslie McCall, Northwestern University',\n",
        "  'Fri, August 15, 7:00 to 9:00pm, TBA',\n",
        "  'Opening Plenary Session. Hard Times: The Concentrations of Income and Wealth',\n",
        "  'How Americans Think about Economic Inequality',\n",
        "  'Plenary',\n",
        "  '']]"
       ]
      }
     ],
     "prompt_number": 94
    },
    {
     "cell_type": "code",
     "collapsed": false,
     "input": [
      "roundtable = []\n",
      "abstracts  = []\n",
      "\n",
      "for presentation in presentations:\n",
      "    abstract = presentation[-1]\n",
      "    if len(abstract) > 10:\n",
      "        abstracts.append(abstract)\n",
      "        if 'Roundtable' in presentation[3]:\n",
      "            roundtable.append(1)\n",
      "        else:\n",
      "            roundtable.append(0)\n",
      "\n",
      "print len(abstracts)\n",
      "print len(roundtable)"
     ],
     "language": "python",
     "metadata": {
      "slideshow": {
       "slide_type": "slide"
      }
     },
     "outputs": [
      {
       "output_type": "stream",
       "stream": "stdout",
       "text": [
        "3698\n",
        "3698\n"
       ]
      }
     ],
     "prompt_number": 82
    },
    {
     "cell_type": "code",
     "collapsed": false,
     "input": [
      "roundtable[18:20]"
     ],
     "language": "python",
     "metadata": {
      "slideshow": {
       "slide_type": "slide"
      }
     },
     "outputs": [
      {
       "metadata": {},
       "output_type": "pyout",
       "prompt_number": 95,
       "text": [
        "[1, 0]"
       ]
      }
     ],
     "prompt_number": 95
    },
    {
     "cell_type": "code",
     "collapsed": false,
     "input": [
      "abstracts[18:20]"
     ],
     "language": "python",
     "metadata": {},
     "outputs": [
      {
       "metadata": {},
       "output_type": "pyout",
       "prompt_number": 96,
       "text": [
        "[\"This paper provides a historical overview of the way journalists have reported the issue of poverty. The paper outlines three identifiable paradigms relating to how journalists frame poverty. The first paradigm was dominated by intellectuals from the Victorian-era who promoted ideas about poverty within an individualist framework that used various intellectual justifications that blamed the poor for their own poverty. The ideals promoted by Victorian-era intellectuals could be understood as operating through the conceptual lens of \\xe2\\x80\\x98social Darwinism\\xe2\\x80\\x99.  These elite narratives became unsustainable following the great depression, the rise of workers movements and the expansion of the democratic franchise in the United Kingdom and the United States. In the aftermath of the Second World War a transatlantic economic consensus of collectivism developed with the creation of the New Deal in the United States and the British welfare state. These narratives dominated until the late 1970's when the press embarked on a widespread critique of social welfare programs. The critique of social welfare programs manifested itself as a critique of the poor themselves. This developed into a range of critiques which reflected the individualist narratives of the Victorian-era.  Discourses that blamed the poor for their own poverty re-emerged through concepts like the \\xe2\\x80\\x98underclass\\xe2\\x80\\x99 which echoed the \\xe2\\x80\\x98social Darwinism\\xe2\\x80\\x99 of the Victorian-era. This paper will examine the use of the \\xe2\\x80\\x98underclass\\xe2\\x80\\x99 concept by journalists by focusing on its links to the discourses of the Victorian-era and its development and promotion by intellectual elites who, in the contemporary-era work for Conservative think tanks.\",\n",
        " 'The UN declaration of human rights articulates a right to health inseparable from rights to other basic needs -- food, housing, education, gainful employment, old age pension, and leisure. The premise is that the promotion and protection of health requires living conditions that assure human dignity. At the turn of the 21st century, several governments in Latin America assumed the responsibility to guarantee a life of dignity for all their citizens.  One such country, Venezuela, stood up to the challenge by appropriating, via the electoral system, the power of the state to turn it into an instrument of the power of the people. This Poder Popular, or popular power, had been suppressed in Venezuela despite decades of Western-style liberal democracy, which granted a right to vote yet in practice suppressed the actual political, economic, cultural and social participation of the majority of Venezuelans in their society. Since 1999, the Venezuelan people have found new and powerful ways of expression through a revolutionary Constitution enshrining a range of people-centered public policies.   This presentation will familiarize participants with these policies by describing the historical development of the struggle of the Venezuelan people for a life of dignity.  It will highlight the role of the \\xe2\\x80\\x9cMissions\\xe2\\x80\\x9d, the Bolivarian Government\\xe2\\x80\\x99s instruments to guarantee universal rights to food, housing, health, education, gainful employment, information, and leisure, among other factors contributing to human welfare.  It will also elaborate on current challenges to, and opportunities for, achieving the goal of social justice embedded in the Bolivarian vision.']"
       ]
      }
     ],
     "prompt_number": 96
    },
    {
     "cell_type": "code",
     "collapsed": false,
     "input": [
      "from sklearn.feature_extraction.text import CountVectorizer"
     ],
     "language": "python",
     "metadata": {
      "slideshow": {
       "slide_type": "slide"
      }
     },
     "outputs": [],
     "prompt_number": 97
    },
    {
     "cell_type": "code",
     "collapsed": false,
     "input": [
      "vectorizer = CountVectorizer(lowercase     = True ,\n",
      "                             min_df        = 5 ,\n",
      "                             max_df        = .5 ,\n",
      "                             ngram_range   = (1, 1),\n",
      "                             stop_words    = 'english', \n",
      "                             strip_accents = 'unicode')"
     ],
     "language": "python",
     "metadata": {
      "slideshow": {
       "slide_type": "fragment"
      }
     },
     "outputs": [],
     "prompt_number": 159
    },
    {
     "cell_type": "code",
     "collapsed": false,
     "input": [
      "vectorizer.fit(abstracts)"
     ],
     "language": "python",
     "metadata": {
      "slideshow": {
       "slide_type": "fragment"
      }
     },
     "outputs": [
      {
       "metadata": {},
       "output_type": "pyout",
       "prompt_number": 160,
       "text": [
        "CountVectorizer(analyzer=u'word', binary=False, charset=None,\n",
        "        charset_error=None, decode_error=u'strict',\n",
        "        dtype=<type 'numpy.int64'>, encoding=u'utf-8', input=u'content',\n",
        "        lowercase=True, max_df=0.5, max_features=None, min_df=5,\n",
        "        ngram_range=(1, 1), preprocessor=None, stop_words='english',\n",
        "        strip_accents='unicode', token_pattern=u'(?u)\\\\b\\\\w\\\\w+\\\\b',\n",
        "        tokenizer=None, vocabulary=None)"
       ]
      }
     ],
     "prompt_number": 160
    },
    {
     "cell_type": "code",
     "collapsed": false,
     "input": [
      "X = vectorizer.transform(abstracts)"
     ],
     "language": "python",
     "metadata": {
      "slideshow": {
       "slide_type": "fragment"
      }
     },
     "outputs": [],
     "prompt_number": 161
    },
    {
     "cell_type": "code",
     "collapsed": false,
     "input": [
      "from sklearn.naive_bayes import MultinomialNB"
     ],
     "language": "python",
     "metadata": {
      "slideshow": {
       "slide_type": "slide"
      }
     },
     "outputs": [],
     "prompt_number": 162
    },
    {
     "cell_type": "code",
     "collapsed": false,
     "input": [
      "clf = MultinomialNB()"
     ],
     "language": "python",
     "metadata": {
      "slideshow": {
       "slide_type": "fragment"
      }
     },
     "outputs": [],
     "prompt_number": 163
    },
    {
     "cell_type": "code",
     "collapsed": false,
     "input": [
      "clf.fit(X,roundtable)"
     ],
     "language": "python",
     "metadata": {},
     "outputs": [
      {
       "metadata": {},
       "output_type": "pyout",
       "prompt_number": 164,
       "text": [
        "MultinomialNB(alpha=1.0, class_prior=None, fit_prior=True)"
       ]
      }
     ],
     "prompt_number": 164
    },
    {
     "cell_type": "code",
     "collapsed": false,
     "input": [
      "y_hat = clf.predict(X)"
     ],
     "language": "python",
     "metadata": {
      "slideshow": {
       "slide_type": "slide"
      }
     },
     "outputs": [],
     "prompt_number": 165
    },
    {
     "cell_type": "code",
     "collapsed": false,
     "input": [
      "y_hat[:50]"
     ],
     "language": "python",
     "metadata": {
      "slideshow": {
       "slide_type": "fragment"
      }
     },
     "outputs": [
      {
       "metadata": {},
       "output_type": "pyout",
       "prompt_number": 166,
       "text": [
        "array([0, 1, 0, 0, 0, 0, 0, 0, 0, 0, 0, 0, 1, 1, 0, 1, 0, 1, 1, 0, 1, 0, 1,\n",
        "       1, 1, 1, 1, 0, 1, 0, 1, 1, 1, 1, 1, 0, 1, 1, 0, 0, 1, 1, 1, 1, 0, 0,\n",
        "       1, 1, 1, 0])"
       ]
      }
     ],
     "prompt_number": 166
    },
    {
     "cell_type": "code",
     "collapsed": false,
     "input": [
      "print roundtable[:50]"
     ],
     "language": "python",
     "metadata": {
      "slideshow": {
       "slide_type": "fragment"
      }
     },
     "outputs": [
      {
       "output_type": "stream",
       "stream": "stdout",
       "text": [
        "[0, 0, 0, 0, 0, 0, 0, 0, 0, 0, 0, 0, 1, 1, 0, 1, 0, 1, 1, 0, 1, 0, 1, 1, 1, 1, 1, 0, 1, 0, 1, 1, 1, 1, 1, 1, 1, 1, 0, 0, 1, 1, 1, 1, 0, 0, 1, 1, 1, 0]\n"
       ]
      }
     ],
     "prompt_number": 167
    },
    {
     "cell_type": "code",
     "collapsed": false,
     "input": [
      "clf.score(X, roundtable)"
     ],
     "language": "python",
     "metadata": {
      "slideshow": {
       "slide_type": "fragment"
      }
     },
     "outputs": [
      {
       "metadata": {},
       "output_type": "pyout",
       "prompt_number": 168,
       "text": [
        "0.84721471065440779"
       ]
      }
     ],
     "prompt_number": 168
    },
    {
     "cell_type": "code",
     "collapsed": false,
     "input": [
      "from sklearn import metrics"
     ],
     "language": "python",
     "metadata": {
      "slideshow": {
       "slide_type": "slide"
      }
     },
     "outputs": [],
     "prompt_number": 152
    },
    {
     "cell_type": "code",
     "collapsed": false,
     "input": [
      "metrics.confusion_matrix(roundtable, y_hat)"
     ],
     "language": "python",
     "metadata": {
      "slideshow": {
       "slide_type": "fragment"
      }
     },
     "outputs": [
      {
       "metadata": {},
       "output_type": "pyout",
       "prompt_number": 153,
       "text": [
        "array([[1327,  162],\n",
        "       [ 271, 1938]])"
       ]
      }
     ],
     "prompt_number": 153
    },
    {
     "cell_type": "code",
     "collapsed": false,
     "input": [
      "y_hat_p = clf.predict_proba(X)\n",
      "y_hat_p = [y[1] for y in y_hat_p]\n",
      "predictions = zip(roundtable, abstracts,y_hat_p)\n",
      "predictions = {(p[0],p[1]):p[2] for p in predictions}"
     ],
     "language": "python",
     "metadata": {},
     "outputs": [],
     "prompt_number": 230
    },
    {
     "cell_type": "code",
     "collapsed": false,
     "input": [
      "#print out some predicted values\n",
      "\n",
      "for abstract in sorted(predictions, key=predictions.get, reverse=True)[:20]:\n",
      "    print predictions[abstract],abstract\n",
      "    print ''"
     ],
     "language": "python",
     "metadata": {},
     "outputs": [
      {
       "output_type": "stream",
       "stream": "stdout",
       "text": [
        "1.0 (1, 'Despite many decades of research on the black-white achievement gap, we lack an understanding of how gender and race intersect to influence educational outcomes and how this may vary in different contexts, such as families and schools. The gender gap in educational attainment is highest among African Americans, with African American males having lower educational attainment than other groups.  Using the National Longitudinal Study of Adolescent Health, this paper investigates how the level of family disadvantage of schoolmates in grades 7-8 (school-level index based on parents\\xe2\\x80\\x99 education, poverty status, family structure, and teenage parenting) relates to the educational attainment of African American males in early adulthood.  How do patterns for black males compare with those for black females and white youth, after accounting for individual family disadvantages and other family, school, and individual covariates?  Results support the hypothesis that concentrated schoolmate disadvantage more negatively relates to educational attainment among African American males than females.  Among black males, schoolmate disadvantage negatively predicts high school graduation and college entry, net of individual, family, and school factors.  Among black males, each unit increase in the school median family disadvantage index is associated with a 29% decline in the odds of completing high school (odds ratio=.71, p<.05) and a 35% decline in the odds of entering college (odds ratio=.65, p<.01), conditional on completing high school.   By contrast, schoolmate disadvantage shows no relationship to educational attainment for black females after accounting for individual family disadvantage.  Gender patterns differ among whites.')\n",
        "\n",
        "1.0 (1, 'This paper analyzes people\\xe2\\x80\\x99s response to the legal consequences faced by an anti-war candidate during and after WWI to better understand and extend legal consciousness theory.  The consequences of WWI and the laws passed in reaction to it (Espionage Act and Sedition Act) had a substantial impact on Americans\\xe2\\x80\\x99 rights consciousness, its understanding of personal liberty, and its rights consciousness.  Unlike other legal consciousness scholarship which focuses on each respondent\\xe2\\x80\\x99s individual legal interactions, this paper examines how many people reacted to the same legal incident, the controversy over Socialist candidate Victor Berger\\xe2\\x80\\x99s seat in the House of Representatives. In 1918, Berger was elected to the House by Southeastern Wisconsin, but the House refused to seat Berger, having been charged with violation of the Espionage Act for his editorials against entrance into WWI.  In a special election to fill his vacant seat, Berger\\xe2\\x80\\x99s constituents re-elected him, despite Congress\\xe2\\x80\\x99 refusal to seat him.  People nationwide wrote to the House Committee that was deciding Berger\\xe2\\x80\\x99s eligibility. These letters and telegrams offer substantial insights into how people at that time understood the law and negotiated their relationship to it.  Three main perspectives emerge: those who saw the law as an entitlement and wanted Berger seated, those who saw the law as a privilege and did not want the House to seat Berger, and those who saw the law as a means for compromise, pragmatically assessing Berger as the lesser evil when compared with more radical leftists.')\n",
        "\n",
        "1.0 (1, 'The study estimates the prevalence and describe gender differences in reported non-suicidal self-injury among a representative sample of high school students. Using CDC Youth Risk Behavior Surveillance System data from Vermont in 2011, the prevalence of self-injury and variables believed to predict self-injury were estimated for high school age boys (N=4313) and girls (N=4178) as well as both genders combined. Point biserial correlations and logistic regression analyses were used to evaluate predictors of self-injury. Approximately 7.4% of boys and 17.9% of girls reported purposefully hurting themselves without wanting to die at least once during the previous 12 months. Fighting, forced sex, being bullied, being sad, planning suicide, attempting suicide, identifying as gay or lesbian, trying to change body weight, and alcohol, tobacco, and drug use were significantly correlated with self-injury. Logistic regression, using backwards elimination of variables revealed different predictors according to gender, with fighting significant for only boys (Odds Ratio=2.11; 95% CI=1.3-3.41) and forced sex (OR=1.71, 95% CI=1.20-2.44), being bullied (OR=1.86, 95% CI=1.41-2.45), and trying to change body weight (OR=1.68, 95% CI=1.28- 2.19) significant only for girls, and alcohol and marijuana use not significant for either. Findings indicate that non-clinical populations of high school students, especially girls, are at high risk of self-injury. Efforts to treat and prevent self-injury should ideally begin before these behaviors require emergency room visits or are discovered in clinical settings. Existing understandings of the causes of self-injury are supported, though some gender differences emerge.')\n",
        "\n",
        "1.0 (1, 'In the United States over 1million students drop out of high school annually.  The dropout crisis in America is a systematic problem that disproportionately impacts populations of color.  In 2010, 25.6 % of all eligible Californian students did not graduate within 4 years.  The majority of these students were African-American or Latino/a.  Students who drop out of school experience multiple political, social, and economic issues including less civic engagement, poorer quality of health, and higher rates of unemployment.  For these reasons, it is necessary to understand the best ways to enroll people who have dropped out of high school into programs that provide diplomas, job skills, and college preparation.  This study examines the impact of self -determination theory on high school dropouts returning to high school.  The quantitative study occurred at two YouthBuild Charter Schools, located in Norwalk and Los Angeles.  The participants for this study were male and female African-American and Latino/students between the ages of 16-24 years old.  The findings of this study revealed that dropout recovery students exhibit characteristics associated with self- efficacy and intrinsic motivation, but exhibit low levels of self \\xe2\\x80\\x93regulation.  This results in dropout recovery students benefiting from external regulation in order to finish high school.  The study shows that students who identify as leaders and maintain support systems through both friends are more engaged in school.  The findings also suggest that students with lower levels of intrinsic motivation can develop self-autonomous behavior and internal regulation in order to earn a high school diploma.')\n",
        "\n",
        "1.0 (1, 'This project has two main research questions:  (1) What is the association between late-life cognitive decline and sociodemographic and health characteristics?; and (2) Does the \\xe2\\x80\\x9cnatural experiment\\xe2\\x80\\x9d of the Great Depression in the U.S. provide evidence that there is an association between prenatal or childhood exposure to food shortage and stress and late-life cognitive decline (cohort effects)?   I test five hypotheses related to those questions.  The empirical work uses ten waves of the U.S. Health and Retirement Survey, from 1992 to 2010, operationalizing cognitive decline as self- or proxy-reported diagnosis of memory disease.   My results suggest that exposure to the Great Depression significantly increases the likelihood of being diagnosed with a memory disease (OR = 1.68, p<0.001).   Furthermore, sex (OR=.74, p < .001), stroke one year prior to diagnosis (OR=1.3, p < .001), level of emotional depression two years prior (OR=1.2, p<.001), BMI two years prior (OR=.98, p<.01), and late-life wealth two years prior (OR=.93, p<.01) are associated with the likelihood of a memory disease diagnosis, net of other effects.  Hispanic ethnicity has a significant impact in the models until cohort membership is included, while being Black is no longer significant once chronic illnesses are included.  In contrast to the cognitive reserve hypothesis, neither educational attainment nor occupation is significant when controlling for other factors.  I offer some potential explanations for these results.')\n",
        "\n",
        "1.0 (1, 'Research has noted racial differences in depression but whether depression levels diverge or converge across the life course differently by race is not well understood.  Using longitudinal data from the 1986-2002 Americans\\xe2\\x80\\x99 Changing Lives, this study uses HLM Growth Modeling to investigate the multidimensional mechanisms implicated in race differences in depression by examining the extent to which these differences are explained by psychosocial stress, socioeconomic status and health conditions.   Level 1 predictors included time varying covariates such as parental stress, financial stress, life events, marital status, educational attainment, income, age, diabetes, BMI and high blood pressure.  Race and sex were entered at Level 2.   Findings show although depression wanes over time, African Americans (\\xce\\xb2=0.459; p<.001) experience higher levels of depression compared to Whites over the life course.  Race differences in depression were explained by parental (\\xce\\xb2=0.459; p<.001) and financial stress (\\xce\\xb2=0.459; p<.001).  However, education (\\xce\\xb2=0.459; p<.001), marital status (\\xce\\xb2=0.459; p<.001), and being overweight (\\xce\\xb2=0.459; p<.001) were inversely related to depression.    High blood pressure (\\xce\\xb2=0.459; p<.001) was positively associated with depression.   Men had lower depression than females (\\xce\\xb2=0.459; p<.001) and interactions show strong evidence that sex differences in depression depends on experiencing parental stress.  Implications of findings suggest interventions for reducing stress endemic to racial populations is imperative for reducing health disparities and improving population health.')\n",
        "\n",
        "1.0 (1, \"Qualitative Sociology's December issue explores the purchase of Actor-Network Theory for qualitative and ethnographic sociologies. Founded in the early 1980s by Bruno Latour, Michel Callon, and John Law, ANT has become one of the most exciting and innovative intellectual developments in recent memory. Originally developed as an alternative approach in the sociology of science, it has long professed and exhibited usefulness in the analysis of all arenas of social life. Although ANT concepts, theories, and sensibilities have been taken up across the social sciences and humanities, sociology, particularly within the U.S. context, has lagged.Envisioned as an exercise in translation, this special issue introduces, engages, and expands on many of ANT\\xe2\\x80\\x99s signature features,such as its skepticism towards taken-for-granted divisions, categories, and concepts, its attention to processes of circulation, its interest in the relational interface between humans and nonhumans, and finally its appreciation for uncertainty and multiplicity. The issue features seven empirically rich and theoretically provocative essays on art, materiality and meaning-making; devices of democratic representation; independent film and the formation of \\xe2\\x80\\x9ccivil society;\\xe2\\x80\\x9d urban social movements and the limits of parliamentarian politics; genomics and science of race; the conversion of religious buildings; and reflexivity in sociological account-making. The issue concludes with a thoughtful and thought-provoking essay by ANT founder, John Law, and Vicky Singleton, that explores the origins and afterlives of ANT. Calling for a serious engagement, this special issue is sure to stimulate discussion about ANT\\xe2\\x80\\x99s potential to inspire a deeper, wider, and more robust ethnographic imagination.\")\n",
        "\n",
        "1.0 (1, 'This article investigates how ethnographic museums steeped in colonial practices are renovated in contemporary society.  This research follows the Royal Museum for Central Africa (RMCA) in Tervuren, Belgium, at a pivotal moment of transition from old colonial museum to fully renovated space inspired by a newfound \"contemporary\" point of view.  As the official museum for documenting and displaying Belgian colonialism in Central Africa from 1885-1960, the RMCA has received ardent criticism and praise from contemporary publics in Belgium and beyond.  Drawing on thick description of museum displays, participant-observation of guided tours, interviews with museum staff, and analyses of museum documents and newspaper articles, I examine the way colonial aphasia--a process of knowing and not knowing-- dictates the renovation.  Although the impending renovation promises to restructure the museum\\xe2\\x80\\x99s identity in relation to Central Africa, the overemphasis on \\xe2\\x80\\x9ccontemporary Africa\\xe2\\x80\\x9d threatens to further detract from acknowledging Belgium\\xe2\\x80\\x99s colonial past.  I argue that colonial aphasia forecloses the possibility of bringing a reformed \"contemporary\" museum to fruition.  This paper assesses the consequences of obscuring colonial history and the implications for future displays of cultural heritage at the RMCA.')\n",
        "\n",
        "1.0 (1, 'Disruptive behavior in school has been a concern of educators, the public, the media, and policymakers for decades. Despite the concern over disruptions in school, however, there has been little rigorous analysis on the topic. Although there has been considerable research on violence in school, most disruptive behaviors are not violent. Using the National Education Longitudinal Study (NELS), the Education Longitudinal Study (ELS), and Hierarchical Linear Modeling (HLM), I attempt to address these issues by examining (1) the prevalence of disruptions in high school, (2) the relationship between victimization in school and disruptions in school, (3) student- and school-level factors related to disruptions, and (4) the ability of curriculum track placement and school disciplinary practices to mediate the relationship between student and school factors and disruptions. Findings suggest that disruptions in high school are remarkably common but are experienced to a greater extent by historically marginalized students in traditionally troubled schools. However, after student and school factors are held constant in HLM analyses, only student-level factors are related to disruptions in school. This indicates that disruptions in school are not due to features of troubled schools themselves, but are due to the background characteristics of the students such schools educate. Findings also suggest that continual high track placement and enforcement of discipline are related to decreased disruptions in high school.')\n",
        "\n",
        "1.0 (1, 'The aim of this study was to learn more about social aspects of bariatric surgery and describe changes in weight and social characteristics. We collected self-report information from 213 bariatric surgery patients using an online survey. Respondents reported that the reasons for surgery were to improve overall health, specific medical conditions, appearance, self-esteem, interactions with others, and mobility. Respondents lost an average of 95 pounds and rated their overall physical health, self-esteem, social life, family life, work life, life satisfaction, and energy levels higher after bariatric surgery, while depression was rated lower after surgery. Satisfaction with appearance was lower on average than satisfaction with other health and social aspects after surgery. Respondents who were motivated to have surgery to reduce negative reactions of others were more satisfied with relationships with friends and family after surgery. This provides some evidence that overcoming the stigma of being overweight, as reflected by negative reactions of others to a person\\xe2\\x80\\x99s weight, can become a factor in greater satisfaction in family and friend relationships, and social life after surgery. For respondents with a spouse or partner, three-fourths reported no changes in the relationship or their partner; however, the majority of those who did report changes described them as positive changes. This study can inform preoperative counseling and postoperative support groups for bariatric surgery patients and their families.')\n",
        "\n",
        "1.0 (1, 'This paper studies the interactions between positive mental health, depressive symptoms, stress levels, medical problems, social support, and coping mechanisms in the understudied population of prison inmates.  Three hypothesis are tested: H1: Positive mental health scales (psychological well-being, social well-being, and hedonic well-being [i.e. happiness]), will decrease mental illness (i.e. depression), medical problems, and stress levels. H2: Bad coping skills will decrease happiness, increase depression, lead to medical problems, and increase stress levels.  Good coping skills, on the other hand, will increase happiness, decrease depression, prevent medical problems, and decrease stress levels.  H3: If Lindquist\\xe2\\x80\\x99s study can be replicated, external support structures like being married and being a parent will decrease happiness and increase depression.  They will also heighten stress levels. Results: Regarding H1, psychological well-being and happiness both decrease depression, medical problems, and stress levels.  Surprisingly, social well-being increases depression, medical problems, and stress levels, while also having a moderately positive effect on happiness.  For H2, bad coping was limited to a positive effect on depression.  Good coping (or aspects of it) were significant for several different regressands.  \\xe2\\x80\\x9cOther\\xe2\\x80\\x9d coping skills slightly decreased happiness, while social superior coping slightly increased depression and planning coping decreased depression.  Good coping was also positively correlated with medical problems and stress levels. The results of H3 show that being married significantly increases levels of depression and stress, while being a parent increases happiness.  SES had no significant impact.')\n",
        "\n",
        "1.0 (1, 'A decline in funding for evidence based sex education programs and a rise in the availability, accessibility, and affordability of commercial pornography mean young women\\xe2\\x80\\x99s sexual scripts are increasingly being formulated by pornographic media, with little sexual education to counteract such scripts. Cognitive script theory argues media scripts create a readily accessible heuristic model for decision-making; the more users watch a particular media script, the more embedded those codes of behavior become and the more likely they are to use those scripts to act in real life. Our previous research on men found pornography to play a significant role in their real life sexual encounters. However, for women, the pornographic script, often steeped in violence and female degradation, presents dissonant images of sexual pleasure and violence. Given these dissonant scripts, does pornography inform women\\xe2\\x80\\x99s sexuality and dyadic sexual encounters in a pattern similar to that of men? To answer this question, we surveyed 877 college women (ages 18-29 years) in the United States, associating consumption of pornography with sexual preferences and concerns. Results indicated while a majority of women have seen pornography (87%), most (52%) chose not to consume it. Among those who did, rates of consumption were associated with greater likelihood of using pornography during sex, engaging in sexual acts depicted in pornography, deliberately conjuring images of pornography during sex to maintain arousal, and having increased concerns over sexual performance and body image.')\n",
        "\n",
        "1.0 (1, 'In contemporary society, cancer is not just a pathological disease but a complex entity which interrelates with individuals, families, society, and knowledge. In this paper, I focused on how knowledge on cancer is structured in Korea from 1990 to 2013 by using scientometric and network analysis. Three types of networks (affiliation network, keyword network, affiliation-keyword network) were analyzed. At first, affiliation network showed how institutions in Korea collaborate with each other. Universities are the main institutions that led cancer research in Korea. They also led the collaboration with foreign institutions. Hence the number of international collaborations increased since 2007 especially with European institutions. Secondly, keyword network showed that gastric cancer and breast cancer are the main two subjects in Korean cancer research. Apoptosis is another important keyword that is connected with many other keywords. However, since mid 2000s, cancer research diversified. Many types of cancer were researched nowadays. Lastly affiliation-keyword network showed how affiliations and keywords are interrelated to each other. It can be inferred from the network that the central affiliations in the network researched all the main keywords and their positions in the heterogeneous network did not change as time goes on.')\n",
        "\n",
        "1.0 (1, 'Pornography has become a primary source of sexual education. At the same time, mainstream commercial pornography has coalesced around a relatively homogenous script involving violence and female degradation. Yet little work has been done exploring the associations between pornography and dyadic sexual encounters; what role does pornography play inside real world sexual encounters between a man and a woman? Cognitive script theory argues media scripts create a readily accessible heuristic model for decision-making. The more a user watches a particular media script, the more embedded those codes of behavior become in their worldview and the more likely they are to use those scripts to act upon real life experiences. We argue pornography creates a sexual script that then guides sexual experiences. To test this, we surveyed 487 college men (ages 18-29 years) in the United States to compare their rate of pornography use with sexual preferences and concerns. Results showed the more pornography a man watches, the more likely he was to use it during sex, request particular pornographic sex acts of his partner, deliberately conjure images of pornography during sex to maintain arousal, and have concerns over his own sexual performance and body. Further, higher pornography use was negatively associated with enjoying sexually intimate behaviors with a partner. We conclude that pornography provides a powerful heuristic model which is implicated in men\\xe2\\x80\\x99s expectations and behaviors during sexual encounters.')\n",
        "\n",
        "1.0 (1, 'This exploratory study used anonymous self-reports with established measures to investigate if childhood physical neglect impacted violent behavior of 85 random incarcerated males between 12 - 19 years of age at a private detention facility. Most were African American (58%) or White non-Hispanic (20%) from low income single parent homes. The dependent variable in a hierarchical regression was a 4-item index of adolescent violent behavior (\\xce\\xb1 = .61) that loaded on one component in factor analysis ( >.53). Block one included age; race; self-esteem; self-efficacy; and depression scales. None were significantly related to adolescent violent behavior. Block two added a 10-item history of chemical drug use (\\xce\\xb1 = .79). Controlling for block one variables, chemical drug use significantly explained 30.7% of the variance in adolescent violent behavior (R2 = .307, p < .001).  A childhood history of physical neglect in block three was measured by a five-item index (\\xce\\xb1 = .88). Twenty-five (29.4%) of the 85 incarcerated adolescents had experienced physical neglect but no other maltreatment. The remaining 60 subjects had either experienced no type of maltreatment, physical or psychological maltreatment, or a combination of maltreatment types. Experiencing only childhood physical neglect raised the explained variance in adolescent violent behavior to 48.4% (R-square = .484, p < .001). Unstandardized beta coefficients showed childhood physical neglect was the strongest predictor of violent behavior in this sample. A colorful and informative poster designed to stimulate inquiry includes introduction, methods, and results sections, with tables, shortcomings, application, and suggestions for future research.')\n",
        "\n",
        "1.0 (1, 'Beginning in 1936, Governor-General Minami Jir\\xc5\\x8d aggressively promoted miscegenation between Koreans and Japanese in colonial Korea as fundamental to achieving rapid assimilation. Yet, the number of actual marriages remained low in Korea but increased in Japan, coinciding with the conscription of young Koreans into forced labor. This paper traces struggles between colonial scholars and Japanese bureaucrats over the promotion of mixed marriages throughout Japanese rule over Korea (1910-1945) to reveal so far unexplored racial dimensions of  colonial governance. Existing sociological accounts of Japanese colonialism have neglected the racial subtleties of Japanese colonial governance, and have moreover overstated the role of Western colonialism in shaping it. Rather than looking to the West\\xe2\\x80\\x99s concrete implementation of colonial practice, Japanese colonialism, both in terms of early legitimation and practice, was based around a thoroughly Japanese reading of eugenics. Sociological accounts of Japanese colonialism maintain that one of the core differences between it and other national iterations are based around Japan\\xe2\\x80\\x99s stressing of racial similarity in assimilating other nations. While racial similarity was strategically used as rhetorical device to legitimate Japanese colonial expansion into Asia, it was racial difference, rather than similarity, that underpinned Japanese colonial practice. The paper uses a variety of Japanese sources to trace Japanese interventions into the Korean legal system and jurisprudence. It shows how colonial-era Korean family law \\xe2\\x80\\x93 in particular on matters of nationality, property and succession rights \\xe2\\x80\\x93 was rewritten by the Japanese to promote assimilation in strategic sectors, all the while refusing to accord Koreans equal rights.')\n",
        "\n",
        "1.0 (1, 'Marital status significantly shapes individual\\xe2\\x80\\x99s psychological wellbeing.  This study attempts to explore the measurement of psychological well-being by illuminating how marital status could influence those dimensions of psychological well-being.  This study uses data from two waves of the Midlife in the United States Survey (MIDUS I & II).  Compared with prior work on the marital status-mental health association, we examine a more comprehensive set of indicators of mental health for the marital status-mental health association measures: depression, autonomy, environmental mastery, personal growth, positive relations with others, self-acceptance, and purpose in life.  We further examine how the associations between marital status and these dimensions of psychological well-being vary among different age groups.  This study is consistent with previous research that the married adults tend to have better psychological well-being than other marital statuses, and the remarried also reported more autonomy than the married at the middle-aged group.  Using the structural equational modeling, the results showed that the associations between marital status and PWB were not supported by data for young adults (age<45) and old adults (age>60).  That is, for those adults, the experience of marital disruption did not necessarily damage PWB.  Interestingly, the results suggested that income showed the most predictive power to young adults\\xe2\\x80\\x99 PWB, while physical health seemed most predictive to old adults\\xe2\\x80\\x99 PWB.')\n",
        "\n",
        "1.0 (1, 'A survey experiment tested third-party observers\\xe2\\x80\\x99 responses to the use of authority by a male vs. a female professor in response to a college student violating classroom policy.  Observers read a vignette about the student-professor interaction and were then asked how much they agreed with statements regarding the vignette.  The Likert-type statements measured the degree to which the observers tolerated the student\\xe2\\x80\\x99s rule breaking and the degree to which they accepted the use of authority by the professor.  Results indicated that women were less tolerant of rule breaking and more supportive of the professor\\xe2\\x80\\x99s response when they read about a female professor than when they read about a male professor.  On the contrary, when assigned to read a vignette with a female professor (rather than a male professor), men were more tolerant of rule breaking, were less supportive of the professor\\xe2\\x80\\x99s use of authority, and reported less desire to take this professor if they had the chance.')\n",
        "\n",
        "1.0 (1, \"Are the health outcomes and organizational involvement of your friends correlated with your well-being?  How do characteristics of network members affect a focal person's mental and physical health outcomes?  This question is especially interesting in older adults as social isolation is often thought to be a characterizing factor of old age.  Using the \\xe2\\x80\\x9cSocial Networks in Adult Life\\xe2\\x80\\x9d dataset (Kahn and Antonucci 1980), I explore how network member's characteristics affect the health outcomes of a focal older adult.  Characteristics include network member\\xe2\\x80\\x99s mental and physical health, satisfaction with health, organizational involvement, and social support demographics such as being retired or married.  I also consider these characteristics for the focal person.  I conducted regressions on five outcomes related to the focal person\\xe2\\x80\\x99s mental and physical well-being: overall happiness, satisfaction with life, a count of physical health problems, satisfaction with health, and overall well-being.  Preliminary findings suggest that, interestingly, when controlling for a range of specific health issues, the network member\\xe2\\x80\\x99s satisfaction with their health is significantly correlated (p < .001) with the focal person\\xe2\\x80\\x99s satisfaction with their own life and is moderately significantly correlated (p < .05) with the focal person\\xe2\\x80\\x99s count of physical health problems.  While I\\xe2\\x80\\x99m still developing the theoretical implications of these findings, I have found that in this sample of older adults, certain characteristics of network members are correlated with a focal person\\xe2\\x80\\x99s well-being.\")\n",
        "\n",
        "1.0 (1, 'To determine whether these health behaviors mediate the known allostatic load (AL)-mortality risk relationship in models fully interacted by gender, we examined data on 16,646 men and women who participated in the third National Health and Nutrition Examination Survey (NHANES III) (1988-1994).  We estimated weighted Cox regression models. Men had higher summary AL than women (p < .001), and higher metabolic and cardiovascular risk (both p < .001); women had higher inflammatory risk (p < .001). Men were twice as likely to have ever smoked than women (66% vs. 38%). AL had a strong, positive association with earlier death for men and women (both p < .001).  This effect remained strong regardless of predictors entered. Lifetime tobacco use was the sole health behavior associated with earlier mortality for both men and women (both p < .001), and was stronger for women (HR = 1.83) than men (HR = 1.57), despite their lower prevalence of lifetime smoking. Conclusions: AL continues is a strong pathway in mortality research in that its effect appears independent of numerous demographic, socioeconomic, and correlated health variables. Lifetime tobacco use is a strong predictor of earlier mortality. Further research is needed on how tobacco use is influenced by neighborhood structure for men and women, including investigation into tobacco advertisement and availability, and associations with stress and AL. Cardiovascular risk may be an important focus of research building from these findings.')\n",
        "\n"
       ]
      }
     ],
     "prompt_number": 232
    },
    {
     "cell_type": "markdown",
     "metadata": {
      "slideshow": {
       "slide_type": "slide"
      }
     },
     "source": [
      "Your mission:\n",
      "    \n",
      "Start a new notebook. Replicate this analysis. Feel free to use copy and paste.\n",
      "Play with the vectorizers parameters. Who can come up with the best fitting model?"
     ]
    },
    {
     "cell_type": "code",
     "collapsed": false,
     "input": [],
     "language": "python",
     "metadata": {},
     "outputs": []
    }
   ],
   "metadata": {}
  }
 ]
}