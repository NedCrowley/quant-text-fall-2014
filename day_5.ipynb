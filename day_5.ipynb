{
 "metadata": {
  "name": "",
  "signature": "sha256:df8ea15a400cc91e59500edf8c82ecd5be8164f2501e68738cb7baba7bc567cb"
 },
 "nbformat": 3,
 "nbformat_minor": 0,
 "worksheets": [
  {
   "cells": [
    {
     "cell_type": "markdown",
     "metadata": {},
     "source": [
      "### Partisan Rhetoric\n",
      "\n",
      "One measure of how paritsan a given text is to look at how frequently it uses words assocaited with Republicans compared to words associated with Democrats. For example, does someone say \"death taxes\" or \"estate taxes\", or  is someone talking about \"terrorism\" or the \"minimum wage\".  Your mission for today is figure out contemporary partisan rhetoric based on the Congressional Record.\n",
      "\n",
      "1. Sign up to be a developer with the [Sunlight Foundation](http://sunlightfoundation.com/api/accounts/register/).\n",
      "2. Take a look at the [Capitol Words](http://sunlightlabs.github.io/Capitol-Words/) API documentation. \n",
      "3. Play around with [Capitol Words tool](http://tryit.sunlightfoundation.com/capitolwords) in order to figure out what the most useful endpoints and parameters would be. I'm fond of the Top Phrases by Entity and the Phrase Time Series.\n",
      "4. Get a list of the 100 most frequently used words in Congress during August of 2014.\n",
      "4. Using a different API, get the frequency of how often Democrats and Republicans used each of those words.\n",
      "5. Print a list that shows the 100 most frequently used words and what % of those mentions were by Republicans.\n",
      "6. Bonus: Now do it for the top 1000 words and phrases, and list only the most partisan wors."
     ]
    },
    {
     "cell_type": "code",
     "collapsed": false,
     "input": [
      "import requests"
     ],
     "language": "python",
     "metadata": {},
     "outputs": [],
     "prompt_number": 14
    },
    {
     "cell_type": "code",
     "collapsed": false,
     "input": [
      "r = requests.get('http://capitolwords.org/api/1/phrases.json?entity_type=month&entity_value=201402&n=1&page=0&sort=count%20desc&apikey=c9ce48f3f24b4b32ace43d829df81fd7')"
     ],
     "language": "python",
     "metadata": {},
     "outputs": [],
     "prompt_number": 17
    },
    {
     "cell_type": "code",
     "collapsed": false,
     "input": [],
     "language": "python",
     "metadata": {},
     "outputs": [
      {
       "metadata": {},
       "output_type": "pyout",
       "prompt_number": 19,
       "text": [
        "100"
       ]
      }
     ],
     "prompt_number": 19
    },
    {
     "cell_type": "code",
     "collapsed": false,
     "input": [],
     "language": "python",
     "metadata": {},
     "outputs": []
    }
   ],
   "metadata": {}
  }
 ]
}