{
 "metadata": {
  "name": "",
  "signature": "sha256:c7f2748167dd7418c63f1f0544b9872d72810595cbec837b0d5ef0f20fe90a51"
 },
 "nbformat": 3,
 "nbformat_minor": 0,
 "worksheets": [
  {
   "cells": [
    {
     "cell_type": "markdown",
     "metadata": {},
     "source": [
      "## In Class Assignment for September 8\n",
      "### APIs\n",
      "\n",
      "What was the annual count of articles published in the New York Times that mentioned the work \"abortion\" between 1950 and 2000?\n",
      "\n",
      "1. [Sign Up](http://developer.nytimes.com) to be a New York Times developer. Create a string `my_times_api_key` that stores your key. \n",
      "2. Read the [Article Search API](http://developer.nytimes.com/docs/read/article_search_api_v2). Be sure to find out how many calls you can make in a minute. \n",
      "3. Practice using the [API Console](http://developer.nytimes.com/io-docs). Use this to develop your request URI. \n",
      "4. Using `requests` test out your code.\n",
      "1. Get the annual count of abortion articles. Hint: It may be easier to make multiple calls to the API, one per year."
     ]
    },
    {
     "cell_type": "code",
     "collapsed": false,
     "input": [
      "import requests\n",
      "import json \n",
      "from time import sleep"
     ],
     "language": "python",
     "metadata": {},
     "outputs": [],
     "prompt_number": 32
    },
    {
     "cell_type": "code",
     "collapsed": false,
     "input": [
      "payload = {'q'         : 'abortion', \n",
      "           'api-key'   :  my_times_api_key }\n",
      "\n",
      "base_url = 'http://api.nytimes.com/svc/search/v2/articlesearch.json?'"
     ],
     "language": "python",
     "metadata": {},
     "outputs": [],
     "prompt_number": 34
    },
    {
     "cell_type": "code",
     "collapsed": false,
     "input": [
      "sleep(.5)\n",
      "\n",
      "r = requests.get(base_url, params = payload)\n",
      "\n",
      "#You don't need to print this\n",
      "print r.url"
     ],
     "language": "python",
     "metadata": {},
     "outputs": [
      {
       "output_type": "stream",
       "stream": "stdout",
       "text": [
        "http://api.nytimes.com/svc/search/v2/articlesearch.json?q=abortion&api-key=d20bc9ac37156ecc4cb3d78eb956201d%3A0%3A54059647\n"
       ]
      }
     ],
     "prompt_number": 35
    },
    {
     "cell_type": "code",
     "collapsed": false,
     "input": [
      "#When the response has a JSON, requests puts it here:\n",
      "\n",
      "results_json = r.json()"
     ],
     "language": "python",
     "metadata": {},
     "outputs": [],
     "prompt_number": 36
    },
    {
     "cell_type": "code",
     "collapsed": false,
     "input": [
      "#Let's look at the keys in the dictionary\n",
      "\n",
      "print results_json.keys()"
     ],
     "language": "python",
     "metadata": {},
     "outputs": [
      {
       "output_type": "stream",
       "stream": "stdout",
       "text": [
        "[u'status', u'response', u'copyright']\n"
       ]
      }
     ],
     "prompt_number": 37
    },
    {
     "cell_type": "code",
     "collapsed": false,
     "input": [
      "print results_json['status']"
     ],
     "language": "python",
     "metadata": {},
     "outputs": [
      {
       "output_type": "stream",
       "stream": "stdout",
       "text": [
        "OK\n"
       ]
      }
     ],
     "prompt_number": 11
    },
    {
     "cell_type": "code",
     "collapsed": false,
     "input": [
      "results_json['response'].keys()"
     ],
     "language": "python",
     "metadata": {},
     "outputs": [
      {
       "metadata": {},
       "output_type": "pyout",
       "prompt_number": 13,
       "text": [
        "[u'docs', u'meta']"
       ]
      }
     ],
     "prompt_number": 13
    },
    {
     "cell_type": "code",
     "collapsed": false,
     "input": [
      "#let's see if the results is a list or a dictionary:\n",
      "\n",
      "type(results_json['response'])"
     ],
     "language": "python",
     "metadata": {},
     "outputs": [
      {
       "metadata": {},
       "output_type": "pyout",
       "prompt_number": 14,
       "text": [
        "dict"
       ]
      }
     ],
     "prompt_number": 14
    },
    {
     "cell_type": "code",
     "collapsed": false,
     "input": [
      "results_json['response'].keys()"
     ],
     "language": "python",
     "metadata": {},
     "outputs": [
      {
       "metadata": {},
       "output_type": "pyout",
       "prompt_number": 15,
       "text": [
        "[u'docs', u'meta']"
       ]
      }
     ],
     "prompt_number": 15
    },
    {
     "cell_type": "code",
     "collapsed": false,
     "input": [
      "results_json['response']['meta']"
     ],
     "language": "python",
     "metadata": {},
     "outputs": [
      {
       "metadata": {},
       "output_type": "pyout",
       "prompt_number": 16,
       "text": [
        "{u'hits': 12476, u'offset': 0, u'time': 27}"
       ]
      }
     ],
     "prompt_number": 16
    },
    {
     "cell_type": "code",
     "collapsed": false,
     "input": [
      "type(results_json['response']['docs'])"
     ],
     "language": "python",
     "metadata": {},
     "outputs": [
      {
       "metadata": {},
       "output_type": "pyout",
       "prompt_number": 17,
       "text": [
        "list"
       ]
      }
     ],
     "prompt_number": 17
    },
    {
     "cell_type": "code",
     "collapsed": false,
     "input": [
      "articles = results_json['response']['docs']"
     ],
     "language": "python",
     "metadata": {},
     "outputs": [],
     "prompt_number": 18
    },
    {
     "cell_type": "code",
     "collapsed": false,
     "input": [
      "#print a random article\n",
      "\n",
      "articles[5]"
     ],
     "language": "python",
     "metadata": {},
     "outputs": [
      {
       "metadata": {},
       "output_type": "pyout",
       "prompt_number": 20,
       "text": [
        "{u'_id': u'53f2a1d37988100caacfd532',\n",
        " u'abstract': u\"David Leonhardt The Upshot column highlights comparative analysis determining America's toughest places to live, based on decade of web search data; holds that results offer insight into national inequality.\",\n",
        " u'blog': [],\n",
        " u'byline': {u'contributor': u'',\n",
        "  u'original': u'By DAVID LEONHARDT',\n",
        "  u'person': [{u'firstname': u'David',\n",
        "    u'lastname': u'LEONHARDT',\n",
        "    u'organization': u'',\n",
        "    u'rank': 1,\n",
        "    u'role': u'reported'}]},\n",
        " u'document_type': u'article',\n",
        " u'headline': {u'content_kicker': u'Digital Divide',\n",
        "  u'kicker': u'The Upshot',\n",
        "  u'main': u'In One America, Guns and Diet. In the Other, Cameras and \\u2018Zoolander.\\u2019',\n",
        "  u'print_headline': u'In One America, Cameras. In the Other, Guns and Diets.',\n",
        "  u'seo': u'Inequality and Web Search Trends'},\n",
        " u'keywords': [{u'is_major': u'Y',\n",
        "   u'name': u'subject',\n",
        "   u'rank': u'1',\n",
        "   u'value': u'Income Inequality'},\n",
        "  {u'is_major': u'Y',\n",
        "   u'name': u'subject',\n",
        "   u'rank': u'2',\n",
        "   u'value': u'Search Engines'},\n",
        "  {u'is_major': u'N',\n",
        "   u'name': u'organizations',\n",
        "   u'rank': u'3',\n",
        "   u'value': u'Google Inc'},\n",
        "  {u'is_major': u'N',\n",
        "   u'name': u'glocations',\n",
        "   u'rank': u'4',\n",
        "   u'value': u'United States'},\n",
        "  {u'is_major': u'N',\n",
        "   u'name': u'subject',\n",
        "   u'rank': u'5',\n",
        "   u'value': u'Computers and the Internet'}],\n",
        " u'lead_paragraph': u'An analysis of a decade of web searches shows the different subjects that occupy people\\u2019s thoughts in a highly unequal country.',\n",
        " u'multimedia': [{u'height': 126,\n",
        "   u'legacy': {u'wide': u'images/2014/08/19/business/up-leonhardt/up-leonhardt-thumbWide.png',\n",
        "    u'wideheight': u'126',\n",
        "    u'widewidth': u'190'},\n",
        "   u'subtype': u'wide',\n",
        "   u'type': u'image',\n",
        "   u'url': u'images/2014/08/19/business/up-leonhardt/up-leonhardt-thumbWide.png',\n",
        "   u'width': 190},\n",
        "  {u'height': 400,\n",
        "   u'legacy': {u'xlarge': u'images/2014/08/19/business/up-leonhardt/up-leonhardt-articleLarge.png',\n",
        "    u'xlargeheight': u'400',\n",
        "    u'xlargewidth': u'600'},\n",
        "   u'subtype': u'xlarge',\n",
        "   u'type': u'image',\n",
        "   u'url': u'images/2014/08/19/business/up-leonhardt/up-leonhardt-articleLarge.png',\n",
        "   u'width': 600},\n",
        "  {u'height': 75,\n",
        "   u'legacy': {u'thumbnail': u'images/2014/08/19/business/up-leonhardt/up-leonhardt-thumbStandard.png',\n",
        "    u'thumbnailheight': u'75',\n",
        "    u'thumbnailwidth': u'75'},\n",
        "   u'subtype': u'thumbnail',\n",
        "   u'type': u'image',\n",
        "   u'url': u'images/2014/08/19/business/up-leonhardt/up-leonhardt-thumbStandard.png',\n",
        "   u'width': 75}],\n",
        " u'news_desk': u'Business',\n",
        " u'print_page': None,\n",
        " u'pub_date': u'2014-08-19T00:00:00Z',\n",
        " u'section_name': u'The Upshot',\n",
        " u'snippet': u'An analysis of a decade of web searches shows the different subjects that occupy people\\u2019s thoughts in a highly unequal country.',\n",
        " u'source': u'The New York Times',\n",
        " u'subsection_name': None,\n",
        " u'type_of_material': u'News',\n",
        " u'web_url': u'http://www.nytimes.com/2014/08/19/upshot/inequality-and-web-search-trends.html',\n",
        " u'word_count': u'963'}"
       ]
      }
     ],
     "prompt_number": 20
    }
   ],
   "metadata": {}
  }
 ]
}