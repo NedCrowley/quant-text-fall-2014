{
 "metadata": {
  "name": "",
  "signature": "sha256:294b73d01c2552cc9587d1ca633d662d91264d89ffb21913c2b774fb5acbb8db"
 },
 "nbformat": 3,
 "nbformat_minor": 0,
 "worksheets": [
  {
   "cells": [
    {
     "cell_type": "markdown",
     "metadata": {},
     "source": [
      "### Programming without computers\n",
      "\n",
      "1. Working with your assigned partner, come up with an interesting scientifict project that involves the Twitter API. This need not be something that you can program today or something that you are committed to, but it should be a plausible research project.\n",
      "2. Look at Twitter Documentation, particularly those for the [REST APIs](https://dev.twitter.com/rest/public) and [Streaing APIs](https://dev.twitter.com/streaming/overview). Does it look like it is possible to do what you want to do? If so proceed, if not GOTO 1.\n",
      "3. Go to the board and sequential work through the functions and loops that would be required to acquire the data you need. What functions would you create? This need not be in Python, but should be in Pythonic [pseudocode](http://en.wikipedia.org/wiki/Pseudocode). For example:\n",
      "<code>\n",
      "  def get_follower_count(screen_name):\n",
      "      '''\n",
      "      Function to get the number of followers of a given screen name \n",
      "      '''\n",
      "      user_data = api.get_user(user_id=screen_name)\n",
      "      return user_data['follower_count']\n",
      "  follower_counts = {}\n",
      "  for screen_name in screen_name_list:\n",
      "      follower_counts[screen_name] = get_follower_count(screen_name)\n",
      "      </code>\n",
      "      \n",
      "4. Be prepared to present your code to the group.\n",
      "\n",
      "\n",
      "Teams:  \n",
      "Akram & Didem  \n",
      "Ali & Mary Beth  \n",
      "David & Lena  \n",
      "Taylor & Karam  \n",
      "Gabriele & Joseph  "
     ]
    },
    {
     "cell_type": "code",
     "collapsed": false,
     "input": [
      "import tweepy\n",
      "from time import sleep"
     ],
     "language": "python",
     "metadata": {},
     "outputs": [],
     "prompt_number": 1
    },
    {
     "cell_type": "code",
     "collapsed": false,
     "input": [
      "consumer_key='y3L9ITkHpLuIHtPGwdw'\n",
      "consumer_secret='qmunZ7ZTmiE2cML9KeHrQrC6GfZmrYjvxYxMjt2TQYc'\n",
      "access_token='730877390-wvyS3xCdj0L6coGpiMQq8vQuFahXZRLcYdo8Frg'\n",
      "access_token_secret='NsKMPbqiEEoAmHQyIyg9iaxPyZfG83GtVKE6zPdPzz0'"
     ],
     "language": "python",
     "metadata": {},
     "outputs": [],
     "prompt_number": 2
    },
    {
     "cell_type": "code",
     "collapsed": false,
     "input": [
      "auth = tweepy.OAuthHandler(consumer_key, consumer_secret)\n",
      "auth.set_access_token(access_token, access_token_secret)\n",
      "\n",
      "api = tweepy.API(auth)"
     ],
     "language": "python",
     "metadata": {},
     "outputs": [],
     "prompt_number": 3
    },
    {
     "cell_type": "code",
     "collapsed": false,
     "input": [
      "neal = api.get_user(screen_name=\"haphazardsoc\")"
     ],
     "language": "python",
     "metadata": {},
     "outputs": [],
     "prompt_number": 4
    },
    {
     "cell_type": "code",
     "collapsed": false,
     "input": [
      "print neal.followers_count"
     ],
     "language": "python",
     "metadata": {},
     "outputs": [
      {
       "output_type": "stream",
       "stream": "stdout",
       "text": [
        "940\n"
       ]
      }
     ],
     "prompt_number": 5
    },
    {
     "cell_type": "code",
     "collapsed": false,
     "input": [
      "print neal.friends_count"
     ],
     "language": "python",
     "metadata": {},
     "outputs": [
      {
       "output_type": "stream",
       "stream": "stdout",
       "text": [
        "173\n"
       ]
      }
     ],
     "prompt_number": 6
    },
    {
     "cell_type": "code",
     "collapsed": false,
     "input": [],
     "language": "python",
     "metadata": {},
     "outputs": [],
     "prompt_number": 6
    }
   ],
   "metadata": {}
  }
 ]
}