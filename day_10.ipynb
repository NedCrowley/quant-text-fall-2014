{
 "metadata": {
  "name": "",
  "signature": "sha256:4d56e9a5f53fb06ad1ae4517edb67b704c304d68be42e48365bbe895f4a64522"
 },
 "nbformat": 3,
 "nbformat_minor": 0,
 "worksheets": [
  {
   "cells": [
    {
     "cell_type": "markdown",
     "metadata": {},
     "source": [
      "### Day 10\n",
      "\n",
      "1. Create a function that returns the count of the number of postive words in a sentence.\n",
      "2. Create a function that returns a dictionary that includes the count of the number positive words, negative words, and the number of words in the sentence.\n",
      "3. What percentage of the first email's words are emotional? That is, what percent of the words are negative or positive.\n",
      "4. Overall, are the emails more positive or negative?\n",
      "5. Bonus: Which email sender has the highest percent postive? Who has the highest percent negative?\n",
      "\n",
      "Same teams as Monday"
     ]
    },
    {
     "cell_type": "code",
     "collapsed": false,
     "input": [
      "from string import punctuation\n",
      "\n",
      "def clean_string(string):\n",
      "    lower_string = string.lower()\n",
      "    return [w.strip(punctuation) for w in lower_string.split()]\n",
      "\n",
      "clean_string('Hi there! How are you')"
     ],
     "language": "python",
     "metadata": {},
     "outputs": [
      {
       "metadata": {},
       "output_type": "pyout",
       "prompt_number": 1,
       "text": [
        "['hi', 'there', 'how', 'are', 'you']"
       ]
      }
     ],
     "prompt_number": 1
    },
    {
     "cell_type": "code",
     "collapsed": false,
     "input": [
      "import requests\n",
      "\n",
      "negatives = requests.get('https://raw.githubusercontent.com/nealcaren/quant-text-fall-2014/master/negative.csv').text\n",
      "print negatives[:50]\n"
     ],
     "language": "python",
     "metadata": {},
     "outputs": [
      {
       "output_type": "stream",
       "stream": "stdout",
       "text": [
        "abandoned\n",
        "abandonment\n",
        "abandon\n",
        "abase\n",
        "abasement\n",
        "abas\n"
       ]
      }
     ],
     "prompt_number": 2
    },
    {
     "cell_type": "code",
     "collapsed": false,
     "input": [
      "negative_list = negatives.splitlines()\n",
      "print negative_list[:5]"
     ],
     "language": "python",
     "metadata": {},
     "outputs": [
      {
       "output_type": "stream",
       "stream": "stdout",
       "text": [
        "[u'abandoned', u'abandonment', u'abandon', u'abase', u'abasement']\n"
       ]
      }
     ],
     "prompt_number": 3
    },
    {
     "cell_type": "code",
     "collapsed": false,
     "input": [
      "positives = requests.get('https://raw.githubusercontent.com/nealcaren/quant-text-fall-2014/master/positive.csv').text\n",
      "positive_list = positives.splitlines()\n",
      "print positive_list[:5]"
     ],
     "language": "python",
     "metadata": {},
     "outputs": [
      {
       "output_type": "stream",
       "stream": "stdout",
       "text": [
        "[u'abidance', u'abidance', u'abide', u'abilities', u'ability']\n"
       ]
      }
     ],
     "prompt_number": 4
    },
    {
     "cell_type": "code",
     "collapsed": false,
     "input": [
      "u'abidance' == 'abidance'"
     ],
     "language": "python",
     "metadata": {},
     "outputs": [
      {
       "metadata": {},
       "output_type": "pyout",
       "prompt_number": 5,
       "text": [
        "True"
       ]
      }
     ],
     "prompt_number": 5
    },
    {
     "cell_type": "code",
     "collapsed": false,
     "input": [],
     "language": "python",
     "metadata": {},
     "outputs": [],
     "prompt_number": 5
    }
   ],
   "metadata": {}
  }
 ]
}