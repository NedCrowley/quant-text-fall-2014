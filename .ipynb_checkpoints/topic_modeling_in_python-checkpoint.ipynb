{
 "metadata": {
  "name": "",
  "signature": "sha256:1551da861b90234802dd07ba27b0de2124ca198caa134595cd6fd51efb55c462"
 },
 "nbformat": 3,
 "nbformat_minor": 0,
 "worksheets": [
  {
   "cells": [
    {
     "cell_type": "code",
     "collapsed": false,
     "input": [
      "%matplotlib inline\n",
      "\n",
      "\n",
      "from datetime import datetime\n",
      "\n",
      "import pandas as pd\n",
      "\n",
      "import matplotlib.pyplot as plt\n",
      "\n",
      "from sklearn.feature_extraction.text import TfidfVectorizer, CountVectorizer\n",
      "from sklearn.decomposition import NMF\n",
      "from sklearn.datasets import fetch_20newsgroups\n",
      "from sklearn.linear_model import LogisticRegression\n",
      "from sklearn.metrics import accuracy_score, confusion_matrix, classification_report "
     ],
     "language": "python",
     "metadata": {},
     "outputs": [],
     "prompt_number": 83
    },
    {
     "cell_type": "code",
     "collapsed": false,
     "input": [
      "categories = ['alt.atheism', \n",
      "              'talk.religion.misc', \n",
      "              'comp.graphics', \n",
      "              'sci.space',\n",
      "              'rec.motorcycles',\n",
      "              'talk.politics.guns']\n",
      "\n",
      "newsgroups = fetch_20newsgroups(categories=categories)"
     ],
     "language": "python",
     "metadata": {},
     "outputs": [],
     "prompt_number": 84
    },
    {
     "cell_type": "code",
     "collapsed": false,
     "input": [
      "def noemails(sentence):\n",
      "    cleaned = []\n",
      "    for word in sentence.split():\n",
      "        if '@' in word and '.' in word[:-1]:\n",
      "            pass\n",
      "        else:\n",
      "            cleaned.append(word)\n",
      "    return ' '.join(cleaned)\n",
      "\n",
      "def quick_clean(text):\n",
      "    cleaned = []\n",
      "    for row in text.splitlines():\n",
      "        if ':' not in ' '.join(row.split()[:1]):\n",
      "            cleaned.append(noemails(row))\n",
      "    return '\\n'.join(cleaned)"
     ],
     "language": "python",
     "metadata": {},
     "outputs": [],
     "prompt_number": 85
    },
    {
     "cell_type": "code",
     "collapsed": false,
     "input": [
      "posts = [quick_clean(p) for p in newsgroups.data]"
     ],
     "language": "python",
     "metadata": {},
     "outputs": [],
     "prompt_number": 86
    },
    {
     "cell_type": "code",
     "collapsed": false,
     "input": [
      "target_names = [newsgroups.target_names[i] for i in newsgroups.target]\n",
      "\n",
      "df = pd.DataFrame(zip(target_names,posts),\n",
      "                  columns = ['newsgroup','text'] )"
     ],
     "language": "python",
     "metadata": {},
     "outputs": [],
     "prompt_number": 87
    },
    {
     "cell_type": "code",
     "collapsed": false,
     "input": [
      "print len(df)\n",
      "df.head()"
     ],
     "language": "python",
     "metadata": {},
     "outputs": [
      {
       "output_type": "stream",
       "stream": "stdout",
       "text": [
        "3178\n"
       ]
      },
      {
       "html": [
        "<div style=\"max-height:1000px;max-width:1500px;overflow:auto;\">\n",
        "<table border=\"1\" class=\"dataframe\">\n",
        "  <thead>\n",
        "    <tr style=\"text-align: right;\">\n",
        "      <th></th>\n",
        "      <th>newsgroup</th>\n",
        "      <th>text</th>\n",
        "    </tr>\n",
        "  </thead>\n",
        "  <tbody>\n",
        "    <tr>\n",
        "      <th>0</th>\n",
        "      <td> comp.graphics</td>\n",
        "      <td> \\nPascal Perret, in article wrote\\n&gt;\\n&gt; Site :...</td>\n",
        "    </tr>\n",
        "    <tr>\n",
        "      <th>1</th>\n",
        "      <td>     sci.space</td>\n",
        "      <td> \\nHas anyone looked into the possiblity of a P...</td>\n",
        "    </tr>\n",
        "    <tr>\n",
        "      <th>2</th>\n",
        "      <td>   alt.atheism</td>\n",
        "      <td> \\n\\n\\n(Charley Wingate) writes:\\n\\n&gt;Keith Ryan...</td>\n",
        "    </tr>\n",
        "    <tr>\n",
        "      <th>3</th>\n",
        "      <td> comp.graphics</td>\n",
        "      <td> \\n\\n\\nComputer Graphics Resource Listing : WEE...</td>\n",
        "    </tr>\n",
        "    <tr>\n",
        "      <th>4</th>\n",
        "      <td> comp.graphics</td>\n",
        "      <td> \\n============================================...</td>\n",
        "    </tr>\n",
        "  </tbody>\n",
        "</table>\n",
        "</div>"
       ],
       "metadata": {},
       "output_type": "pyout",
       "prompt_number": 88,
       "text": [
        "       newsgroup                                               text\n",
        "0  comp.graphics  \\nPascal Perret, in article wrote\\n>\\n> Site :...\n",
        "1      sci.space  \\nHas anyone looked into the possiblity of a P...\n",
        "2    alt.atheism  \\n\\n\\n(Charley Wingate) writes:\\n\\n>Keith Ryan...\n",
        "3  comp.graphics  \\n\\n\\nComputer Graphics Resource Listing : WEE...\n",
        "4  comp.graphics  \\n============================================..."
       ]
      }
     ],
     "prompt_number": 88
    },
    {
     "cell_type": "code",
     "collapsed": false,
     "input": [
      "vectorizer = TfidfVectorizer(max_df=0.7, \n",
      "                             min_df=.01,\n",
      "                             stop_words='english')\n",
      "\n",
      "vectorizer = CountVectorizer(max_df=0.7, \n",
      "                             min_df=.01,\n",
      "                             stop_words='english')\n",
      "\n",
      "\n",
      "vectorizer.fit(df['text'])\n",
      "corpus_tfidf = vectorizer.transform(df['text'])"
     ],
     "language": "python",
     "metadata": {},
     "outputs": [],
     "prompt_number": 89
    },
    {
     "cell_type": "code",
     "collapsed": false,
     "input": [
      "start_time = datetime.now()\n",
      "\n",
      "number_of_topics = len(newsgroups.target_names)\n",
      "\n",
      "nmf = NMF(n_components = number_of_topics, \n",
      "          max_iter = 5000).fit(corpus_tfidf)"
     ],
     "language": "python",
     "metadata": {},
     "outputs": [],
     "prompt_number": 90
    },
    {
     "cell_type": "code",
     "collapsed": false,
     "input": [
      "feature_names = vectorizer.get_feature_names()\n",
      "topic_labels = []\n",
      "\n",
      "for topic_idx, topic in enumerate(nmf.components_):\n",
      "    print \"Topic %s: %s\" % (topic_idx,  ' '.join([feature_names[i] for i in topic.argsort()[:-10 - 1:-1]]))\n",
      "    topic_labels.append(\" \".join([feature_names[i]\n",
      "                    for i in topic.argsort()[:-3 - 1:-1]]))\n"
     ],
     "language": "python",
     "metadata": {},
     "outputs": [
      {
       "output_type": "stream",
       "stream": "stdout",
       "text": [
        "Topic 0: graphics pub edu data ftp mail image send 3d ray\n",
        "Topic 1: god atheists people atheism believe don religious does just religion\n",
        "Topic 2: space launch satellite nasa commercial data year satellites market earth\n",
        "Topic 3: gun firearms control states mr united law house handgun 1991\n",
        "Topic 4: image gif file color images format version quality software bit\n",
        "Topic 5: jesus matthew people said time david know like king lord\n"
       ]
      }
     ],
     "prompt_number": 91
    },
    {
     "cell_type": "code",
     "collapsed": false,
     "input": [
      "y_hat = nmf.transform(corpus_tfidf)\n",
      "y_norm = [y/ y.sum() for y in y_hat] #Normalize\n",
      "\n",
      "df_y_hat = pd.DataFrame(y_norm, \n",
      "                        columns=topic_labels,  # Use our informative topic names\n",
      "                        index=df.index.values) # Makes merge easier\n",
      "\n",
      "df_y_hat = df_y_hat.fillna(0)\n",
      "df_nmf = df.join(df_y_hat) # This is a new data set, so you can remerge"
     ],
     "language": "python",
     "metadata": {},
     "outputs": [],
     "prompt_number": 92
    },
    {
     "cell_type": "code",
     "collapsed": false,
     "input": [
      "df_nmf.groupby('newsgroup').mean()"
     ],
     "language": "python",
     "metadata": {},
     "outputs": [
      {
       "html": [
        "<div style=\"max-height:1000px;max-width:1500px;overflow:auto;\">\n",
        "<table border=\"1\" class=\"dataframe\">\n",
        "  <thead>\n",
        "    <tr style=\"text-align: right;\">\n",
        "      <th></th>\n",
        "      <th>graphics pub edu</th>\n",
        "      <th>god atheists people</th>\n",
        "      <th>space launch satellite</th>\n",
        "      <th>gun firearms control</th>\n",
        "      <th>image gif file</th>\n",
        "      <th>jesus matthew people</th>\n",
        "    </tr>\n",
        "    <tr>\n",
        "      <th>newsgroup</th>\n",
        "      <th></th>\n",
        "      <th></th>\n",
        "      <th></th>\n",
        "      <th></th>\n",
        "      <th></th>\n",
        "      <th></th>\n",
        "    </tr>\n",
        "  </thead>\n",
        "  <tbody>\n",
        "    <tr>\n",
        "      <th>alt.atheism</th>\n",
        "      <td> 0.017614</td>\n",
        "      <td> 0.586662</td>\n",
        "      <td> 0.031526</td>\n",
        "      <td> 0.081841</td>\n",
        "      <td> 0.040754</td>\n",
        "      <td> 0.241603</td>\n",
        "    </tr>\n",
        "    <tr>\n",
        "      <th>comp.graphics</th>\n",
        "      <td> 0.245656</td>\n",
        "      <td> 0.179385</td>\n",
        "      <td> 0.065437</td>\n",
        "      <td> 0.079696</td>\n",
        "      <td> 0.272617</td>\n",
        "      <td> 0.152073</td>\n",
        "    </tr>\n",
        "    <tr>\n",
        "      <th>rec.motorcycles</th>\n",
        "      <td> 0.056849</td>\n",
        "      <td> 0.310462</td>\n",
        "      <td> 0.089935</td>\n",
        "      <td> 0.145155</td>\n",
        "      <td> 0.078611</td>\n",
        "      <td> 0.317315</td>\n",
        "    </tr>\n",
        "    <tr>\n",
        "      <th>sci.space</th>\n",
        "      <td> 0.054117</td>\n",
        "      <td> 0.213377</td>\n",
        "      <td> 0.396161</td>\n",
        "      <td> 0.076484</td>\n",
        "      <td> 0.063058</td>\n",
        "      <td> 0.196803</td>\n",
        "    </tr>\n",
        "    <tr>\n",
        "      <th>talk.politics.guns</th>\n",
        "      <td> 0.018553</td>\n",
        "      <td> 0.281046</td>\n",
        "      <td> 0.051000</td>\n",
        "      <td> 0.383135</td>\n",
        "      <td> 0.032848</td>\n",
        "      <td> 0.233418</td>\n",
        "    </tr>\n",
        "    <tr>\n",
        "      <th>talk.religion.misc</th>\n",
        "      <td> 0.025825</td>\n",
        "      <td> 0.442207</td>\n",
        "      <td> 0.041326</td>\n",
        "      <td> 0.099208</td>\n",
        "      <td> 0.039480</td>\n",
        "      <td> 0.346649</td>\n",
        "    </tr>\n",
        "  </tbody>\n",
        "</table>\n",
        "</div>"
       ],
       "metadata": {},
       "output_type": "pyout",
       "prompt_number": 93,
       "text": [
        "                    graphics pub edu  god atheists people  \\\n",
        "newsgroup                                                   \n",
        "alt.atheism                 0.017614             0.586662   \n",
        "comp.graphics               0.245656             0.179385   \n",
        "rec.motorcycles             0.056849             0.310462   \n",
        "sci.space                   0.054117             0.213377   \n",
        "talk.politics.guns          0.018553             0.281046   \n",
        "talk.religion.misc          0.025825             0.442207   \n",
        "\n",
        "                    space launch satellite  gun firearms control  \\\n",
        "newsgroup                                                          \n",
        "alt.atheism                       0.031526              0.081841   \n",
        "comp.graphics                     0.065437              0.079696   \n",
        "rec.motorcycles                   0.089935              0.145155   \n",
        "sci.space                         0.396161              0.076484   \n",
        "talk.politics.guns                0.051000              0.383135   \n",
        "talk.religion.misc                0.041326              0.099208   \n",
        "\n",
        "                    image gif file  jesus matthew people  \n",
        "newsgroup                                                 \n",
        "alt.atheism               0.040754              0.241603  \n",
        "comp.graphics             0.272617              0.152073  \n",
        "rec.motorcycles           0.078611              0.317315  \n",
        "sci.space                 0.063058              0.196803  \n",
        "talk.politics.guns        0.032848              0.233418  \n",
        "talk.religion.misc        0.039480              0.346649  "
       ]
      }
     ],
     "prompt_number": 93
    },
    {
     "cell_type": "code",
     "collapsed": false,
     "input": [
      "times = {}\n",
      "\n",
      "times['NMF'] = (datetime.now() - start_time).seconds"
     ],
     "language": "python",
     "metadata": {},
     "outputs": [],
     "prompt_number": 94
    },
    {
     "cell_type": "code",
     "collapsed": false,
     "input": [
      "from gensim import corpora, models, similarities, matutils \n"
     ],
     "language": "python",
     "metadata": {},
     "outputs": [],
     "prompt_number": 95
    },
    {
     "cell_type": "code",
     "collapsed": false,
     "input": [
      "id2word = dict((v, k) for k, v in vectorizer.vocabulary_.iteritems())\n",
      "corpus_vect_gensim = matutils.Sparse2Corpus(corpus_tfidf, documents_columns=False)"
     ],
     "language": "python",
     "metadata": {},
     "outputs": [],
     "prompt_number": 96
    },
    {
     "cell_type": "code",
     "collapsed": false,
     "input": [
      "countervectorizer = CountVectorizer(max_df=0.7, min_df=.05, stop_words='english')\n",
      "\n",
      "countervectorizer.fit(df['text'])\n",
      "corpus_tf = countervectorizer.transform(df['text'])\n",
      "\n",
      "id2word = dict((v, k) for k, v in countervectorizer.vocabulary_.iteritems())\n",
      "corpus_vect_gensim = matutils.Sparse2Corpus(corpus_tf, documents_columns=False)"
     ],
     "language": "python",
     "metadata": {},
     "outputs": [],
     "prompt_number": 97
    },
    {
     "cell_type": "code",
     "collapsed": false,
     "input": [
      "start_time = datetime.now()\n",
      "\n",
      "lda = models.LdaModel(corpus_vect_gensim, \n",
      "                      id2word = id2word, \n",
      "                      num_topics = number_of_topics,\n",
      "                      passes=10)"
     ],
     "language": "python",
     "metadata": {},
     "outputs": [],
     "prompt_number": 98
    },
    {
     "cell_type": "code",
     "collapsed": false,
     "input": [
      "gensim_topic_labels = []\n",
      "\n",
      "\n",
      "for i in range(0, number_of_topics):\n",
      "    temp = lda.show_topic(i, 10)\n",
      "    terms = []\n",
      "    for term in temp:\n",
      "        terms.append(term[1])\n",
      "    print \"topic #\"  + str(i)\n",
      "    print  \", \".join(terms)\n",
      "    gensim_topic_labels.append(\" \".join(terms[:3]))\n"
     ],
     "language": "python",
     "metadata": {},
     "outputs": [
      {
       "output_type": "stream",
       "stream": "stdout",
       "text": [
        "topic #0\n",
        "gun, people, guns, government, control, don, right, use, think, self\n",
        "topic #1\n",
        "law, article, state, writes, wrote, question, does, right, order, john\n",
        "topic #2\n",
        "writes, article, just, like, don, think, know, time, going, said\n",
        "topic #3\n",
        "god, people, don, think, say, believe, does, just, good, know\n",
        "topic #4\n",
        "space, information, available, science, program, earth, use, new, time, 10\n",
        "topic #5\n",
        "bike, graphics, like, dod, know, thanks, need, good, don, bit\n"
       ]
      }
     ],
     "prompt_number": 99
    },
    {
     "cell_type": "code",
     "collapsed": false,
     "input": [
      "y_hat_gs = []\n",
      "for item in corpus_vect_gensim:\n",
      "    y_dict = dict(lda[item])\n",
      "    y_list = [y_dict.get(i,0) for i in range(0,number_of_topics)]\n",
      "    y_hat_gs.append(y_list)\n",
      "\n",
      "df_y_hat = pd.DataFrame(y_hat_gs, \n",
      "                        columns=gensim_topic_labels,  # Use our informative topic names\n",
      "                        index=df.index.values) # Makes merge easier\n",
      "\n",
      "df_gensim = df.join(df_y_hat) # This is a new data set, so you can remerge"
     ],
     "language": "python",
     "metadata": {},
     "outputs": [],
     "prompt_number": 100
    },
    {
     "cell_type": "code",
     "collapsed": false,
     "input": [
      "df_gensim.groupby('newsgroup').mean()"
     ],
     "language": "python",
     "metadata": {},
     "outputs": [
      {
       "html": [
        "<div style=\"max-height:1000px;max-width:1500px;overflow:auto;\">\n",
        "<table border=\"1\" class=\"dataframe\">\n",
        "  <thead>\n",
        "    <tr style=\"text-align: right;\">\n",
        "      <th></th>\n",
        "      <th>gun people guns</th>\n",
        "      <th>law article state</th>\n",
        "      <th>writes article just</th>\n",
        "      <th>god people don</th>\n",
        "      <th>space information available</th>\n",
        "      <th>bike graphics like</th>\n",
        "    </tr>\n",
        "    <tr>\n",
        "      <th>newsgroup</th>\n",
        "      <th></th>\n",
        "      <th></th>\n",
        "      <th></th>\n",
        "      <th></th>\n",
        "      <th></th>\n",
        "      <th></th>\n",
        "    </tr>\n",
        "  </thead>\n",
        "  <tbody>\n",
        "    <tr>\n",
        "      <th>alt.atheism</th>\n",
        "      <td> 0.035384</td>\n",
        "      <td> 0.103402</td>\n",
        "      <td> 0.312503</td>\n",
        "      <td> 0.468718</td>\n",
        "      <td> 0.034756</td>\n",
        "      <td> 0.032023</td>\n",
        "    </tr>\n",
        "    <tr>\n",
        "      <th>comp.graphics</th>\n",
        "      <td> 0.035872</td>\n",
        "      <td> 0.126152</td>\n",
        "      <td> 0.141059</td>\n",
        "      <td> 0.065062</td>\n",
        "      <td> 0.130110</td>\n",
        "      <td> 0.493182</td>\n",
        "    </tr>\n",
        "    <tr>\n",
        "      <th>rec.motorcycles</th>\n",
        "      <td> 0.034045</td>\n",
        "      <td> 0.082187</td>\n",
        "      <td> 0.411751</td>\n",
        "      <td> 0.063169</td>\n",
        "      <td> 0.036651</td>\n",
        "      <td> 0.359911</td>\n",
        "    </tr>\n",
        "    <tr>\n",
        "      <th>sci.space</th>\n",
        "      <td> 0.047262</td>\n",
        "      <td> 0.079162</td>\n",
        "      <td> 0.418469</td>\n",
        "      <td> 0.071015</td>\n",
        "      <td> 0.282546</td>\n",
        "      <td> 0.090087</td>\n",
        "    </tr>\n",
        "    <tr>\n",
        "      <th>talk.politics.guns</th>\n",
        "      <td> 0.350973</td>\n",
        "      <td> 0.153750</td>\n",
        "      <td> 0.282600</td>\n",
        "      <td> 0.123676</td>\n",
        "      <td> 0.029506</td>\n",
        "      <td> 0.047835</td>\n",
        "    </tr>\n",
        "    <tr>\n",
        "      <th>talk.religion.misc</th>\n",
        "      <td> 0.044748</td>\n",
        "      <td> 0.168129</td>\n",
        "      <td> 0.269688</td>\n",
        "      <td> 0.414804</td>\n",
        "      <td> 0.048416</td>\n",
        "      <td> 0.043122</td>\n",
        "    </tr>\n",
        "  </tbody>\n",
        "</table>\n",
        "</div>"
       ],
       "metadata": {},
       "output_type": "pyout",
       "prompt_number": 101,
       "text": [
        "                    gun people guns  law article state  writes article just  \\\n",
        "newsgroup                                                                     \n",
        "alt.atheism                0.035384           0.103402             0.312503   \n",
        "comp.graphics              0.035872           0.126152             0.141059   \n",
        "rec.motorcycles            0.034045           0.082187             0.411751   \n",
        "sci.space                  0.047262           0.079162             0.418469   \n",
        "talk.politics.guns         0.350973           0.153750             0.282600   \n",
        "talk.religion.misc         0.044748           0.168129             0.269688   \n",
        "\n",
        "                    god people don  space information available  \\\n",
        "newsgroup                                                         \n",
        "alt.atheism               0.468718                     0.034756   \n",
        "comp.graphics             0.065062                     0.130110   \n",
        "rec.motorcycles           0.063169                     0.036651   \n",
        "sci.space                 0.071015                     0.282546   \n",
        "talk.politics.guns        0.123676                     0.029506   \n",
        "talk.religion.misc        0.414804                     0.048416   \n",
        "\n",
        "                    bike graphics like  \n",
        "newsgroup                               \n",
        "alt.atheism                   0.032023  \n",
        "comp.graphics                 0.493182  \n",
        "rec.motorcycles               0.359911  \n",
        "sci.space                     0.090087  \n",
        "talk.politics.guns            0.047835  \n",
        "talk.religion.misc            0.043122  "
       ]
      }
     ],
     "prompt_number": 101
    },
    {
     "cell_type": "code",
     "collapsed": false,
     "input": [
      "times['Gensim'] = (datetime.now() - start_time).seconds\n"
     ],
     "language": "python",
     "metadata": {},
     "outputs": [],
     "prompt_number": 102
    },
    {
     "cell_type": "code",
     "collapsed": false,
     "input": [
      "import lda\n",
      "import numpy as np\n"
     ],
     "language": "python",
     "metadata": {},
     "outputs": [],
     "prompt_number": 103
    },
    {
     "cell_type": "code",
     "collapsed": false,
     "input": [
      "countervectorizer = CountVectorizer(max_df=0.7, min_df=.01, stop_words='english')\n",
      "\n",
      "countervectorizer.fit(df['text'])\n",
      "corpus_tf = countervectorizer.transform(df['text'])"
     ],
     "language": "python",
     "metadata": {},
     "outputs": [],
     "prompt_number": 104
    },
    {
     "cell_type": "code",
     "collapsed": false,
     "input": [
      "vocab = [w for w in sorted(countervectorizer.vocabulary_)]\n",
      "\n",
      "model = lda.LDA(n_topics= number_of_topics,\n",
      "                n_iter=500)"
     ],
     "language": "python",
     "metadata": {},
     "outputs": [],
     "prompt_number": 105
    },
    {
     "cell_type": "code",
     "collapsed": false,
     "input": [
      "start_time = datetime.now()\n",
      "\n",
      "model.fit(corpus_tf.toarray())"
     ],
     "language": "python",
     "metadata": {},
     "outputs": [
      {
       "output_type": "stream",
       "stream": "stderr",
       "text": [
        "WARNING:lda:all zero row in document-term matrix found\n"
       ]
      },
      {
       "metadata": {},
       "output_type": "pyout",
       "prompt_number": 106,
       "text": [
        "<lda.lda.LDA instance at 0x109d55d88>"
       ]
      }
     ],
     "prompt_number": 106
    },
    {
     "cell_type": "code",
     "collapsed": false,
     "input": [
      "len(vocab)"
     ],
     "language": "python",
     "metadata": {},
     "outputs": [
      {
       "metadata": {},
       "output_type": "pyout",
       "prompt_number": 107,
       "text": [
        "1784"
       ]
      }
     ],
     "prompt_number": 107
    },
    {
     "cell_type": "code",
     "collapsed": false,
     "input": [
      "topic_word = model.topic_word_\n",
      "lda_topic_labels = []\n",
      "\n",
      "n_top_words = 10\n",
      "for i, topic_dist in enumerate(topic_word):\n",
      "    \n",
      "    topic_words = np.array(vocab)[np.argsort(topic_dist)][:-n_top_words:-1]\n",
      "    print('Topic {}: {}'.format(i, ' '.join(topic_words)))\n",
      "    lda_topic_labels.append(' '.join(topic_words[:3]))"
     ],
     "language": "python",
     "metadata": {},
     "outputs": [
      {
       "output_type": "stream",
       "stream": "stdout",
       "text": [
        "Topic 0: god christian bible religion does objective say atheism true\n",
        "Topic 1: gun guns law weapons firearms government control crime people\n",
        "Topic 2: image graphics file software ftp mail files available images\n",
        "Topic 3: writes article bike dod like just don know ride\n",
        "Topic 4: space nasa earth ___ launch orbit moon new data\n",
        "Topic 5: writes people don article think just like know time\n"
       ]
      }
     ],
     "prompt_number": 108
    },
    {
     "cell_type": "code",
     "collapsed": false,
     "input": [
      "df_y_hat = pd.DataFrame(model.doc_topic_, \n",
      "                        columns=lda_topic_labels,  # Use our informative topic names\n",
      "                        index=df.index.values) # Makes merge easier\n",
      "\n",
      "df_lda = df.join(df_y_hat) # This is a new data set, so you can remerge"
     ],
     "language": "python",
     "metadata": {},
     "outputs": [],
     "prompt_number": 109
    },
    {
     "cell_type": "code",
     "collapsed": false,
     "input": [
      "df_lda.groupby('newsgroup').mean()"
     ],
     "language": "python",
     "metadata": {},
     "outputs": [
      {
       "html": [
        "<div style=\"max-height:1000px;max-width:1500px;overflow:auto;\">\n",
        "<table border=\"1\" class=\"dataframe\">\n",
        "  <thead>\n",
        "    <tr style=\"text-align: right;\">\n",
        "      <th></th>\n",
        "      <th>god christian bible</th>\n",
        "      <th>gun guns law</th>\n",
        "      <th>image graphics file</th>\n",
        "      <th>writes article bike</th>\n",
        "      <th>space nasa earth</th>\n",
        "      <th>writes people don</th>\n",
        "    </tr>\n",
        "    <tr>\n",
        "      <th>newsgroup</th>\n",
        "      <th></th>\n",
        "      <th></th>\n",
        "      <th></th>\n",
        "      <th></th>\n",
        "      <th></th>\n",
        "      <th></th>\n",
        "    </tr>\n",
        "  </thead>\n",
        "  <tbody>\n",
        "    <tr>\n",
        "      <th>alt.atheism</th>\n",
        "      <td> 0.232005</td>\n",
        "      <td> 0.032510</td>\n",
        "      <td> 0.026223</td>\n",
        "      <td> 0.037830</td>\n",
        "      <td> 0.024511</td>\n",
        "      <td> 0.646921</td>\n",
        "    </tr>\n",
        "    <tr>\n",
        "      <th>comp.graphics</th>\n",
        "      <td> 0.014381</td>\n",
        "      <td> 0.016838</td>\n",
        "      <td> 0.575788</td>\n",
        "      <td> 0.107570</td>\n",
        "      <td> 0.067351</td>\n",
        "      <td> 0.218072</td>\n",
        "    </tr>\n",
        "    <tr>\n",
        "      <th>rec.motorcycles</th>\n",
        "      <td> 0.014715</td>\n",
        "      <td> 0.024995</td>\n",
        "      <td> 0.043104</td>\n",
        "      <td> 0.649216</td>\n",
        "      <td> 0.059637</td>\n",
        "      <td> 0.208332</td>\n",
        "    </tr>\n",
        "    <tr>\n",
        "      <th>sci.space</th>\n",
        "      <td> 0.013305</td>\n",
        "      <td> 0.019958</td>\n",
        "      <td> 0.083349</td>\n",
        "      <td> 0.103779</td>\n",
        "      <td> 0.413116</td>\n",
        "      <td> 0.366493</td>\n",
        "    </tr>\n",
        "    <tr>\n",
        "      <th>talk.politics.guns</th>\n",
        "      <td> 0.015823</td>\n",
        "      <td> 0.283593</td>\n",
        "      <td> 0.033185</td>\n",
        "      <td> 0.077032</td>\n",
        "      <td> 0.039087</td>\n",
        "      <td> 0.551279</td>\n",
        "    </tr>\n",
        "    <tr>\n",
        "      <th>talk.religion.misc</th>\n",
        "      <td> 0.204273</td>\n",
        "      <td> 0.039460</td>\n",
        "      <td> 0.039995</td>\n",
        "      <td> 0.054022</td>\n",
        "      <td> 0.043737</td>\n",
        "      <td> 0.618512</td>\n",
        "    </tr>\n",
        "  </tbody>\n",
        "</table>\n",
        "</div>"
       ],
       "metadata": {},
       "output_type": "pyout",
       "prompt_number": 110,
       "text": [
        "                    god christian bible  gun guns law  image graphics file  \\\n",
        "newsgroup                                                                    \n",
        "alt.atheism                    0.232005      0.032510             0.026223   \n",
        "comp.graphics                  0.014381      0.016838             0.575788   \n",
        "rec.motorcycles                0.014715      0.024995             0.043104   \n",
        "sci.space                      0.013305      0.019958             0.083349   \n",
        "talk.politics.guns             0.015823      0.283593             0.033185   \n",
        "talk.religion.misc             0.204273      0.039460             0.039995   \n",
        "\n",
        "                    writes article bike  space nasa earth  writes people don  \n",
        "newsgroup                                                                     \n",
        "alt.atheism                    0.037830          0.024511           0.646921  \n",
        "comp.graphics                  0.107570          0.067351           0.218072  \n",
        "rec.motorcycles                0.649216          0.059637           0.208332  \n",
        "sci.space                      0.103779          0.413116           0.366493  \n",
        "talk.politics.guns             0.077032          0.039087           0.551279  \n",
        "talk.religion.misc             0.054022          0.043737           0.618512  "
       ]
      }
     ],
     "prompt_number": 110
    },
    {
     "cell_type": "code",
     "collapsed": false,
     "input": [
      "times['LDA'] = (datetime.now() - start_time).seconds\n",
      "\n"
     ],
     "language": "python",
     "metadata": {},
     "outputs": [],
     "prompt_number": 111
    },
    {
     "cell_type": "code",
     "collapsed": false,
     "input": [
      "for method in times:\n",
      "    print '%s took %s seconds.' % (method, times[method])"
     ],
     "language": "python",
     "metadata": {},
     "outputs": [
      {
       "output_type": "stream",
       "stream": "stdout",
       "text": [
        "NMF took 0 seconds.\n",
        "LDA took 11 seconds.\n",
        "Gensim took 44 seconds.\n"
       ]
      }
     ],
     "prompt_number": 112
    },
    {
     "cell_type": "code",
     "collapsed": false,
     "input": [
      "lr = LogisticRegression()"
     ],
     "language": "python",
     "metadata": {},
     "outputs": [],
     "prompt_number": 113
    },
    {
     "cell_type": "code",
     "collapsed": false,
     "input": [
      "lr.fit(df_lda[lda_topic_labels[:-1]], df_lda['newsgroup'] )\n",
      "prediction = lr.predict(df_lda[lda_topic_labels[:-1]])\n",
      "accuracy_score(df_lda['newsgroup'], prediction )\n",
      "confusion_matrix(df_lda['newsgroup'], prediction )"
     ],
     "language": "python",
     "metadata": {},
     "outputs": [
      {
       "metadata": {},
       "output_type": "pyout",
       "prompt_number": 114,
       "text": [
        "array([[388,  12,  14,  16,  50,   0],\n",
        "       [ 15, 495,  25,  41,   8,   0],\n",
        "       [ 11,  16, 526,  29,  16,   0],\n",
        "       [ 25,  46,  35, 474,  13,   0],\n",
        "       [ 53,  13,  24,  23, 433,   0],\n",
        "       [277,  17,  22,  18,  43,   0]])"
       ]
      }
     ],
     "prompt_number": 114
    },
    {
     "cell_type": "code",
     "collapsed": false,
     "input": [
      "lr.fit(df_gensim[gensim_topic_labels[:-1]], df_lda['newsgroup'] )\n",
      "prediction = lr.predict(df_gensim[gensim_topic_labels[:-1]])\n",
      "accuracy_score(df_gensim['newsgroup'], prediction )\n",
      "confusion_matrix(df_gensim['newsgroup'], prediction )"
     ],
     "language": "python",
     "metadata": {},
     "outputs": [
      {
       "metadata": {},
       "output_type": "pyout",
       "prompt_number": 115,
       "text": [
        "array([[301,  17,  83,  26,  38,  15],\n",
        "       [ 24, 360,  86,  80,  32,   2],\n",
        "       [ 29, 180, 317,  38,  32,   2],\n",
        "       [ 36,  72, 114, 330,  39,   2],\n",
        "       [ 63,  31,  61,  23, 359,   9],\n",
        "       [200,  25,  55,  29,  42,  26]])"
       ]
      }
     ],
     "prompt_number": 115
    },
    {
     "cell_type": "code",
     "collapsed": false,
     "input": [
      "def cmplot(y_true, y_pred, labels):\n",
      "    print classification_report(y_true, y_pred, labels)\n",
      "    cm = confusion_matrix(y_true, y_pred, labels)\n",
      "    correct = accuracy_score(y_true,y_pred )*100\n",
      "    fig = plt.figure()\n",
      "    ax = fig.add_subplot(111)\n",
      "    cax = ax.matshow(cm)\n",
      "    plt.title('Confusion matrix of the classifier\\n %.1f%% correctly classified' %  correct)\n",
      "    fig.colorbar(cax)\n",
      "    ax.set_xticklabels([''] )\n",
      "    ax.set_yticklabels([''] + categories)\n",
      "    plt.xlabel('Predicted')\n",
      "    plt.ylabel('True')\n",
      "    plt.show()\n"
     ],
     "language": "python",
     "metadata": {},
     "outputs": [],
     "prompt_number": 116
    },
    {
     "cell_type": "code",
     "collapsed": false,
     "input": [
      "cmplot(df['newsgroup'], prediction, categories)"
     ],
     "language": "python",
     "metadata": {},
     "outputs": [
      {
       "output_type": "stream",
       "stream": "stdout",
       "text": [
        "             precision    recall  f1-score   support\n",
        "\n",
        "alt.atheism       0.46      0.63      0.53       480\n",
        "talk.religion.misc       0.46      0.07      0.12       377\n",
        "comp.graphics       0.53      0.62      0.57       584\n",
        "  sci.space       0.63      0.56      0.59       593\n",
        "rec.motorcycles       0.44      0.53      0.48       598\n",
        "talk.politics.guns       0.66      0.66      0.66       546\n",
        "\n",
        "avg / total       0.54      0.53      0.51      3178\n",
        "\n"
       ]
      },
      {
       "metadata": {},
       "output_type": "display_data",
       "png": "[encoded data removed]",
       "text": [
        "<matplotlib.figure.Figure at 0x10d22de90>"
       ]
      }
     ],
     "prompt_number": 117
    },
    {
     "cell_type": "code",
     "collapsed": false,
     "input": [
      "lr.fit(df_nmf[topic_labels[:-1]].fillna(0), df_lda['newsgroup'] )\n"
     ],
     "language": "python",
     "metadata": {},
     "outputs": [
      {
       "metadata": {},
       "output_type": "pyout",
       "prompt_number": 118,
       "text": [
        "LogisticRegression(C=1.0, class_weight=None, dual=False, fit_intercept=True,\n",
        "          intercept_scaling=1, penalty='l2', random_state=None, tol=0.0001)"
       ]
      }
     ],
     "prompt_number": 118
    },
    {
     "cell_type": "code",
     "collapsed": false,
     "input": [
      "lr.fit(df_nmf[topic_labels[:-1]], df_lda['newsgroup'] )\n",
      "nmf_prediction = lr.predict(df_nmf[topic_labels[:-1]])\n",
      "\n",
      "cmplot(df['newsgroup'], nmf_prediction, categories)"
     ],
     "language": "python",
     "metadata": {},
     "outputs": [
      {
       "output_type": "stream",
       "stream": "stdout",
       "text": [
        "             precision    recall  f1-score   support\n",
        "\n",
        "alt.atheism       0.50      0.70      0.59       480\n",
        "talk.religion.misc       0.61      0.03      0.06       377\n",
        "comp.graphics       0.76      0.83      0.79       584\n",
        "  sci.space       0.76      0.75      0.76       593\n",
        "rec.motorcycles       0.44      0.49      0.47       598\n",
        "talk.politics.guns       0.65      0.73      0.69       546\n",
        "\n",
        "avg / total       0.63      0.62      0.59      3178\n",
        "\n"
       ]
      },
      {
       "metadata": {},
       "output_type": "display_data",
       "png": "[encoded data removed]",
       "text": [
        "<matplotlib.figure.Figure at 0x109d23310>"
       ]
      }
     ],
     "prompt_number": 119
    },
    {
     "cell_type": "code",
     "collapsed": false,
     "input": [
      "lr.fit(df_lda[lda_topic_labels[:-1]], df_lda['newsgroup'] )\n",
      "lda_prediction = lr.predict(df_lda[lda_topic_labels[:-1]])\n",
      "\n",
      "cmplot(df['newsgroup'], lda_prediction, categories)"
     ],
     "language": "python",
     "metadata": {},
     "outputs": [
      {
       "output_type": "stream",
       "stream": "stdout",
       "text": [
        "             precision    recall  f1-score   support\n",
        "\n",
        "alt.atheism       0.50      0.81      0.62       480\n",
        "talk.religion.misc       0.00      0.00      0.00       377\n",
        "comp.graphics       0.83      0.85      0.84       584\n",
        "  sci.space       0.79      0.80      0.79       593\n",
        "rec.motorcycles       0.81      0.88      0.85       598\n",
        "talk.politics.guns       0.77      0.79      0.78       546\n",
        "\n",
        "avg / total       0.66      0.73      0.69      3178\n",
        "\n"
       ]
      },
      {
       "metadata": {},
       "output_type": "display_data",
       "png": "[encoded data removed]",
       "text": [
        "<matplotlib.figure.Figure at 0x10bd07510>"
       ]
      }
     ],
     "prompt_number": 120
    },
    {
     "cell_type": "code",
     "collapsed": false,
     "input": [],
     "language": "python",
     "metadata": {},
     "outputs": [],
     "prompt_number": 120
    }
   ],
   "metadata": {}
  }
 ]
}