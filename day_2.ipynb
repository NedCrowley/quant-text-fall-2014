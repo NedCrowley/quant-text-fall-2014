{
 "metadata": {
  "name": "",
  "signature": "sha256:c368274e55f677e5937468f72fadc6590f0d3f828b5fbe4f1ca926fe1bf2c81b"
 },
 "nbformat": 3,
 "nbformat_minor": 0,
 "worksheets": [
  {
   "cells": [
    {
     "cell_type": "markdown",
     "metadata": {},
     "source": [
      "## In Class Assignment for August 25th \n",
      "### What is the difference between a roundtable paper and regular/section session paper?  \n",
      "\n",
      "Work with a partner to compare the most frequently used words in #asa14 papers that are presentend at roundtables with those that are presented in regular or section sessions. \n",
      "\n",
      "To make things easier, I've created two lists of #asa14 abstracts. `roundtable_abstracts` has the abstracts of roundtable papers while `panel_abstracts` has the abstracts of papers presented on panels. I've extracted them from a csv file that I've [made available](https://gist.github.com/nealcaren/886c85645695d04887d0) on Github.\n",
      "\n",
      "Break up the assignment into the following discrete tasks:\n",
      "\n",
      "1. Create a `word_clean` function that that takes a single word and returns a lower-cased version of it with all punctation removed.  \n",
      "2. Create a  function `text_clean` that takes a string of words and returns a list of unique, cleaned words. Use your `word_clean` function as part of it.\n",
      "3. Create a dictionary where the keys are the words in the roundtable abstracts and the values are the frequencies. \n",
      "4. Print out the 50 most frequently used words in roundtable abstracts.\n",
      "5. Repeat steps 3 and 4 for panel sessions, and compare the lists.\n",
      "6. Bonus: If you have time, replace the counts in the dictionaries with percents. This requires you to know the total number of words used for each presentation type. Then create a new dictionary that is the ratio of the percents, so you can look at the words that are dispropritaly found in each type of paper. You might limit yourself to words that are used at least 10 times.  "
     ]
    },
    {
     "cell_type": "code",
     "collapsed": false,
     "input": [
      "#Potential useful things to know\n",
      "\n",
      "word = 'Hi!'\n",
      "print word\n",
      "print word.lower()\n",
      "print word.strip('!')\n",
      "print word.strip('.!,')\n",
      "\n",
      "from string import punctuation \n",
      "print punctuation "
     ],
     "language": "python",
     "metadata": {},
     "outputs": [
      {
       "output_type": "stream",
       "stream": "stdout",
       "text": [
        "Hi!\n",
        "hi!\n",
        "Hi\n",
        "Hi\n",
        "!\"#$%&'()*+,-./:;<=>?@[\\]^_`{|}~\n"
       ]
      }
     ],
     "prompt_number": 1
    },
    {
     "cell_type": "code",
     "collapsed": false,
     "input": [
      "sentence = 'We investigate the following question: how have RTAs helped separatist and autonomous movements in their ambitions?'\n",
      "print sentence.split()\n",
      "\n",
      "words = sentence.split()\n",
      "print words\n",
      "\n",
      "print set(['A','A','B','B'])\n",
      "print set(words)\n"
     ],
     "language": "python",
     "metadata": {},
     "outputs": [
      {
       "output_type": "stream",
       "stream": "stdout",
       "text": [
        "['We', 'investigate', 'the', 'following', 'question:', 'how', 'have', 'RTAs', 'helped', 'separatist', 'and', 'autonomous', 'movements', 'in', 'their', 'ambitions?']\n",
        "['We', 'investigate', 'the', 'following', 'question:', 'how', 'have', 'RTAs', 'helped', 'separatist', 'and', 'autonomous', 'movements', 'in', 'their', 'ambitions?']\n",
        "set(['A', 'B'])\n",
        "set(['and', 'separatist', 'We', 'their', 'RTAs', 'helped', 'how', 'investigate', 'ambitions?', 'have', 'in', 'following', 'the', 'movements', 'autonomous', 'question:'])\n"
       ]
      }
     ],
     "prompt_number": 2
    },
    {
     "cell_type": "code",
     "collapsed": false,
     "input": [
      "word_freqs = {'investigate ' : 50,\n",
      "         'following ' : 20,\n",
      "         'question' : 55}\n",
      "\n",
      "print word_freqs\n",
      "\n",
      "for word in sorted(word_freqs, key = word_freqs.get, reverse=True):\n",
      "    print word_freqs[word], word "
     ],
     "language": "python",
     "metadata": {},
     "outputs": [
      {
       "output_type": "stream",
       "stream": "stdout",
       "text": [
        "{'following ': 20, 'question': 55, 'investigate ': 50}\n",
        "55 question\n",
        "50 investigate \n",
        "20 following \n"
       ]
      }
     ],
     "prompt_number": 3
    },
    {
     "cell_type": "code",
     "collapsed": false,
     "input": [
      "# Read in the abstracts\n",
      "\n",
      "import csv\n",
      "import urllib2 \n",
      "\n",
      "file_location = 'https://gist.githubusercontent.com/nealcaren/886c85645695d04887d0/raw/fec90e5cc1257f277f97a904a4f1cb77f60b2012/asa_2014_prelim.csv'\n",
      "response = urllib2.urlopen(file_location)\n",
      "abstracts = list(csv.reader(response))"
     ],
     "language": "python",
     "metadata": {},
     "outputs": [],
     "prompt_number": 4
    },
    {
     "cell_type": "code",
     "collapsed": false,
     "input": [
      "#Sample abstract\n",
      "\n",
      "abstracts[500]"
     ],
     "language": "python",
     "metadata": {},
     "outputs": [
      {
       "metadata": {},
       "output_type": "pyout",
       "prompt_number": 5,
       "text": [
        "['721813',\n",
        " 'Francesco Giovanni Duina, University of British Columbia; Jared Bok, Emory University',\n",
        " 'Tue, August 19, 2:30 to 4:10pm, TBA',\n",
        " 'Regular Session. Citizenship and Identities in the Globalized World',\n",
        " 'Capitalizing on Regional Integration: Sub-national Movements and the Rhetorical Leveraging of NAFTA and the EU',\n",
        " 'Regular',\n",
        " 'This paper contributes to the growing comparative scholarship on regional trade agreements (RTAs) and the dynamics they engender in national and local life. An objective of that scholarship is to identify patterns across RTAs. We investigate the following question: how have RTAs helped separatist and autonomous movements in their ambitions? We propose that both the left- and right-leaning movements have successfully appropriated, in positive and negative language, RTAs in their rhetoric to articulate not only their goals against their nation states but also their claims against those who oppose them. We identify four factors that might explain the observable differences in rhetorical approaches. The empirical evidence concerns the Quebecois nationalists in Canada, Converg\\xc3\\xa8ncia i Uni\\xc3\\xb3 in Spain, the Zapatistas in Mexico, and the Lega Nord in Italy. We conclude by reflecting on the possible local and regional impact of the observed rhetorical leveraging across RTAs.']"
       ]
      }
     ],
     "prompt_number": 5
    },
    {
     "cell_type": "code",
     "collapsed": false,
     "input": [
      "#Create two lists, one for the roundtables and one for the panel papers\n",
      "\n",
      "roundtable_abstracts = []\n",
      "panel_abstracts = []\n",
      "\n",
      "for abstract in abstracts:\n",
      "    if 'Roundtable' in abstract[3]:\n",
      "        roundtable_abstracts.append(abstract[-1])\n",
      "    elif 'Regular Session' in abstract[3] or 'Section on '  in abstract[3]:\n",
      "        panel_abstracts.append(abstract[-1])"
     ],
     "language": "python",
     "metadata": {},
     "outputs": [],
     "prompt_number": 6
    },
    {
     "cell_type": "code",
     "collapsed": false,
     "input": [
      "#Your functions go here\n"
     ],
     "language": "python",
     "metadata": {},
     "outputs": [],
     "prompt_number": 7
    },
    {
     "cell_type": "code",
     "collapsed": false,
     "input": [
      "#Your loop goes here\n"
     ],
     "language": "python",
     "metadata": {},
     "outputs": [],
     "prompt_number": 8
    },
    {
     "cell_type": "code",
     "collapsed": false,
     "input": [
      "#print out some frequencies!"
     ],
     "language": "python",
     "metadata": {},
     "outputs": [],
     "prompt_number": 9
    }
   ],
   "metadata": {}
  }
 ]
}